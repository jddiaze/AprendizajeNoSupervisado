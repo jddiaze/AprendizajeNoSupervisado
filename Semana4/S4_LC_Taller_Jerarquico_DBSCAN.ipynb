{
 "cells": [
  {
   "cell_type": "markdown",
   "metadata": {},
   "source": [
    "<div >\n",
    "<img src = \"figs/ans_banner_1920x200.png\" />\n",
    "</div>"
   ]
  },
  {
   "cell_type": "markdown",
   "metadata": {},
   "source": [
    "# Caso-taller:  Segmentación de Clientes con Clustering Jerárquico y DBSCAN"
   ]
  },
  {
   "cell_type": "markdown",
   "metadata": {},
   "source": [
    "El objetivo de este caso-taller es analizar una base de datos ficticia sobre clientes de una tienda y buscar encontrar grupos de clientes que permitan generar estrategias de marketing focalizadas. La base se encuentra en los `Archivos de Laboratorio` en la carpeta `data` y cuenta con 200 observaciones y 5 variables:\n",
    "\n",
    "- `Id_Cliente`: identificador de cliente.\n",
    "- `Genero`: género del cliente: Mujer, Hombre\n",
    "- `Edad`: edad en años\n",
    "- `Ingreso`: ingresos anuales\n",
    "- `Puntaje_Gasto`: es una variable que mide cuán a menudo un cliente compra en la tienda, siendo 100 el puntaje más alto.\n"
   ]
  },
  {
   "cell_type": "markdown",
   "metadata": {},
   "source": [
    "## Instrucciones generales\n",
    "\n",
    "1. Para desarrollar el *cuaderno* primero debe descargarlo.\n",
    "\n",
    "2. Para responder cada inciso deberá utilizar el espacio debidamente especificado.\n",
    "\n",
    "3. La actividad será calificada sólo si sube el *cuaderno* de jupyter notebook con extensión `.ipynb` en la actividad designada como \"entrega calificada por el personal\".\n",
    "\n",
    "4. El archivo entregado debe poder ser ejecutado localmente por el tutor. Sea cuidadoso con la especificación de la ubicación de los archivos de soporte, guarde la carpeta de datos en el mismo `path` de su cuaderno, por ejemplo: `data`."
   ]
  },
  {
   "cell_type": "markdown",
   "metadata": {},
   "source": [
    "## Desarrollo\n"
   ]
  },
  {
   "cell_type": "markdown",
   "id": "3ec12c15",
   "metadata": {},
   "source": [
    "### 1.Carga de datos \n",
    "\n",
    "En la carpeta `data` se encuentra el archivo `datos_clientes.csv` cargue estos datos en su *cuaderno*. "
   ]
  },
  {
   "cell_type": "code",
   "execution_count": 6,
   "id": "71430421",
   "metadata": {},
   "outputs": [],
   "source": [
    "# Importar librerías\n",
    "import pandas as pd\n",
    "import numpy as np\n",
    "import seaborn as sns\n",
    "import matplotlib.pyplot as plt"
   ]
  },
  {
   "cell_type": "code",
   "execution_count": 2,
   "id": "fa11d37e",
   "metadata": {
    "noteable": {
     "cell_type": "code"
    }
   },
   "outputs": [
    {
     "data": {
      "text/html": [
       "<div>\n",
       "<style scoped>\n",
       "    .dataframe tbody tr th:only-of-type {\n",
       "        vertical-align: middle;\n",
       "    }\n",
       "\n",
       "    .dataframe tbody tr th {\n",
       "        vertical-align: top;\n",
       "    }\n",
       "\n",
       "    .dataframe thead th {\n",
       "        text-align: right;\n",
       "    }\n",
       "</style>\n",
       "<table border=\"1\" class=\"dataframe\">\n",
       "  <thead>\n",
       "    <tr style=\"text-align: right;\">\n",
       "      <th></th>\n",
       "      <th>Id_Cliente</th>\n",
       "      <th>Genero</th>\n",
       "      <th>Edad</th>\n",
       "      <th>Ingreso</th>\n",
       "      <th>Puntaje_Gasto</th>\n",
       "    </tr>\n",
       "  </thead>\n",
       "  <tbody>\n",
       "    <tr>\n",
       "      <th>0</th>\n",
       "      <td>1</td>\n",
       "      <td>Mujer</td>\n",
       "      <td>41</td>\n",
       "      <td>98115.05</td>\n",
       "      <td>39</td>\n",
       "    </tr>\n",
       "    <tr>\n",
       "      <th>1</th>\n",
       "      <td>2</td>\n",
       "      <td>Mujer</td>\n",
       "      <td>20</td>\n",
       "      <td>35458.14</td>\n",
       "      <td>75</td>\n",
       "    </tr>\n",
       "    <tr>\n",
       "      <th>2</th>\n",
       "      <td>3</td>\n",
       "      <td>Mujer</td>\n",
       "      <td>68</td>\n",
       "      <td>59872.08</td>\n",
       "      <td>55</td>\n",
       "    </tr>\n",
       "    <tr>\n",
       "      <th>3</th>\n",
       "      <td>4</td>\n",
       "      <td>Hombre</td>\n",
       "      <td>63</td>\n",
       "      <td>48508.93</td>\n",
       "      <td>51</td>\n",
       "    </tr>\n",
       "    <tr>\n",
       "      <th>4</th>\n",
       "      <td>5</td>\n",
       "      <td>Mujer</td>\n",
       "      <td>31</td>\n",
       "      <td>44431.11</td>\n",
       "      <td>54</td>\n",
       "    </tr>\n",
       "  </tbody>\n",
       "</table>\n",
       "</div>"
      ],
      "text/plain": [
       "   Id_Cliente  Genero  Edad   Ingreso  Puntaje_Gasto\n",
       "0           1   Mujer    41  98115.05             39\n",
       "1           2   Mujer    20  35458.14             75\n",
       "2           3   Mujer    68  59872.08             55\n",
       "3           4  Hombre    63  48508.93             51\n",
       "4           5   Mujer    31  44431.11             54"
      ]
     },
     "execution_count": 2,
     "metadata": {},
     "output_type": "execute_result"
    }
   ],
   "source": [
    "# Utilice este espacio para escribir el código.\n",
    "\n",
    "## Se carga el archivo\n",
    "df = pd.read_csv('data/datos_clientes.csv')\n",
    "df.head()"
   ]
  },
  {
   "cell_type": "markdown",
   "id": "8b91e82c",
   "metadata": {},
   "source": [
    "(Utilice este espacio para describir su procedimiento)"
   ]
  },
  {
   "cell_type": "markdown",
   "id": "cc4b8aa8",
   "metadata": {},
   "source": [
    "### 2. Análisis preliminar. \n",
    "\n",
    "Antes de comenzar el análisis de segmentación utilice estadísticas descriptivas para explorar la variables que se encuentran en los datos. En su análisis mencione si hay patrones que surgen del examen descriptivo de los datos; entre ellos si hay diferencias en los ingresos y los puntajes de gastos para mujeres y hombres, por grupos etarios (18-24, 25-34, 35-44, 45-54, 55-64, y 65+), y por grupos etarios y género. Discuta además si estas diferencias son estadísticamente significativas."
   ]
  },
  {
   "cell_type": "code",
   "execution_count": 3,
   "id": "5a082716",
   "metadata": {
    "ExecuteTime": {
     "end_time": "2023-07-16T16:19:08.201705+00:00",
     "start_time": "2023-07-16T16:19:07.615452+00:00"
    },
    "noteable": {
     "cell_type": "code",
     "output_collection_id": "2d7c325e-81c4-49e5-85aa-89d213c37c09"
    }
   },
   "outputs": [
    {
     "data": {
      "text/html": [
       "<div>\n",
       "<style scoped>\n",
       "    .dataframe tbody tr th:only-of-type {\n",
       "        vertical-align: middle;\n",
       "    }\n",
       "\n",
       "    .dataframe tbody tr th {\n",
       "        vertical-align: top;\n",
       "    }\n",
       "\n",
       "    .dataframe thead th {\n",
       "        text-align: right;\n",
       "    }\n",
       "</style>\n",
       "<table border=\"1\" class=\"dataframe\">\n",
       "  <thead>\n",
       "    <tr style=\"text-align: right;\">\n",
       "      <th></th>\n",
       "      <th>count</th>\n",
       "      <th>mean</th>\n",
       "      <th>std</th>\n",
       "      <th>min</th>\n",
       "      <th>25%</th>\n",
       "      <th>50%</th>\n",
       "      <th>75%</th>\n",
       "      <th>max</th>\n",
       "    </tr>\n",
       "  </thead>\n",
       "  <tbody>\n",
       "    <tr>\n",
       "      <th>Id_Cliente</th>\n",
       "      <td>200.0</td>\n",
       "      <td>100.5000</td>\n",
       "      <td>57.879185</td>\n",
       "      <td>1.00</td>\n",
       "      <td>50.7500</td>\n",
       "      <td>100.50</td>\n",
       "      <td>150.250</td>\n",
       "      <td>200.00</td>\n",
       "    </tr>\n",
       "    <tr>\n",
       "      <th>Edad</th>\n",
       "      <td>200.0</td>\n",
       "      <td>38.8500</td>\n",
       "      <td>13.969007</td>\n",
       "      <td>18.00</td>\n",
       "      <td>28.7500</td>\n",
       "      <td>36.00</td>\n",
       "      <td>49.000</td>\n",
       "      <td>70.00</td>\n",
       "    </tr>\n",
       "    <tr>\n",
       "      <th>Ingreso</th>\n",
       "      <td>200.0</td>\n",
       "      <td>60624.4466</td>\n",
       "      <td>26262.903416</td>\n",
       "      <td>13458.02</td>\n",
       "      <td>41512.7875</td>\n",
       "      <td>60777.96</td>\n",
       "      <td>77143.865</td>\n",
       "      <td>138584.52</td>\n",
       "    </tr>\n",
       "    <tr>\n",
       "      <th>Puntaje_Gasto</th>\n",
       "      <td>200.0</td>\n",
       "      <td>50.2000</td>\n",
       "      <td>25.823522</td>\n",
       "      <td>1.00</td>\n",
       "      <td>34.7500</td>\n",
       "      <td>50.00</td>\n",
       "      <td>73.000</td>\n",
       "      <td>99.00</td>\n",
       "    </tr>\n",
       "  </tbody>\n",
       "</table>\n",
       "</div>"
      ],
      "text/plain": [
       "               count        mean           std       min         25%  \\\n",
       "Id_Cliente     200.0    100.5000     57.879185      1.00     50.7500   \n",
       "Edad           200.0     38.8500     13.969007     18.00     28.7500   \n",
       "Ingreso        200.0  60624.4466  26262.903416  13458.02  41512.7875   \n",
       "Puntaje_Gasto  200.0     50.2000     25.823522      1.00     34.7500   \n",
       "\n",
       "                    50%        75%        max  \n",
       "Id_Cliente       100.50    150.250     200.00  \n",
       "Edad              36.00     49.000      70.00  \n",
       "Ingreso        60777.96  77143.865  138584.52  \n",
       "Puntaje_Gasto     50.00     73.000      99.00  "
      ]
     },
     "execution_count": 3,
     "metadata": {},
     "output_type": "execute_result"
    }
   ],
   "source": [
    "# Utilice este espacio para escribir el código.\n",
    "## Se procede a realizar un analisis descriptivo de la información\n",
    "df.describe().T"
   ]
  },
  {
   "cell_type": "markdown",
   "id": "205b1a1c",
   "metadata": {},
   "source": [
    "Se verifican las vairables númericas donde se puede identificar el número de datos sus valores minimos y maximos junto con el promedio."
   ]
  },
  {
   "cell_type": "code",
   "execution_count": 4,
   "id": "3908af32",
   "metadata": {},
   "outputs": [
    {
     "data": {
      "text/html": [
       "<div>\n",
       "<style scoped>\n",
       "    .dataframe tbody tr th:only-of-type {\n",
       "        vertical-align: middle;\n",
       "    }\n",
       "\n",
       "    .dataframe tbody tr th {\n",
       "        vertical-align: top;\n",
       "    }\n",
       "\n",
       "    .dataframe thead th {\n",
       "        text-align: right;\n",
       "    }\n",
       "</style>\n",
       "<table border=\"1\" class=\"dataframe\">\n",
       "  <thead>\n",
       "    <tr style=\"text-align: right;\">\n",
       "      <th></th>\n",
       "      <th>Id_Cliente</th>\n",
       "      <th>Edad</th>\n",
       "      <th>Ingreso</th>\n",
       "      <th>Puntaje_Gasto</th>\n",
       "    </tr>\n",
       "  </thead>\n",
       "  <tbody>\n",
       "    <tr>\n",
       "      <th>Id_Cliente</th>\n",
       "      <td>1.000000</td>\n",
       "      <td>-0.007309</td>\n",
       "      <td>-0.103862</td>\n",
       "      <td>0.012120</td>\n",
       "    </tr>\n",
       "    <tr>\n",
       "      <th>Edad</th>\n",
       "      <td>-0.007309</td>\n",
       "      <td>1.000000</td>\n",
       "      <td>-0.007701</td>\n",
       "      <td>-0.327227</td>\n",
       "    </tr>\n",
       "    <tr>\n",
       "      <th>Ingreso</th>\n",
       "      <td>-0.103862</td>\n",
       "      <td>-0.007701</td>\n",
       "      <td>1.000000</td>\n",
       "      <td>0.008821</td>\n",
       "    </tr>\n",
       "    <tr>\n",
       "      <th>Puntaje_Gasto</th>\n",
       "      <td>0.012120</td>\n",
       "      <td>-0.327227</td>\n",
       "      <td>0.008821</td>\n",
       "      <td>1.000000</td>\n",
       "    </tr>\n",
       "  </tbody>\n",
       "</table>\n",
       "</div>"
      ],
      "text/plain": [
       "               Id_Cliente      Edad   Ingreso  Puntaje_Gasto\n",
       "Id_Cliente       1.000000 -0.007309 -0.103862       0.012120\n",
       "Edad            -0.007309  1.000000 -0.007701      -0.327227\n",
       "Ingreso         -0.103862 -0.007701  1.000000       0.008821\n",
       "Puntaje_Gasto    0.012120 -0.327227  0.008821       1.000000"
      ]
     },
     "execution_count": 4,
     "metadata": {},
     "output_type": "execute_result"
    }
   ],
   "source": [
    "correlation_matrix = df.corr()\n",
    "correlation_matrix"
   ]
  },
  {
   "cell_type": "code",
   "execution_count": 7,
   "id": "b4e22479",
   "metadata": {},
   "outputs": [
    {
     "data": {
      "image/png": "[encoded data removed]",
      "text/plain": [
       "<Figure size 720x576 with 2 Axes>"
      ]
     },
     "metadata": {
      "needs_background": "light"
     },
     "output_type": "display_data"
    }
   ],
   "source": [
    "plt.figure(figsize=(10, 8))\n",
    "sns.heatmap(correlation_matrix, annot=True, cmap='coolwarm')\n",
    "plt.title('Correlation Matrix Heatmap')\n",
    "plt.show()"
   ]
  },
  {
   "cell_type": "markdown",
   "id": "f5f69454",
   "metadata": {},
   "source": [
    "Se realiza una verificación rápida de la correlación entre las variables clasificadas como númericas. Como se puede identificar existe una fuerte relación inversa entre el Puntaje_Gasto y la Edad. \n",
    "\n",
    "Para continuar con el analisis de la información se procede a cambiar la clasificación de las edades en grupos etarios (como solicita el ejercicio)"
   ]
  },
  {
   "cell_type": "code",
   "execution_count": 9,
   "id": "9551fb69",
   "metadata": {},
   "outputs": [
    {
     "data": {
      "text/html": [
       "<div>\n",
       "<style scoped>\n",
       "    .dataframe tbody tr th:only-of-type {\n",
       "        vertical-align: middle;\n",
       "    }\n",
       "\n",
       "    .dataframe tbody tr th {\n",
       "        vertical-align: top;\n",
       "    }\n",
       "\n",
       "    .dataframe thead th {\n",
       "        text-align: right;\n",
       "    }\n",
       "</style>\n",
       "<table border=\"1\" class=\"dataframe\">\n",
       "  <thead>\n",
       "    <tr style=\"text-align: right;\">\n",
       "      <th></th>\n",
       "      <th>Id_Cliente</th>\n",
       "      <th>Genero</th>\n",
       "      <th>Edad</th>\n",
       "      <th>Ingreso</th>\n",
       "      <th>Puntaje_Gasto</th>\n",
       "      <th>Grupo_Etario</th>\n",
       "    </tr>\n",
       "  </thead>\n",
       "  <tbody>\n",
       "    <tr>\n",
       "      <th>0</th>\n",
       "      <td>1</td>\n",
       "      <td>Mujer</td>\n",
       "      <td>41</td>\n",
       "      <td>98115.05</td>\n",
       "      <td>39</td>\n",
       "      <td>35-44</td>\n",
       "    </tr>\n",
       "    <tr>\n",
       "      <th>1</th>\n",
       "      <td>2</td>\n",
       "      <td>Mujer</td>\n",
       "      <td>20</td>\n",
       "      <td>35458.14</td>\n",
       "      <td>75</td>\n",
       "      <td>18-24</td>\n",
       "    </tr>\n",
       "    <tr>\n",
       "      <th>2</th>\n",
       "      <td>3</td>\n",
       "      <td>Mujer</td>\n",
       "      <td>68</td>\n",
       "      <td>59872.08</td>\n",
       "      <td>55</td>\n",
       "      <td>65+</td>\n",
       "    </tr>\n",
       "    <tr>\n",
       "      <th>3</th>\n",
       "      <td>4</td>\n",
       "      <td>Hombre</td>\n",
       "      <td>63</td>\n",
       "      <td>48508.93</td>\n",
       "      <td>51</td>\n",
       "      <td>55-64</td>\n",
       "    </tr>\n",
       "    <tr>\n",
       "      <th>4</th>\n",
       "      <td>5</td>\n",
       "      <td>Mujer</td>\n",
       "      <td>31</td>\n",
       "      <td>44431.11</td>\n",
       "      <td>54</td>\n",
       "      <td>25-34</td>\n",
       "    </tr>\n",
       "  </tbody>\n",
       "</table>\n",
       "</div>"
      ],
      "text/plain": [
       "   Id_Cliente  Genero  Edad   Ingreso  Puntaje_Gasto Grupo_Etario\n",
       "0           1   Mujer    41  98115.05             39        35-44\n",
       "1           2   Mujer    20  35458.14             75        18-24\n",
       "2           3   Mujer    68  59872.08             55          65+\n",
       "3           4  Hombre    63  48508.93             51        55-64\n",
       "4           5   Mujer    31  44431.11             54        25-34"
      ]
     },
     "execution_count": 9,
     "metadata": {},
     "output_type": "execute_result"
    }
   ],
   "source": [
    "# Se definen los límites inferiores de cada grupo etario\n",
    "bins = [18, 25, 35, 45, 55, 65, float('inf')]\n",
    "\n",
    "# Se definen las etiquetas para cada grupo\n",
    "labels = ['18-24', '25-34', '35-44', '45-54', '55-64', '65+']\n",
    "\n",
    "# Utiliza la función cut para crear una nueva columna 'Grupo_Etario'\n",
    "df['Grupo_Etario'] = pd.cut(df['Edad'], bins=bins, labels=labels, right=False)\n",
    "\n",
    "df.head()"
   ]
  },
  {
   "cell_type": "markdown",
   "id": "2538b203",
   "metadata": {},
   "source": [
    "Una vez definido esta nuevas agrupaciones se verifica si existen relaciones entre ellas que puedan ser estadisticamente significativas. Con este obejtivo en mente se procede a:\n",
    "\n",
    "1. Graficar la relación que existe entre genero y el puntaje de gastos e ingresos"
   ]
  },
  {
   "cell_type": "code",
   "execution_count": 14,
   "id": "23d0e637",
   "metadata": {},
   "outputs": [
    {
     "data": {
      "image/png": "[encoded data removed]",
      "text/plain": [
       "<Figure size 432x432 with 1 Axes>"
      ]
     },
     "metadata": {
      "needs_background": "light"
     },
     "output_type": "display_data"
    },
    {
     "data": {
      "image/png": "[encoded data removed]",
      "text/plain": [
       "<Figure size 432x432 with 1 Axes>"
      ]
     },
     "metadata": {
      "needs_background": "light"
     },
     "output_type": "display_data"
    }
   ],
   "source": [
    "# Gráfico de caja para ingresos por género\n",
    "plt.figure(figsize=(6, 6))\n",
    "sns.boxplot(data=df, x='Genero', y='Ingreso')\n",
    "plt.title('Distribución de Ingresos por Género')\n",
    "plt.xlabel('Género')\n",
    "plt.ylabel('Ingreso')\n",
    "plt.show()\n",
    "\n",
    "# Gráfico de caja para puntajes de gasto por género\n",
    "plt.figure(figsize=(6, 6))\n",
    "sns.boxplot(data=df, x='Genero', y='Puntaje_Gasto')\n",
    "plt.title('Distribución de Puntajes de Gasto por Género')\n",
    "plt.xlabel('Género')\n",
    "plt.ylabel('Puntaje de Gasto')\n",
    "plt.show()"
   ]
  },
  {
   "cell_type": "markdown",
   "id": "74f91388",
   "metadata": {},
   "source": [
    "2. Verificar la relación que existe entre los gupos etarios y los ingresos y puntajes de gasto"
   ]
  },
  {
   "cell_type": "code",
   "execution_count": 15,
   "id": "537c38eb",
   "metadata": {},
   "outputs": [
    {
     "data": {
      "image/png": "[encoded data removed]",
      "text/plain": [
       "<Figure size 864x432 with 1 Axes>"
      ]
     },
     "metadata": {
      "needs_background": "light"
     },
     "output_type": "display_data"
    },
    {
     "data": {
      "image/png": "[encoded data removed]",
      "text/plain": [
       "<Figure size 864x432 with 1 Axes>"
      ]
     },
     "metadata": {
      "needs_background": "light"
     },
     "output_type": "display_data"
    }
   ],
   "source": [
    "# Gráfico de caja para ingresos por grupos etarios\n",
    "plt.figure(figsize=(12, 6))\n",
    "sns.boxplot(data=df, x='Grupo_Etario', y='Ingreso')\n",
    "plt.title('Distribución de Ingresos por Grupo Etario')\n",
    "plt.xlabel('Grupo Etario')\n",
    "plt.ylabel('Ingreso')\n",
    "plt.xticks(rotation=45)\n",
    "plt.show()\n",
    "\n",
    "# Gráfico de caja para puntajes de gasto por grupos etarios\n",
    "plt.figure(figsize=(12, 6))\n",
    "sns.boxplot(data=df, x='Grupo_Etario', y='Puntaje_Gasto')\n",
    "plt.title('Distribución de Puntajes de Gasto por Grupo Etario')\n",
    "plt.xlabel('Grupo Etario')\n",
    "plt.ylabel('Puntaje de Gasto')\n",
    "plt.xticks(rotation=45)\n",
    "plt.show()"
   ]
  },
  {
   "cell_type": "markdown",
   "id": "14f9abd9",
   "metadata": {},
   "source": [
    "3. Una verificación de la relación conjunta que existe entre las cuatro variables."
   ]
  },
  {
   "cell_type": "code",
   "execution_count": 16,
   "id": "902710ab",
   "metadata": {},
   "outputs": [
    {
     "data": {
      "image/png": "[encoded data removed]",
      "text/plain": [
       "<Figure size 864x432 with 1 Axes>"
      ]
     },
     "metadata": {
      "needs_background": "light"
     },
     "output_type": "display_data"
    },
    {
     "data": {
      "image/png": "[encoded data removed]",
      "text/plain": [
       "<Figure size 864x432 with 1 Axes>"
      ]
     },
     "metadata": {
      "needs_background": "light"
     },
     "output_type": "display_data"
    }
   ],
   "source": [
    "# Gráficos de caja para ingresos por género y grupos etarios\n",
    "plt.figure(figsize=(12, 6))\n",
    "sns.boxplot(data=df, x='Grupo_Etario', y='Ingreso', hue='Genero')\n",
    "plt.title('Distribución de Ingresos por Género y Grupos Etarios')\n",
    "plt.xlabel('Grupo Etario')\n",
    "plt.ylabel('Ingreso')\n",
    "plt.xticks(rotation=45)\n",
    "plt.show()\n",
    "\n",
    "# Gráficos de caja para puntajes de gasto por género y grupos etarios\n",
    "plt.figure(figsize=(12, 6))\n",
    "sns.boxplot(data=df, x='Grupo_Etario', y='Puntaje_Gasto', hue='Genero')\n",
    "plt.title('Distribución de Puntajes de Gasto por Género y Grupos Etarios')\n",
    "plt.xlabel('Grupo Etario')\n",
    "plt.ylabel('Puntaje de Gasto')\n",
    "plt.xticks(rotation=45)\n",
    "plt.show()"
   ]
  },
  {
   "cell_type": "markdown",
   "id": "570b25d9",
   "metadata": {},
   "source": [
    "Comos e puede observar en la grafica parecen existir diferencias significativas entre los gastos e ingresos respecto a al genero y los grupos etarios. Para verificar si esta relación es significativas se procede a aplicar las siguientes pruebas:\n",
    "\n",
    "1. En el caso de la relación entre genero e ingresos se procede a dar uso de la prueba-t ya que \"Una prueba t es una prueba estadística que se utiliza para comparar las medias de dos grupos. A menudo se utiliza en pruebas de hipótesis para determinar si un proceso o tratamiento realmente tiene un efecto en la población de interés o si dos grupos son diferentes entre sí\" (Fuente: https://www.scribbr.com/statistics/t-test/) Con base en lo anterior se procede a desarrollar esta prueba dando uso de la librería scipy."
   ]
  },
  {
   "cell_type": "code",
   "execution_count": 19,
   "id": "47f6594c",
   "metadata": {},
   "outputs": [
    {
     "name": "stdout",
     "output_type": "stream",
     "text": [
      "Prueba t para ingresos - Estadística t: 0.7161502474144456 Valor p: 0.474742358200534\n",
      "Prueba t para puntajes de gasto - Estadística t: -0.8190464150660333 Valor p: 0.4137446589852176\n"
     ]
    }
   ],
   "source": [
    "from scipy import stats\n",
    "\n",
    "# Prueba t para ingresos por género\n",
    "t_statistic_income, p_value_income = stats.ttest_ind(df[df['Genero'] == 'Hombre']['Ingreso'], df[df['Genero'] == 'Mujer']['Ingreso'])\n",
    "\n",
    "# Prueba t para puntajes de gasto por género\n",
    "t_statistic_score, p_value_score = stats.ttest_ind(df[df['Genero'] == 'Hombre']['Puntaje_Gasto'], df[df['Genero'] == 'Mujer']['Puntaje_Gasto'])\n",
    "\n",
    "print(\"Prueba t para ingresos - Estadística t:\", t_statistic_income, \"Valor p:\", p_value_income)\n",
    "print(\"Prueba t para puntajes de gasto - Estadística t:\", t_statistic_score, \"Valor p:\", p_value_score)"
   ]
  },
  {
   "cell_type": "markdown",
   "id": "e318f2c6",
   "metadata": {},
   "source": [
    "Con base en estos resultados se puede concluir que:\n",
    "- Para el caso de género e ingresos dando uso de la la \"Prueba t para ingresos\", el valor p de aproximadamente 0.475 es mayor que el nivel de significancia de 0.05 (que se eligio porque es el más usado). Esto sugiere que no hay evidencia suficiente para concluir que existen diferencias significativas en ingresos entre hombres y mujeres.\n",
    "- Para el caso de género y puntaje de gasto dando usa a la \"Prueba t para puntajes de gasto\", el valor p de aproximadamente 0.414 también es mayor que 0.05, lo que indica que no hay evidencia suficiente para concluir que existen diferencias significativas en los puntajes de gasto entre hombres y mujeres en los datos."
   ]
  },
  {
   "cell_type": "markdown",
   "id": "922a7d28",
   "metadata": {},
   "source": [
    "2. En el caso de los grupos etarios como se cuenta con una variable categorica con más de dos grupos se procede a usar el test ANOVA para determinar si existe una diferencia estadisticamente significativa entre los grupos (Fuente: https://www.scribbr.com/statistics/one-way-anova/) Se procede a dar uso nuevamente a la libreria scipy:"
   ]
  },
  {
   "cell_type": "code",
   "execution_count": 18,
   "id": "f8e74c79",
   "metadata": {},
   "outputs": [
    {
     "name": "stdout",
     "output_type": "stream",
     "text": [
      "ANOVA para ingresos - Estadística F: 6.019746307189062 Valor p: 3.336261060488998e-05\n",
      "ANOVA para puntajes de gasto - Estadística F: 8.258289721310666 Valor p: 4.295829973019983e-07\n"
     ]
    }
   ],
   "source": [
    "# ANOVA para ingresos por grupos etarios\n",
    "f_statistic_income, p_value_income = stats.f_oneway(df[df['Grupo_Etario'] == '18-24']['Ingreso'],\n",
    "                                                    df[df['Grupo_Etario'] == '25-34']['Ingreso'],\n",
    "                                                    df[df['Grupo_Etario'] == '35-44']['Ingreso'],\n",
    "                                                    df[df['Grupo_Etario'] == '45-54']['Ingreso'],\n",
    "                                                    df[df['Grupo_Etario'] == '55-64']['Ingreso'],\n",
    "                                                    df[df['Grupo_Etario'] == '65+']['Ingreso'])\n",
    "\n",
    "# ANOVA para puntajes de gasto por grupos etarios\n",
    "f_statistic_score, p_value_score = stats.f_oneway(df[df['Grupo_Etario'] == '18-24']['Puntaje_Gasto'],\n",
    "                                                  df[df['Grupo_Etario'] == '25-34']['Puntaje_Gasto'],\n",
    "                                                  df[df['Grupo_Etario'] == '35-44']['Puntaje_Gasto'],\n",
    "                                                  df[df['Grupo_Etario'] == '45-54']['Puntaje_Gasto'],\n",
    "                                                  df[df['Grupo_Etario'] == '55-64']['Puntaje_Gasto'],\n",
    "                                                  df[df['Grupo_Etario'] == '65+']['Puntaje_Gasto'])\n",
    "\n",
    "print(\"ANOVA para ingresos - Estadística F:\", f_statistic_income, \"Valor p:\", p_value_income)\n",
    "print(\"ANOVA para puntajes de gasto - Estadística F:\", f_statistic_score, \"Valor p:\", p_value_score)"
   ]
  },
  {
   "cell_type": "markdown",
   "id": "e1abc733",
   "metadata": {},
   "source": [
    "Se puede observar que:\n",
    "- Para la ANOVA relizada para los ingresos el p-value tiene un valor por debajo del 0.05 lo cual lo hace estadisticamente significativo.\n",
    "- Para el ANOVA para el puntaje de gasto el p-value también se encuentra por debajo de 0.05 lo que lo hace estadisticamente significativo.\n",
    "\n",
    "Esto quiere decir que al menos un grupo etario se diferencia significativamente en términos de ingresos y puntajes de gasto en comparación con los otros grupos."
   ]
  },
  {
   "cell_type": "code",
   "execution_count": null,
   "id": "024b24a6",
   "metadata": {},
   "outputs": [],
   "source": []
  },
  {
   "cell_type": "markdown",
   "metadata": {},
   "source": [
    "(Utilice este espacio para describir su procedimiento)"
   ]
  },
  {
   "cell_type": "markdown",
   "metadata": {},
   "source": [
    "### 3. Clustering Jerárquico\n",
    "\n",
    "#### 3.1. Dendrogramas\n",
    "\n",
    "Agrupe a los clientes utilizando sólo dos variables: su ingreso y el puntaje de gastos. Para ello retenga estas dos variables, estandarízelas, construya y grafique un dendograma. Para la construcción del dendrograma utilice el enlace 'ward' y la distancia euclidiana. Explique la importancia de estandarizar los datos."
   ]
  },
  {
   "cell_type": "code",
   "execution_count": 3,
   "metadata": {
    "ExecuteTime": {
     "end_time": "2023-07-16T16:29:24.649171+00:00",
     "start_time": "2023-07-16T16:29:21.788267+00:00"
    },
    "noteable": {
     "cell_type": "code",
     "output_collection_id": "3ac79bd2-4963-40c4-a4e8-784bcb39bea0"
    }
   },
   "outputs": [],
   "source": [
    "# Utilice este espacio para escribir el código."
   ]
  },
  {
   "cell_type": "markdown",
   "metadata": {},
   "source": [
    "(Utilice este espacio para describir su procedimiento)"
   ]
  },
  {
   "cell_type": "markdown",
   "metadata": {},
   "source": [
    "#### 3.2. Número de clusters\n",
    "\n",
    "Retenga el número de clusters que se obtengan luego de fijar la distancia en 6."
   ]
  },
  {
   "cell_type": "code",
   "execution_count": 4,
   "metadata": {
    "ExecuteTime": {
     "end_time": "2023-07-16T16:30:33.403710+00:00",
     "start_time": "2023-07-16T16:30:33.241077+00:00"
    },
    "noteable": {
     "cell_type": "code",
     "output_collection_id": "254eb5c1-b7d7-48c0-a13c-f5073e06273b"
    }
   },
   "outputs": [],
   "source": [
    "# Utilice este espacio para escribir el código."
   ]
  },
  {
   "cell_type": "markdown",
   "metadata": {},
   "source": [
    "(Utilice este espacio para describir su procedimiento)"
   ]
  },
  {
   "cell_type": "markdown",
   "metadata": {},
   "source": [
    "#### 3.3. Algoritmo Jerárquico Aglomerativo\n",
    "\n",
    "Utilizando el número de clusters encontrados en el paso anterior, aplique el algoritmo jerárquico aglomerativo, utilizando el enlace 'ward' y la distancia euclidiana. Describa los grupos encontrados, en que grupo o grupos concentraría su estrategia de marketing y por qué?"
   ]
  },
  {
   "cell_type": "code",
   "execution_count": 5,
   "metadata": {
    "ExecuteTime": {
     "end_time": "2023-07-16T16:31:07.364446+00:00",
     "start_time": "2023-07-16T16:31:07.047668+00:00"
    },
    "datalink": {
     "cb4d41c2-7468-4179-b3af-463accbe29a6": {
      "applied_filters": [],
      "dataframe_info": {
       "default_index_used": true,
       "orig_num_cols": 8,
       "orig_num_rows": 5,
       "orig_size_bytes": 525,
       "truncated_num_cols": 8,
       "truncated_num_rows": 5,
       "truncated_size_bytes": 525,
       "truncated_string_columns": []
      },
      "display_id": "cb4d41c2-7468-4179-b3af-463accbe29a6",
      "dx_settings": {
       "ALLOW_NOTEABLE_ATTRS": true,
       "COLUMN_SAMPLING_METHOD": "outer",
       "DB_LOCATION": ":memory:",
       "DEV_MODE": false,
       "DISPLAY_MAX_COLUMNS": 100,
       "DISPLAY_MAX_ROWS": 50000,
       "DISPLAY_MODE": "simple",
       "ENABLE_ASSIGNMENT": true,
       "ENABLE_DATALINK": true,
       "FLATTEN_COLUMN_VALUES": true,
       "FLATTEN_INDEX_VALUES": false,
       "GENERATE_DEX_METADATA": false,
       "HTML_TABLE_SCHEMA": false,
       "LOG_LEVEL": 30,
       "MAX_RENDER_SIZE_BYTES": 104857600,
       "MAX_STRING_LENGTH": 250,
       "NUM_PAST_SAMPLES_TRACKED": 3,
       "RANDOM_STATE": 12648430,
       "RESET_INDEX_VALUES": false,
       "ROW_SAMPLING_METHOD": "random",
       "SAMPLING_FACTOR": 0.1,
       "SAMPLING_METHOD": "random",
       "STRINGIFY_COLUMN_VALUES": true,
       "STRINGIFY_INDEX_VALUES": false
      },
      "sample_history": [],
      "sampling_time": "2023-07-16T16:31:07.204488",
      "user_variable_name": null,
      "variable_name": "unk_dataframe_9913f7676cc043a4a00b184116fd4b2c"
     }
    },
    "noteable": {
     "cell_type": "code",
     "output_collection_id": "a8fca9be-97b0-456e-92df-a88e7598e581"
    }
   },
   "outputs": [],
   "source": [
    "# Utilice este espacio para escribir el código."
   ]
  },
  {
   "cell_type": "markdown",
   "metadata": {},
   "source": [
    "(Utilice este espacio para describir su procedimiento)"
   ]
  },
  {
   "cell_type": "markdown",
   "metadata": {},
   "source": [
    "### 4. DBSCAN\n",
    "\n",
    "Implemente DBSCAN, al igual que el punto anterior sólo dos variables: su ingreso y el puntaje de gastos. Al implementar  justifique su elección de `min_samples` y `eps`. ¿Cuántos grupos o clusters encuentra? ¿Cuáles son su características? ¿Cambiaría su estrategia de marketing respecto al punto anterior? Justifique su respuesta."
   ]
  },
  {
   "cell_type": "code",
   "execution_count": 6,
   "metadata": {},
   "outputs": [],
   "source": [
    "# Utilice este espacio para escribir el código."
   ]
  },
  {
   "cell_type": "markdown",
   "metadata": {},
   "source": [
    "(Utilice este espacio para describir su procedimiento)"
   ]
  },
  {
   "cell_type": "markdown",
   "metadata": {},
   "source": [
    "### 5. Incorporando más dimensiones\n",
    "\n",
    "Hasta este momento hemos utilizado solo dos variables para nuestro análisis, sin embargo, la base cuenta con otras variables más: género y edad. Usando las categorías de edad creadas anteriormente incorpore género y grupo etario a su análisis. Genere los grupos utilizando DBSCAN y la distancia de Gower, justificando su elección de `min_samples` y `eps`   ¿Incorporar estas variables, ayuda a la focalización de la estrategia de marketing?"
   ]
  },
  {
   "cell_type": "code",
   "execution_count": 7,
   "metadata": {
    "ExecuteTime": {
     "end_time": "2023-07-16T16:42:28.364508+00:00",
     "start_time": "2023-07-16T16:42:22.935059+00:00"
    },
    "jupyter": {
     "outputs_hidden": false,
     "source_hidden": false
    },
    "noteable": {
     "cell_type": "code",
     "output_collection_id": "2b6bd871-3b9e-4474-a898-ee13670b61c3"
    }
   },
   "outputs": [],
   "source": [
    "# Utilice este espacio para escribir el código."
   ]
  },
  {
   "cell_type": "markdown",
   "metadata": {},
   "source": [
    "(Utilice este espacio para describir su procedimiento)"
   ]
  }
 ],
 "metadata": {
  "kernelspec": {
   "display_name": "Python 3",
   "language": "python",
   "name": "python3"
  },
  "language_info": {
   "codemirror_mode": {
    "name": "ipython",
    "version": 3
   },
   "file_extension": ".py",
   "mimetype": "text/x-python",
   "name": "python",
   "nbconvert_exporter": "python",
   "pygments_lexer": "ipython3",
   "version": "3.9.12"
  },
  "noteable": {
   "last_transaction_id": "981dee18-307a-4ad4-a85c-724d5132feaa"
  },
  "selected_hardware_size": "small",
  "toc": {
   "base_numbering": 1,
   "nav_menu": {},
   "number_sections": true,
   "sideBar": true,
   "skip_h1_title": false,
   "title_cell": "Table of Contents",
   "title_sidebar": "Contents",
   "toc_cell": false,
   "toc_position": {},
   "toc_section_display": true,
   "toc_window_display": false
  }
 },
 "nbformat": 4,
 "nbformat_minor": 5
}
