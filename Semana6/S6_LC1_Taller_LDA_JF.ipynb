{
 "cells": [
  {
   "cell_type": "markdown",
   "metadata": {},
   "source": [
    "<div >\n",
    "<img src = \"figs/ans_banner_1920x200.png\" />\n",
    "</div>"
   ]
  },
  {
   "cell_type": "markdown",
   "metadata": {},
   "source": [
    "# Caso-taller:  Recomendando el Blog de  Hernán Casciari \n",
    "\n",
    "\n",
    "[Hernán Casciari](https://hernancasciari.com/#bio), es un escritor argentino, que escribe blog posts con cuentos e historias  relacionadas con el futbol, su vida, infancia, y relaciones familiares con toques de ficción. Este [blog](https://hernancasciari.com/blog/) es  tan interesantes que en 2005 fue premiado como “El mejor blog del mundo” por Deutsche Welle de Alemania. \n",
    "\n",
    "El objetivo de este caso-taller es construir un sistema de recomendación basado en los contenidos de los posts utilizando similitud de las palabras usadas o temas de los cuentos."
   ]
  },
  {
   "cell_type": "markdown",
   "metadata": {},
   "source": [
    "## Instrucciones generales\n",
    "\n",
    "1. Para desarrollar el *cuaderno*, primero debe descargarlo.\n",
    "\n",
    "2. Para responder cada inciso deberá utilizar el espacio debidamente especificado.\n",
    "\n",
    "3. La actividad será calificada sólo si sube el *cuaderno* de jupyter notebook con extensión `.ipynb` en la actividad designada como \"entrega calificada por el personal\".\n",
    "\n",
    "4. El archivo entregado debe poder ser ejecutado localmente por el tutor. Sea cuidadoso con la especificación de la ubicación de los archivos de soporte, guarde la carpeta de datos en el mismo `path` de su cuaderno, por ejemplo: `data`."
   ]
  },
  {
   "cell_type": "markdown",
   "metadata": {},
   "source": [
    "## Desarrollo\n"
   ]
  },
  {
   "cell_type": "markdown",
   "metadata": {},
   "source": [
    "### 1. Carga de datos \n",
    "\n",
    "En la carpeta `data` se encuentran el archivo `blog_casciari.csv` con el título, la fecha de publicación, y el contenido de los cuentos publicados en el blog  de sr. Casciari. Cargue estos datos en su *cuaderno* y reporte brevemente el contenido de la base.\n",
    "   "
   ]
  },
  {
   "cell_type": "code",
   "execution_count": 22,
   "id": "176fd806",
   "metadata": {},
   "outputs": [
    {
     "name": "stdout",
     "output_type": "stream",
     "text": [
      "                       titulo    fecha  \\\n",
      "0            El rincón blanco  1/11/08   \n",
      "1  Mínimos avances en la cama  1/24/08   \n",
      "2                  Don Marcos  2/19/08   \n",
      "3              Los dos rulfos  3/26/08   \n",
      "4   La noticia no es el perro  4/15/08   \n",
      "\n",
      "                                              cuento  \n",
      "0  De pronto yo estaba en el hogar donde pasé la ...  \n",
      "1  Menos la cama, todo ha mejorado en este mundo....  \n",
      "2  Dos veces, y no una, mi abuelo materno me ayud...  \n",
      "3  A su regreso de México, mi amigo Comequechu no...  \n",
      "4  De repente, un video de You Tube recibe un mil...  \n",
      "La estructura del dataframe es de dimensión (520, 3)\n",
      "La venganza del metegol\n",
      "El mes pasado me invitaron a presentar un libro en Buenos Aires. Y como era un libro sobre fútbol, al final de la charla el director de la editorial nos invitó a jugar un partido de metegol (ese invento español al que sus creadores llaman, erróneamente, futbolín). Hacía años que no jugaba al metegol, pero por suerte me tocó de compañero un filósofo muy prestigioso y pudimos ganar. Nuestros contrincantes eran el autor del libro y el director de la editorial. De los tres, a este último lo conocía desde la juventud.\n",
      "Jugamos dos partidos enteros y los destrozamos con una facilidad pasmosa: hacía años que no practicaba este falso deporte de muñecas y reflejos, pero descubrí que no había perdido las mañas. Eso me hizo sentir bien: a mi edad cualquier destreza que mantengamos indemne, por más pelotuda que sea, se convierte en una gran noticia.\n",
      "Después de la charla algunos fotógrafos hicieron imágenes del partido de metegol y las subieron a Twitter.\n",
      "— Estadio: Librería Gandhi, Buenos Aires. Locales: A la izquierda, Alejandro Duchini y Gonzalo Garcés. Vistantes: A la derecha, Tomás Abraham y Hernán Casciari. Resultado: 1º match: 1-4; 2º match 0-4. Paliza.\n",
      "Cuando volví a casa recibí un mail de Chiri, mi mejor amigo desde la infancia. Me decía que había visto las fotos y se sorprendía de que mi compañero haya sido el mismo filósofo al que admirábamos en la juventud. «Vos, jugando al metegol con Tomás Abraham; solamente puede pasar en un sueño», me decía. Y era verdad. En un momento, durante el partido, me imaginé con diecisiete años mirando por la ventana de la librería Gandhi esa escena del futuro, y sonreí.\n",
      "Ese recuerdo momentáneo me desconcentró del juego y justo en ese momento me hicieron un gol (el único que recibí esa noche; yo defendía la zaga). Fue un gol con molinete de Gonzalo Garcés, el director de la editorial Galerna, y él, con injusticia, me lo festejó en la cara de un modo muy antideportivo, como si se tratara de la final del mundo.\n",
      "Entonces me vino a la cabeza algo que ya conté muchas veces en sobremesas con amigos, y que ocurrió la noche en que lo conocí a Gonzalo, cuando los dos éramos adolescentes.\n",
      "En ese entonces (sería el año noventa y uno) me gustaba mucho pasar los veranos en Mercedes, mi pueblo, porque mis padres se iban de vacaciones y me dejaban la casa sola. Mi amigo Chiri llegaba los viernes muy de madrugada, y pasaba por casa para ver si yo estaba despierto. Si veía luz en la habitación me tocaba timbre y nos emborrachábamos por ahí. Si no veía luz, entraba por la ventana de mi cuarto a oscuras y me despertaba de maneras horribles: a veces me tiraba agua en la cara, o me pegaba una patada en la panza. O me metía un gato entre las cobijas. O se subía arriba de las mantas y empezaba a bombearme desde atrás como un amante desenfrenado. El objetivo era despertarme siempre de una manera creativa.\n",
      "Pero cierto fin de semana pasó que, por la tarde, conocí a Gonzalo Garcés (que entonces era una promesa de escritor de diecisiete años) y lo invité a pasar un fin de semana a Mercedes. Gonzalo ya era entonces el cachorro de lo que es hoy: una persona fina, siempre muy bien bañado, de clase acomodada y sereno. De hecho, se había convertido un año antes, a los dieciséis, en el crítico literario más joven en la historia del diario porteño La Nación. Un prodigio, Garcés. Siempre lo fue.\n",
      "Nos conocimos por casualidad porque aquel año integramos una antología de «jóvenes promesas literarias» de entonces, y se había publicado un libro con veinte autores adolescentes. Yo leí su cuento y fue el único que me gustó, entonces lo llamé por teléfono y lo invité a casa para charlar. Estuvo en Mercedes ese fin de semana. Lo llevé al carnaval del pueblo, que es uno de los carnavales menos luminosos y más tristes de la provincia de Buenos Aires.\n",
      "La pasamos muy bien todo ese día, hasta el accidente nocturno. Gonzalo Garcés se quedó a dormir en casa y le ofrecí mi habitación. Yo me fui a dormir la borrachera a la cama de mis padres, sin recordar la rutina de Chiri por las madrugadas. Esa noche Gonzalo, un chico buen mozo y frágil, se acostó y apagó la luz en una ciudad desconocida de la llanura pampeana, y se quedó dormido, sin saber que en medio de la noche un borracho joven entraría a oscuras por la ventana y se subiría encima suyo para sodomizarlo.\n",
      "Yo no escuché el grito, porque la habitación de mis padres quedaba lejos. No me enteré de nada. Pero a la mañana siguiente encontré a Gonzalo en la cocina. Desayunaba con los pelos alborotados. Me dijo:\n",
      "—?Ayer entró un tipo por la ventana y me quiso fornicar. Yo estaba adentro de las sábanas y cuando saqué la cabeza, asustado, el tipo me mira y me dice «Vos no sos el gordo», y me deja de fornicar. Se levanta de la cama, me pide disculpas y se escapa por la ventana. Iba en un ciclomotor de la marca Zanella. No apareció nunca más.\n",
      "Yo miré la taza de café que tenía Gonzalo en la mano: le temblaba. Antes de que se pusiera a llorar lo tranquilicé:\n",
      "— Estamos en carnaval?—?le dije?—?. En estas épocas vale todo, Gonzalo.\n",
      "El susto de Garcés fue enorme, y yo creí siempre que se había olvidado de aquello. En esa época me preocupé más por el susto de mi amigo Chiri, que duró muchos años y fue traumático. Creer que estás violando en chiste a un amigo gordo, de toda la vida, y ver de repente que estás violando en chiste a una promesa literaria menor de edad, es horrible. Esa imagen no se va muy fácil del subconsciente. Pobre Chiri.\n",
      "Con el paso de los años fue peor, porque Gonzalo Garcés empezó a crecer en el mundo hispanoamericano de las letras, se convirtió en un gran escritor, en un crítico implacable, en el director de una editorial prestigiosa, y el trauma de Chiri creció siempre a la par de la consagración de Garcés.\n",
      "Hace unos años, cuando Gonzalo ganó el Premio Seix Barral, Chiri sintió mucha vergüenza por haber violado en la oscuridad a alguien que había conseguido el mismo galardón que Vargas Llosa.\n",
      "Pero ahora creo que el gol que me gritó Gonzalo Garcés a la cara durante el metegol, con una mirada maradoniana y vengativa que jamás le había visto antes, casi mirando a cámara, fue una manera de decirme que todavía se acuerda, que algo sigue roto en su alma, que no le gustaron mucho los carnavales de mi pueblo.\n",
      "Hernán Casciari\n",
      "17 noviembre, 2015\n"
     ]
    }
   ],
   "source": [
    "# Utilice este espacio para escribir el código.\n",
    "import pandas as pd\n",
    "import numpy as np\n",
    "\n",
    "# Convertir el csv a un dataframe usando pandas\n",
    "casciari = pd.read_csv(\"data/blog_casciari.csv\", sep = \",\")\n",
    "\n",
    "# Ilustrar la esturctura del dataframe\n",
    "print(casciari.head())\n",
    "# Exploramos la estructura del dataframe\n",
    "print(\"La estructura del dataframe es de dimensión\", casciari.shape)\n",
    "\n",
    "# Vemos el cuento ejemplo - 160 La venganza del metegol\n",
    "#example=casciari['cuento'][160]\n",
    "print(casciari['titulo'][160])\n",
    "print(casciari['cuento'][160])\n"
   ]
  },
  {
   "cell_type": "code",
   "execution_count": 14,
   "id": "9a132fbd",
   "metadata": {},
   "outputs": [
    {
     "data": {
      "text/html": [
       "<div>\n",
       "<style scoped>\n",
       "    .dataframe tbody tr th:only-of-type {\n",
       "        vertical-align: middle;\n",
       "    }\n",
       "\n",
       "    .dataframe tbody tr th {\n",
       "        vertical-align: top;\n",
       "    }\n",
       "\n",
       "    .dataframe thead th {\n",
       "        text-align: right;\n",
       "    }\n",
       "</style>\n",
       "<table border=\"1\" class=\"dataframe\">\n",
       "  <thead>\n",
       "    <tr style=\"text-align: right;\">\n",
       "      <th></th>\n",
       "      <th>titulo</th>\n",
       "      <th>fecha</th>\n",
       "      <th>cuento</th>\n",
       "    </tr>\n",
       "  </thead>\n",
       "  <tbody>\n",
       "    <tr>\n",
       "      <th>0</th>\n",
       "      <td>El rincón blanco</td>\n",
       "      <td>1/11/08</td>\n",
       "      <td>De pronto yo estaba en el hogar donde pasé la ...</td>\n",
       "    </tr>\n",
       "    <tr>\n",
       "      <th>1</th>\n",
       "      <td>Mínimos avances en la cama</td>\n",
       "      <td>1/24/08</td>\n",
       "      <td>Menos la cama, todo ha mejorado en este mundo....</td>\n",
       "    </tr>\n",
       "    <tr>\n",
       "      <th>2</th>\n",
       "      <td>Don Marcos</td>\n",
       "      <td>2/19/08</td>\n",
       "      <td>Dos veces, y no una, mi abuelo materno me ayud...</td>\n",
       "    </tr>\n",
       "    <tr>\n",
       "      <th>3</th>\n",
       "      <td>Los dos rulfos</td>\n",
       "      <td>3/26/08</td>\n",
       "      <td>A su regreso de México, mi amigo Comequechu no...</td>\n",
       "    </tr>\n",
       "    <tr>\n",
       "      <th>4</th>\n",
       "      <td>La noticia no es el perro</td>\n",
       "      <td>4/15/08</td>\n",
       "      <td>De repente, un video de You Tube recibe un mil...</td>\n",
       "    </tr>\n",
       "  </tbody>\n",
       "</table>\n",
       "</div>"
      ],
      "text/plain": [
       "                       titulo    fecha  \\\n",
       "0            El rincón blanco  1/11/08   \n",
       "1  Mínimos avances en la cama  1/24/08   \n",
       "2                  Don Marcos  2/19/08   \n",
       "3              Los dos rulfos  3/26/08   \n",
       "4   La noticia no es el perro  4/15/08   \n",
       "\n",
       "                                              cuento  \n",
       "0  De pronto yo estaba en el hogar donde pasé la ...  \n",
       "1  Menos la cama, todo ha mejorado en este mundo....  \n",
       "2  Dos veces, y no una, mi abuelo materno me ayud...  \n",
       "3  A su regreso de México, mi amigo Comequechu no...  \n",
       "4  De repente, un video de You Tube recibe un mil...  "
      ]
     },
     "execution_count": 14,
     "metadata": {},
     "output_type": "execute_result"
    }
   ],
   "source": [
    "casciari.head(5)"
   ]
  },
  {
   "cell_type": "markdown",
   "metadata": {},
   "source": [
    "#### Procedimiento:\n",
    "\n",
    "1. Importamos las librerias a utilizar, en este caso son pandas y numpy\n",
    "2. Convertimos el archivo csv a un dataframe utilizando pandas\n",
    "3. Exploramos la estructura del dataframe\n",
    "4. Usamos la función shape para visualizar las dimensiones del dataframe\n",
    "\n",
    "#### Análisis y conclusiones: \n",
    "\n",
    "Podemos ver que el Blog de Hernán Casciri contiene 520 entradas y el archivo nos provee la información de título y fecha y cuento. "
   ]
  },
  {
   "cell_type": "markdown",
   "metadata": {},
   "source": [
    "### 2. Homogenización de textos\n",
    "\n",
    "Para cumplir con el objetivo de generar recomendaciones en esta sección debe preparar los posts para poder ser utilizados en su sistema de recomendación. Para ello, \"limpie\" y \"tokenize\" cada uno de los cuentos, describiendo detalladamente los pasos que realizo y si transformó o eliminó ciertas palabras. Para asistirlo en la tarea he creado listas de *stopwords* que están disponibles en la carpeta `data`. En su procedimiento ilustre la limpieza con el cuento 'La venganza del metegol'. (En su limpieza recuerde que el objetivo es generar recomendaciones a partir de la similitud de las palabras o temas de los cuentos)"
   ]
  },
  {
   "cell_type": "code",
   "execution_count": 23,
   "id": "f63e0b0b",
   "metadata": {},
   "outputs": [
    {
     "name": "stdout",
     "output_type": "stream",
     "text": [
      "La venganza del metegol\n",
      "El mes pasado me invitaron a presentar un libro en Buenos Aires Y como era un libro sobre futbol al final de la charla el director de la editorial nos invito a jugar un partido de metegol ese invento espanol al que sus creadores llaman erroneamente futbolin Hacia anos que no jugaba al metegol pero por suerte me toco de companero un filosofo muy prestigioso y pudimos ganar Nuestros contrincantes eran el autor del libro y el director de la editorial De los tres a este ultimo lo conocia desde la juventud Jugamos dos partidos enteros y los destrozamos con una facilidad pasmosa hacia anos que no practicaba este falso deporte de munecas y reflejos pero descubri que no habia perdido las manas Eso me hizo sentir bien a mi edad cualquier destreza que mantengamos indemne por mas pelotuda que sea se convierte en una gran noticia Despues de la charla algunos fotografos hicieron imagenes del partido de metegol y las subieron a Twitter Estadio Libreria Gandhi Buenos Aires Locales A la izquierda Alejandro Duchini y Gonzalo Garces Vistantes A la derecha Tomas Abraham y Hernan Casciari Resultado o match   o match   Paliza Cuando volvi a casa recibi un mail de Chiri mi mejor amigo desde la infancia Me decia que habia visto las fotos y se sorprendia de que mi companero haya sido el mismo filosofo al que admirabamos en la juventud Vos jugando al metegol con Tomas Abraham solamente puede pasar en un sueno me decia Y era verdad En un momento durante el partido me imagine con diecisiete anos mirando por la ventana de la libreria Gandhi esa escena del futuro y sonrei Ese recuerdo momentaneo me desconcentro del juego y justo en ese momento me hicieron un gol el unico que recibi esa noche yo defendia la zaga Fue un gol con molinete de Gonzalo Garces el director de la editorial Galerna y el con injusticia me lo festejo en la cara de un modo muy antideportivo como si se tratara de la final del mundo Entonces me vino a la cabeza algo que ya conte muchas veces en sobremesas con amigos y que ocurrio la noche en que lo conoci a Gonzalo cuando los dos eramos adolescentes En ese entonces seria el ano noventa y uno me gustaba mucho pasar los veranos en Mercedes mi pueblo porque mis padres se iban de vacaciones y me dejaban la casa sola Mi amigo Chiri llegaba los viernes muy de madrugada y pasaba por casa para ver si yo estaba despierto Si veia luz en la habitacion me tocaba timbre y nos emborrachabamos por ahi Si no veia luz entraba por la ventana de mi cuarto a oscuras y me despertaba de maneras horribles a veces me tiraba agua en la cara o me pegaba una patada en la panza O me metia un gato entre las cobijas O se subia arriba de las mantas y empezaba a bombearme desde atras como un amante desenfrenado El objetivo era despertarme siempre de una manera creativa Pero cierto fin de semana paso que por la tarde conoci a Gonzalo Garces que entonces era una promesa de escritor de diecisiete anos y lo invite a pasar un fin de semana a Mercedes Gonzalo ya era entonces el cachorro de lo que es hoy una persona fina siempre muy bien banado de clase acomodada y sereno De hecho se habia convertido un ano antes a los dieciseis en el critico literario mas joven en la historia del diario porteno La Nacion Un prodigio Garces Siempre lo fue Nos conocimos por casualidad porque aquel ano integramos una antologia de jovenes promesas literarias de entonces y se habia publicado un libro con veinte autores adolescentes Yo lei su cuento y fue el unico que me gusto entonces lo llame por telefono y lo invite a casa para charlar Estuvo en Mercedes ese fin de semana Lo lleve al carnaval del pueblo que es uno de los carnavales menos luminosos y mas tristes de la provincia de Buenos Aires La pasamos muy bien todo ese dia hasta el accidente nocturno Gonzalo Garces se quedo a dormir en casa y le ofreci mi habitacion Yo me fui a dormir la borrachera a la cama de mis padres sin recordar la rutina de Chiri por las madrugadas Esa noche Gonzalo un chico buen mozo y fragil se acosto y apago la luz en una ciudad desconocida de la llanura pampeana y se quedo dormido sin saber que en medio de la noche un borracho joven entraria a oscuras por la ventana y se subiria encima suyo para sodomizarlo Yo no escuche el grito porque la habitacion de mis padres quedaba lejos No me entere de nada Pero a la manana siguiente encontre a Gonzalo en la cocina Desayunaba con los pelos alborotados Me dijo Ayer entro un tipo por la ventana y me quiso fornicar Yo estaba adentro de las sabanas y cuando saque la cabeza asustado el tipo me mira y me dice Vos no sos el gordo y me deja de fornicar Se levanta de la cama me pide disculpas y se escapa por la ventana Iba en un ciclomotor de la marca Zanella No aparecio nunca mas Yo mire la taza de cafe que tenia Gonzalo en la mano le temblaba Antes de que se pusiera a llorar lo tranquilice Estamos en carnaval le dije En estas epocas vale todo Gonzalo El susto de Garces fue enorme y yo crei siempre que se habia olvidado de aquello En esa epoca me preocupe mas por el susto de mi amigo Chiri que duro muchos anos y fue traumatico Creer que estas violando en chiste a un amigo gordo de toda la vida y ver de repente que estas violando en chiste a una promesa literaria menor de edad es horrible Esa imagen no se va muy facil del subconsciente Pobre Chiri Con el paso de los anos fue peor porque Gonzalo Garces empezo a crecer en el mundo hispanoamericano de las letras se convirtio en un gran escritor en un critico implacable en el director de una editorial prestigiosa y el trauma de Chiri crecio siempre a la par de la consagracion de Garces Hace unos anos cuando Gonzalo gano el Premio Seix Barral Chiri sintio mucha verguenza por haber violado en la oscuridad a alguien que habia conseguido el mismo galardon que Vargas Llosa Pero ahora creo que el gol que me grito Gonzalo Garces a la cara durante el metegol con una mirada maradoniana y vengativa que jamas le habia visto antes casi mirando a camara fue una manera de decirme que todavia se acuerda que algo sigue roto en su alma que no le gustaron mucho los carnavales de mi pueblo Hernan Casciari  noviembre\n"
     ]
    }
   ],
   "source": [
    "## Para realizar el proceso de limpieza nos basamos en los pasos desarrollados en el taller Introducción al Procesamiento de Lenguaje Natural\n",
    "import re\n",
    "import unidecode\n",
    "\n",
    "## Primero Eliminamos los caracteres no deseados\n",
    "\n",
    "# Aplicar unidecode para eliminar las tildes\n",
    "casciari['cuento'] = casciari['cuento'].apply(lambda x: unidecode.unidecode(x))\n",
    "\n",
    "# Eliminar caracteres no deseados, números y espacios en blanco adicionales\n",
    "casciari['cuento'] = casciari['cuento'].apply(lambda x: re.sub('[^A-Za-z0-9 ]+', ' ', x))\n",
    "\n",
    "# Eliminar espacios extras\n",
    "casciari['cuento'] = casciari['cuento'].apply(lambda x: re.sub('\\s+', ' ', x))\n",
    "\n",
    "# Quitar números\n",
    "casciari['cuento'] = casciari['cuento'].apply(lambda x: re.sub(\"\\d+\", \"\", x))\n",
    "\n",
    "# Quitar espacios en blanco al principio y al final del texto\n",
    "casciari['cuento'] = casciari['cuento'].str.strip()\n",
    "\n",
    "## Observamos los resultados en el cuento de ejemplo 160 La venganza del metegol\n",
    "print(casciari['titulo'][160])\n",
    "print(casciari['cuento'][160])\n"
   ]
  },
  {
   "cell_type": "markdown",
   "id": "4391d7dd",
   "metadata": {},
   "source": [
    "Como se puede observar en el resultado se observa el texto sin tíldes, números y otros carácteres indeseables. Para continuar limpiando el texto se procede a manejar el tema de Tokenización y Stopwords"
   ]
  },
  {
   "cell_type": "code",
   "execution_count": 24,
   "id": "8f4f2c02",
   "metadata": {},
   "outputs": [
    {
     "name": "stdout",
     "output_type": "stream",
     "text": [
      "     palabra\n",
      "0      ahora\n",
      "1  alejandro\n",
      "2       alex\n",
      "3    alfonso\n",
      "4    alguien\n",
      "La estructura del dataframe es de dimensión (169, 1)\n"
     ]
    }
   ],
   "source": [
    "## Se procede a cargar los stopwords que se encontraban en data para el desarrollo del taller\n",
    "\n",
    "# Convertir el csv a un dataframe usando pandas\n",
    "stopwords_taller = pd.read_csv(\"data/stopwords_taller.csv\", sep=\",\", header=None, names=[\"palabra\"])\n",
    "\n",
    "# Vemos la estructura del database\n",
    "print(stopwords_taller.head())\n",
    "# Exploramos la estructura del dataframe\n",
    "print(\"La estructura del dataframe es de dimensión\", stopwords_taller.shape)"
   ]
  },
  {
   "cell_type": "code",
   "execution_count": 25,
   "id": "e293c325",
   "metadata": {},
   "outputs": [
    {
     "data": {
      "text/html": [
       "<div>\n",
       "<style scoped>\n",
       "    .dataframe tbody tr th:only-of-type {\n",
       "        vertical-align: middle;\n",
       "    }\n",
       "\n",
       "    .dataframe tbody tr th {\n",
       "        vertical-align: top;\n",
       "    }\n",
       "\n",
       "    .dataframe thead th {\n",
       "        text-align: right;\n",
       "    }\n",
       "</style>\n",
       "<table border=\"1\" class=\"dataframe\">\n",
       "  <thead>\n",
       "    <tr style=\"text-align: right;\">\n",
       "      <th></th>\n",
       "      <th>palabra</th>\n",
       "    </tr>\n",
       "  </thead>\n",
       "  <tbody>\n",
       "    <tr>\n",
       "      <th>0</th>\n",
       "      <td>ahora</td>\n",
       "    </tr>\n",
       "    <tr>\n",
       "      <th>1</th>\n",
       "      <td>alejandro</td>\n",
       "    </tr>\n",
       "    <tr>\n",
       "      <th>2</th>\n",
       "      <td>alex</td>\n",
       "    </tr>\n",
       "    <tr>\n",
       "      <th>3</th>\n",
       "      <td>alfonso</td>\n",
       "    </tr>\n",
       "    <tr>\n",
       "      <th>4</th>\n",
       "      <td>alguien</td>\n",
       "    </tr>\n",
       "  </tbody>\n",
       "</table>\n",
       "</div>"
      ],
      "text/plain": [
       "     palabra\n",
       "0      ahora\n",
       "1  alejandro\n",
       "2       alex\n",
       "3    alfonso\n",
       "4    alguien"
      ]
     },
     "execution_count": 25,
     "metadata": {},
     "output_type": "execute_result"
    }
   ],
   "source": [
    "stopwords_taller.head(5)"
   ]
  },
  {
   "cell_type": "code",
   "execution_count": 26,
   "id": "eb8704e7",
   "metadata": {},
   "outputs": [
    {
     "name": "stdout",
     "output_type": "stream",
     "text": [
      "La venganza del metegol\n",
      "mes invitaron presentar Aires futbol charla director editorial invito jugar partido metegol invento espanol creadores llaman erroneamente futbolin anos jugaba metegol suerte toco companero filosofo prestigioso pudimos ganar contrincantes autor director editorial conocia juventud Jugamos partidos enteros destrozamos facilidad pasmosa anos practicaba falso deporte munecas reflejos descubri perdido manas sentir edad destreza mantengamos indemne pelotuda convierte noticia charla fotografos imagenes partido metegol subieron Twitter Estadio Libreria Gandhi Aires Locales izquierda Duchini Gonzalo Garces Vistantes derecha Tomas Abraham Resultado match     match     Paliza volvi recibi mail amigo infancia decia visto fotos sorprendia companero filosofo admirabamos juventud jugando metegol Tomas Abraham pasar sueno decia partido imagine diecisiete anos mirando ventana libreria Gandhi escena futuro sonrei recuerdo momentaneo desconcentro juego justo gol unico recibi defendia zaga gol molinete Gonzalo Garces director editorial Galerna injusticia festejo cara antideportivo tratara vino cabeza conte sobremesas amigos ocurrio conoci Gonzalo adolescentes seria ano noventa gustaba pasar veranos Mercedes pueblo padres iban vacaciones dejaban amigo llegaba viernes madrugada pasaba despierto veia luz habitacion tocaba timbre emborrachabamos veia luz entraba ventana cuarto oscuras despertaba maneras horribles tiraba agua cara pegaba patada panza metia gato cobijas subia mantas empezaba bombearme amante desenfrenado objetivo despertarme creativa paso conoci Gonzalo Garces promesa escritor diecisiete anos invite pasar Mercedes Gonzalo cachorro persona fina banado clase acomodada sereno convertido ano dieciseis critico literario joven historia diario porteno Nacion prodigio Garces conocimos casualidad ano integramos antologia jovenes promesas literarias publicado veinte autores adolescentes lei cuento unico gusto llame telefono invite charlar Mercedes lleve carnaval pueblo carnavales luminosos tristes provincia Aires pasamos accidente nocturno Gonzalo Garces quedo dormir ofreci habitacion dormir borrachera cama padres recordar rutina madrugadas Gonzalo chico mozo fragil acosto apago luz ciudad desconocida llanura pampeana quedo dormido borracho joven entraria oscuras ventana subiria sodomizarlo escuche grito habitacion padres quedaba lejos entere manana encontre Gonzalo cocina Desayunaba pelos alborotados Ayer entro tipo ventana quiso fornicar adentro sabanas saque cabeza asustado tipo mira sos deja fornicar levanta cama pide disculpas escapa ventana Iba ciclomotor marca Zanella aparecio mire taza cafe tenia Gonzalo mano temblaba pusiera llorar tranquilice carnaval epocas vale Gonzalo susto Garces enorme crei olvidado epoca preocupe susto amigo duro anos traumatico Creer violando chiste amigo violando chiste promesa literaria menor edad horrible imagen facil subconsciente Pobre paso anos Gonzalo Garces empezo crecer hispanoamericano letras convirtio escritor critico implacable director editorial prestigiosa trauma crecio par consagracion Garces anos Gonzalo gano Premio Seix Barral sintio verguenza violado oscuridad conseguido galardon Vargas Llosa gol grito Gonzalo Garces cara metegol mirada maradoniana vengativa jamas visto mirando camara decirme acuerda roto alma gustaron carnavales pueblo    noviembre\n"
     ]
    }
   ],
   "source": [
    "## Se procede a tokenizar y retirar los stopwords\n",
    "\n",
    "## Se implementa nlp tokenización spacy\n",
    "\n",
    "nlp = spacy.load(\"es_core_news_sm\")\n",
    "\n",
    "\n",
    "## Se crea una función para quitar las stopwords (Una para las de Spacy y otras para las del taller), las tildes y los caracteres extraños\n",
    "\n",
    "def remove_stopwords(text):\n",
    "    doc=nlp(text)\n",
    "    doc_sin_stopwords = [token.text for token in doc if not token.is_stop]\n",
    "    return ' '.join(doc_sin_stopwords)\n",
    "\n",
    "\n",
    "def remove_custom_stopwords(text):\n",
    "    doc = nlp(text)\n",
    "    custom_stopwords = list(stopwords_taller['palabra'])\n",
    "    custom_stopwords = [word.lower() for word in custom_stopwords]\n",
    "    tokens = [token.text for token in doc if token.text.lower() not in custom_stopwords and not token.is_stop]\n",
    "    return ' '.join(tokens)\n",
    "\n",
    "\n",
    "## Se procede a corre la función en el dataframe\n",
    "\n",
    "casciari['cuento'] = casciari['cuento'].apply(remove_stopwords)\n",
    "casciari['cuento'] = casciari['cuento'].apply(remove_custom_stopwords)\n",
    "\n",
    "## Observamos los resultados en el cuento de ejemplo 160 La venganza del metegol\n",
    "print(casciari['titulo'][160])\n",
    "print(casciari['cuento'][160])\n"
   ]
  },
  {
   "cell_type": "code",
   "execution_count": 13,
   "id": "3aa74888",
   "metadata": {},
   "outputs": [
    {
     "ename": "ValueError",
     "evalue": "[E1041] Expected a string, Doc, or bytes as input, but got: <class 'pandas.core.frame.DataFrame'>",
     "output_type": "error",
     "traceback": [
      "\u001b[1;31m---------------------------------------------------------------------------\u001b[0m",
      "\u001b[1;31mValueError\u001b[0m                                Traceback (most recent call last)",
      "\u001b[1;32mc:\\Users\\Felipe\\Documents\\GitHub\\AprendizajeNoSupervisado\\Semana6\\S6_LC1_Taller_LDA.ipynb Cell 11\u001b[0m line \u001b[0;36m<cell line: 24>\u001b[1;34m()\u001b[0m\n\u001b[0;32m     <a href='vscode-notebook-cell:/c%3A/Users/Felipe/Documents/GitHub/AprendizajeNoSupervisado/Semana6/S6_LC1_Taller_LDA.ipynb#X11sZmlsZQ%3D%3D?line=20'>21</a>\u001b[0m \u001b[39m# Cargar el modelo para el idioma deseado (por ejemplo, español)\u001b[39;00m\n\u001b[0;32m     <a href='vscode-notebook-cell:/c%3A/Users/Felipe/Documents/GitHub/AprendizajeNoSupervisado/Semana6/S6_LC1_Taller_LDA.ipynb#X11sZmlsZQ%3D%3D?line=21'>22</a>\u001b[0m nlp \u001b[39m=\u001b[39m spacy\u001b[39m.\u001b[39mload(\u001b[39m\"\u001b[39m\u001b[39mes_core_news_sm\u001b[39m\u001b[39m\"\u001b[39m)\n\u001b[1;32m---> <a href='vscode-notebook-cell:/c%3A/Users/Felipe/Documents/GitHub/AprendizajeNoSupervisado/Semana6/S6_LC1_Taller_LDA.ipynb#X11sZmlsZQ%3D%3D?line=23'>24</a>\u001b[0m doc \u001b[39m=\u001b[39m nlp(casciari)\n\u001b[0;32m     <a href='vscode-notebook-cell:/c%3A/Users/Felipe/Documents/GitHub/AprendizajeNoSupervisado/Semana6/S6_LC1_Taller_LDA.ipynb#X11sZmlsZQ%3D%3D?line=26'>27</a>\u001b[0m \u001b[39m## Retiramos caracteres no deseados\u001b[39;00m\n\u001b[0;32m     <a href='vscode-notebook-cell:/c%3A/Users/Felipe/Documents/GitHub/AprendizajeNoSupervisado/Semana6/S6_LC1_Taller_LDA.ipynb#X11sZmlsZQ%3D%3D?line=27'>28</a>\u001b[0m \n\u001b[0;32m     <a href='vscode-notebook-cell:/c%3A/Users/Felipe/Documents/GitHub/AprendizajeNoSupervisado/Semana6/S6_LC1_Taller_LDA.ipynb#X11sZmlsZQ%3D%3D?line=28'>29</a>\u001b[0m \u001b[39m# Quitamos tildes\u001b[39;00m\n\u001b[0;32m     <a href='vscode-notebook-cell:/c%3A/Users/Felipe/Documents/GitHub/AprendizajeNoSupervisado/Semana6/S6_LC1_Taller_LDA.ipynb#X11sZmlsZQ%3D%3D?line=29'>30</a>\u001b[0m documento \u001b[39m=\u001b[39m unidecode\u001b[39m.\u001b[39munidecode(casciari)\n",
      "File \u001b[1;32mc:\\Users\\Felipe\\anaconda3\\envs\\Financiero\\lib\\site-packages\\spacy\\language.py:1030\u001b[0m, in \u001b[0;36mLanguage.__call__\u001b[1;34m(self, text, disable, component_cfg)\u001b[0m\n\u001b[0;32m   1009\u001b[0m \u001b[39mdef\u001b[39;00m \u001b[39m__call__\u001b[39m(\n\u001b[0;32m   1010\u001b[0m     \u001b[39mself\u001b[39m,\n\u001b[0;32m   1011\u001b[0m     text: Union[\u001b[39mstr\u001b[39m, Doc],\n\u001b[1;32m   (...)\u001b[0m\n\u001b[0;32m   1014\u001b[0m     component_cfg: Optional[Dict[\u001b[39mstr\u001b[39m, Dict[\u001b[39mstr\u001b[39m, Any]]] \u001b[39m=\u001b[39m \u001b[39mNone\u001b[39;00m,\n\u001b[0;32m   1015\u001b[0m ) \u001b[39m-\u001b[39m\u001b[39m>\u001b[39m Doc:\n\u001b[0;32m   1016\u001b[0m     \u001b[39m\"\"\"Apply the pipeline to some text. The text can span multiple sentences,\u001b[39;00m\n\u001b[0;32m   1017\u001b[0m \u001b[39m    and can contain arbitrary whitespace. Alignment into the original string\u001b[39;00m\n\u001b[0;32m   1018\u001b[0m \u001b[39m    is preserved.\u001b[39;00m\n\u001b[1;32m   (...)\u001b[0m\n\u001b[0;32m   1028\u001b[0m \u001b[39m    DOCS: https://spacy.io/api/language#call\u001b[39;00m\n\u001b[0;32m   1029\u001b[0m \u001b[39m    \"\"\"\u001b[39;00m\n\u001b[1;32m-> 1030\u001b[0m     doc \u001b[39m=\u001b[39m \u001b[39mself\u001b[39;49m\u001b[39m.\u001b[39;49m_ensure_doc(text)\n\u001b[0;32m   1031\u001b[0m     \u001b[39mif\u001b[39;00m component_cfg \u001b[39mis\u001b[39;00m \u001b[39mNone\u001b[39;00m:\n\u001b[0;32m   1032\u001b[0m         component_cfg \u001b[39m=\u001b[39m {}\n",
      "File \u001b[1;32mc:\\Users\\Felipe\\anaconda3\\envs\\Financiero\\lib\\site-packages\\spacy\\language.py:1124\u001b[0m, in \u001b[0;36mLanguage._ensure_doc\u001b[1;34m(self, doc_like)\u001b[0m\n\u001b[0;32m   1122\u001b[0m \u001b[39mif\u001b[39;00m \u001b[39misinstance\u001b[39m(doc_like, \u001b[39mbytes\u001b[39m):\n\u001b[0;32m   1123\u001b[0m     \u001b[39mreturn\u001b[39;00m Doc(\u001b[39mself\u001b[39m\u001b[39m.\u001b[39mvocab)\u001b[39m.\u001b[39mfrom_bytes(doc_like)\n\u001b[1;32m-> 1124\u001b[0m \u001b[39mraise\u001b[39;00m \u001b[39mValueError\u001b[39;00m(Errors\u001b[39m.\u001b[39mE1041\u001b[39m.\u001b[39mformat(\u001b[39mtype\u001b[39m\u001b[39m=\u001b[39m\u001b[39mtype\u001b[39m(doc_like)))\n",
      "\u001b[1;31mValueError\u001b[0m: [E1041] Expected a string, Doc, or bytes as input, but got: <class 'pandas.core.frame.DataFrame'>"
     ]
    }
   ],
   "source": [
    "### Limpieza y tokenización siguiendo el ejemplo del LAB Intro al PLN\n",
    "\n",
    "# PENDIENTES:\n",
    "# 1) FALTA USAR LA LISTA DE STOPWORDS PROVISTA PARA EL TALLER\n",
    "# 2) FALTA EN CADA PASO MOSTRAR LA TRNASFORMACIÓN DEL BLOG \"LA VENGANZA DEL METEGOL\"\n",
    "\n",
    "\n",
    "# Cargamos las librerías a utilizar\n",
    "import re\n",
    "import unidecode\n",
    "import spacy\n",
    "from wordcloud import WordCloud\n",
    "import matplotlib.pyplot as plt\n",
    "\n",
    "\n",
    "#Escogemos el cuento la venganza del metegol como ejemplo\n",
    "example=casciari['cuento'][160]\n",
    "example\n",
    "\n",
    "\n",
    "# Cargar el modelo para el idioma deseado (por ejemplo, español)\n",
    "nlp = spacy.load(\"es_core_news_sm\")\n",
    "\n",
    "doc = nlp(casciari)\n",
    "\n",
    "\n",
    "## Retiramos caracteres no deseados\n",
    "\n",
    "# Quitamos tildes\n",
    "documento = unidecode.unidecode(casciari)\n",
    "print(documento[5,:,:]) \n",
    "\n",
    "# Retiramos caracteres no deseados\n",
    "documento = re.sub('[^A-Za-z0-9 ]+', ' ', documento)\n",
    "\n",
    "# Eliminamos espacios extras\n",
    "documento = re.sub('\\s+', ' ', documento)\n",
    "\n",
    "# Minúsculas\n",
    "documento = documento.lower()\n",
    "\n",
    "## Tokenización\n",
    "doc = nlp(documento)\n",
    "\n",
    "\n",
    "# Filtrar las stopwords\n",
    "doc_sin_stopwords = [token.text for token in doc if not token.is_stop]\n",
    "\n",
    "# Convertir la lista de palabras sin stopwords nuevamente a texto\n",
    "doc_sin_stopwords = ' '.join(doc_sin_stopwords)\n",
    "\n",
    "# Obtener los lemas de cada palabra\n",
    "lemmas =[token.lemma_ for token in nlp(doc_sin_stopwords)]\n",
    "\n",
    "\n",
    "# Convertir la lista de lemmas nuevamente a texto\n",
    "doc_lemmas = \" \".join(lemmas)\n",
    "\n",
    "# Creamos el objeto WordCloud con el documento de lemas\n",
    "wordcloud = WordCloud(width = 1600, height = 800, \n",
    "    background_color = \"white\").generate(doc_lemmas)\n",
    "\n",
    "\n",
    "# Mostramos la nube de palabras usando Matplotlib\n",
    "plt.figure(figsize = (20, 10))\n",
    "plt.imshow(wordcloud, interpolation = 'bilinear')\n",
    "plt.axis(\"off\") # elimina los ejes y marcas para tener una visualización más limpia.\n",
    "plt.show()\n",
    "\n"
   ]
  },
  {
   "cell_type": "markdown",
   "metadata": {},
   "source": [
    "#### Procedimiento:\n",
    "\n",
    "1.\n",
    "\n",
    "#### Análisis y conclusiones: \n",
    "\n",
    "1. "
   ]
  },
  {
   "cell_type": "markdown",
   "metadata": {},
   "source": [
    "### 3. Generando Recomendaciones\n",
    "\n",
    "En esta sección nos interesa generar recomendaciones de cuentos en el blog a un usuario que leyó 'La venganza del metegol'. Para ello vamos a utilizar distintas estrategias."
   ]
  },
  {
   "cell_type": "markdown",
   "metadata": {},
   "source": [
    "#### 3.1. Recomendaciones basadas en contenidos\n",
    "\n",
    "##### 3.1.1. Genere 5 recomendaciones de más recomendada (1) a menos recomendada (5) para el cuento 'La venganza del metegol' usando en la distancia de coseno donde el texto este vectorizado por `CountVectorizer`. Explique el procedimiento que realizó y como ordenó las recomendaciones."
   ]
  },
  {
   "cell_type": "code",
   "execution_count": null,
   "id": "0171d664",
   "metadata": {},
   "outputs": [],
   "source": [
    "# Utilice este espacio para escribir el código."
   ]
  },
  {
   "cell_type": "markdown",
   "metadata": {},
   "source": [
    "(Utilice este espacio para describir el procedimiento, análisis, y conclusiones)"
   ]
  },
  {
   "cell_type": "markdown",
   "metadata": {},
   "source": [
    "##### 3.1.2. Genere 5 recomendaciones de más recomendada (1) a menos recomendada (5) para  el cuento 'La venganza del metegol' usando nuevamente la distancia de coseno, pero ahora vectorice el texto usando `TF-IDFVectorizer`. Explique el procedimiento que realizó y como ordenó las recomendaciones. Compare con los resultados del punto anterior y explique sus similitudes y/o diferencias."
   ]
  },
  {
   "cell_type": "code",
   "execution_count": null,
   "id": "6195d08c",
   "metadata": {},
   "outputs": [],
   "source": [
    "# Utilice este espacio para escribir el código."
   ]
  },
  {
   "cell_type": "markdown",
   "metadata": {},
   "source": [
    "(Utilice este espacio para describir el procedimiento, análisis, y conclusiones)"
   ]
  },
  {
   "cell_type": "markdown",
   "metadata": {},
   "source": [
    "##### 3.1.3. Genere 5 recomendaciones de más recomendada (1) a menos recomendada (5) para el cuento 'La venganza del metegol' usando el texto vectorizado por `TF-IDFVectorizer` y la correlación como medida de similitud. Explique el procedimiento que realizó y como ordenó las recomendaciones. Compare con los resultados de los puntos anteriores y explique sus similitudes y/o diferencias."
   ]
  },
  {
   "cell_type": "code",
   "execution_count": null,
   "id": "a29e1fb9",
   "metadata": {},
   "outputs": [],
   "source": [
    "# Utilice este espacio para escribir el código."
   ]
  },
  {
   "cell_type": "markdown",
   "metadata": {},
   "source": [
    "(Utilice este espacio para describir el procedimiento, análisis, y conclusiones)"
   ]
  },
  {
   "cell_type": "markdown",
   "metadata": {},
   "source": [
    "##### 3.2. Recomendaciones basadas en temas\n",
    "\n",
    "Usando modelado de temas con LDA, encuentre los temas subyacentes en el blog. Explique como eligió el numero óptimo de temas. Utilizando el tema asignado al cuento 'La venganza del metegol' y la probabilidad de pertenecer a este tema genere 5 recomendaciones de más recomendada (1) a menos recomendada (5) para este cuento. Explique el procedimiento que realizó. Compare con los resultados encontrados anteriormente y explique sus similitudes y/o diferencias. (Esto puede tomar mucho tiempo y requerir mucha capacidad computacional, puede aprovechar los recursos de [Google Colab](https://colab.research.google.com/))\n"
   ]
  },
  {
   "cell_type": "code",
   "execution_count": null,
   "id": "07a0d811",
   "metadata": {},
   "outputs": [],
   "source": [
    "# Utilice este espacio para escribir el código."
   ]
  },
  {
   "cell_type": "markdown",
   "metadata": {},
   "source": [
    "(Utilice este espacio para describir el procedimiento, análisis, y conclusiones)"
   ]
  },
  {
   "cell_type": "markdown",
   "metadata": {},
   "source": [
    "### 4 Recomendaciones generales\n",
    "\n",
    "De acuerdo con los resultados encontrados, en su opinión ¿qué procedimiento generó las mejores recomendaciones para la entrada elegida? ¿Cómo implementaría una evaluación objetiva de estas recomendaciones? Justifique su respuesta."
   ]
  },
  {
   "cell_type": "markdown",
   "metadata": {},
   "source": [
    "(Utilice este espacio para describir su procedimiento)"
   ]
  }
 ],
 "metadata": {
  "kernelspec": {
   "display_name": "Python 3 (ipykernel)",
   "language": "python",
   "name": "python3"
  },
  "language_info": {
   "codemirror_mode": {
    "name": "ipython",
    "version": 3
   },
   "file_extension": ".py",
   "mimetype": "text/x-python",
   "name": "python",
   "nbconvert_exporter": "python",
   "pygments_lexer": "ipython3",
   "version": "3.9.12"
  },
  "toc": {
   "base_numbering": 1,
   "nav_menu": {},
   "number_sections": true,
   "sideBar": true,
   "skip_h1_title": false,
   "title_cell": "Table of Contents",
   "title_sidebar": "Contents",
   "toc_cell": false,
   "toc_position": {},
   "toc_section_display": true,
   "toc_window_display": false
  }
 },
 "nbformat": 4,
 "nbformat_minor": 5
}
