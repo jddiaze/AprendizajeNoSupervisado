{
 "cells": [
  {
   "cell_type": "markdown",
   "metadata": {},
   "source": [
    "<div >\n",
    "<img src = \"figs/ans_banner_1920x200.png\" />\n",
    "</div>"
   ]
  },
  {
   "cell_type": "markdown",
   "metadata": {},
   "source": [
    "# Caso-taller:  Recomendando el Blog de  Hernán Casciari \n",
    "\n",
    "\n",
    "[Hernán Casciari](https://hernancasciari.com/#bio), es un escritor argentino, que escribe blog posts con cuentos e historias  relacionadas con el futbol, su vida, infancia, y relaciones familiares con toques de ficción. Este [blog](https://hernancasciari.com/blog/) es  tan interesantes que en 2005 fue premiado como “El mejor blog del mundo” por Deutsche Welle de Alemania. \n",
    "\n",
    "El objetivo de este caso-taller es construir un sistema de recomendación basado en los contenidos de los posts utilizando similitud de las palabras usadas o temas de los cuentos."
   ]
  },
  {
   "cell_type": "markdown",
   "metadata": {},
   "source": [
    "## Instrucciones generales\n",
    "\n",
    "1. Para desarrollar el *cuaderno*, primero debe descargarlo.\n",
    "\n",
    "2. Para responder cada inciso deberá utilizar el espacio debidamente especificado.\n",
    "\n",
    "3. La actividad será calificada sólo si sube el *cuaderno* de jupyter notebook con extensión `.ipynb` en la actividad designada como \"entrega calificada por el personal\".\n",
    "\n",
    "4. El archivo entregado debe poder ser ejecutado localmente por el tutor. Sea cuidadoso con la especificación de la ubicación de los archivos de soporte, guarde la carpeta de datos en el mismo `path` de su cuaderno, por ejemplo: `data`."
   ]
  },
  {
   "cell_type": "markdown",
   "metadata": {},
   "source": [
    "## Desarrollo\n"
   ]
  },
  {
   "cell_type": "markdown",
   "metadata": {},
   "source": [
    "### 1. Carga de datos \n",
    "\n",
    "En la carpeta `data` se encuentran el archivo `blog_casciari.csv` con el título, la fecha de publicación, y el contenido de los cuentos publicados en el blog  de sr. Casciari. Cargue estos datos en su *cuaderno* y reporte brevemente el contenido de la base.\n",
    "   "
   ]
  },
  {
   "cell_type": "code",
   "execution_count": 1,
   "id": "27a93734",
   "metadata": {},
   "outputs": [
    {
     "name": "stdout",
     "output_type": "stream",
     "text": [
      "                       titulo    fecha  \\\n",
      "0            El rincón blanco  1/11/08   \n",
      "1  Mínimos avances en la cama  1/24/08   \n",
      "2                  Don Marcos  2/19/08   \n",
      "3              Los dos rulfos  3/26/08   \n",
      "4   La noticia no es el perro  4/15/08   \n",
      "\n",
      "                                              cuento  \n",
      "0  De pronto yo estaba en el hogar donde pasé la ...  \n",
      "1  Menos la cama, todo ha mejorado en este mundo....  \n",
      "2  Dos veces, y no una, mi abuelo materno me ayud...  \n",
      "3  A su regreso de México, mi amigo Comequechu no...  \n",
      "4  De repente, un video de You Tube recibe un mil...  \n",
      "La estructura del dataframe es de dimensión (520, 3)\n",
      "La venganza del metegol\n",
      "El mes pasado me invitaron a presentar un libro en Buenos Aires. Y como era un libro sobre fútbol, al final de la charla el director de la editorial nos invitó a jugar un partido de metegol (ese invento español al que sus creadores llaman, erróneamente, futbolín). Hacía años que no jugaba al metegol, pero por suerte me tocó de compañero un filósofo muy prestigioso y pudimos ganar. Nuestros contrincantes eran el autor del libro y el director de la editorial. De los tres, a este último lo conocía desde la juventud.\n",
      "Jugamos dos partidos enteros y los destrozamos con una facilidad pasmosa: hacía años que no practicaba este falso deporte de muñecas y reflejos, pero descubrí que no había perdido las mañas. Eso me hizo sentir bien: a mi edad cualquier destreza que mantengamos indemne, por más pelotuda que sea, se convierte en una gran noticia.\n",
      "Después de la charla algunos fotógrafos hicieron imágenes del partido de metegol y las subieron a Twitter.\n",
      "— Estadio: Librería Gandhi, Buenos Aires. Locales: A la izquierda, Alejandro Duchini y Gonzalo Garcés. Vistantes: A la derecha, Tomás Abraham y Hernán Casciari. Resultado: 1º match: 1-4; 2º match 0-4. Paliza.\n",
      "Cuando volví a casa recibí un mail de Chiri, mi mejor amigo desde la infancia. Me decía que había visto las fotos y se sorprendía de que mi compañero haya sido el mismo filósofo al que admirábamos en la juventud. «Vos, jugando al metegol con Tomás Abraham; solamente puede pasar en un sueño», me decía. Y era verdad. En un momento, durante el partido, me imaginé con diecisiete años mirando por la ventana de la librería Gandhi esa escena del futuro, y sonreí.\n",
      "Ese recuerdo momentáneo me desconcentró del juego y justo en ese momento me hicieron un gol (el único que recibí esa noche; yo defendía la zaga). Fue un gol con molinete de Gonzalo Garcés, el director de la editorial Galerna, y él, con injusticia, me lo festejó en la cara de un modo muy antideportivo, como si se tratara de la final del mundo.\n",
      "Entonces me vino a la cabeza algo que ya conté muchas veces en sobremesas con amigos, y que ocurrió la noche en que lo conocí a Gonzalo, cuando los dos éramos adolescentes.\n",
      "En ese entonces (sería el año noventa y uno) me gustaba mucho pasar los veranos en Mercedes, mi pueblo, porque mis padres se iban de vacaciones y me dejaban la casa sola. Mi amigo Chiri llegaba los viernes muy de madrugada, y pasaba por casa para ver si yo estaba despierto. Si veía luz en la habitación me tocaba timbre y nos emborrachábamos por ahí. Si no veía luz, entraba por la ventana de mi cuarto a oscuras y me despertaba de maneras horribles: a veces me tiraba agua en la cara, o me pegaba una patada en la panza. O me metía un gato entre las cobijas. O se subía arriba de las mantas y empezaba a bombearme desde atrás como un amante desenfrenado. El objetivo era despertarme siempre de una manera creativa.\n",
      "Pero cierto fin de semana pasó que, por la tarde, conocí a Gonzalo Garcés (que entonces era una promesa de escritor de diecisiete años) y lo invité a pasar un fin de semana a Mercedes. Gonzalo ya era entonces el cachorro de lo que es hoy: una persona fina, siempre muy bien bañado, de clase acomodada y sereno. De hecho, se había convertido un año antes, a los dieciséis, en el crítico literario más joven en la historia del diario porteño La Nación. Un prodigio, Garcés. Siempre lo fue.\n",
      "Nos conocimos por casualidad porque aquel año integramos una antología de «jóvenes promesas literarias» de entonces, y se había publicado un libro con veinte autores adolescentes. Yo leí su cuento y fue el único que me gustó, entonces lo llamé por teléfono y lo invité a casa para charlar. Estuvo en Mercedes ese fin de semana. Lo llevé al carnaval del pueblo, que es uno de los carnavales menos luminosos y más tristes de la provincia de Buenos Aires.\n",
      "La pasamos muy bien todo ese día, hasta el accidente nocturno. Gonzalo Garcés se quedó a dormir en casa y le ofrecí mi habitación. Yo me fui a dormir la borrachera a la cama de mis padres, sin recordar la rutina de Chiri por las madrugadas. Esa noche Gonzalo, un chico buen mozo y frágil, se acostó y apagó la luz en una ciudad desconocida de la llanura pampeana, y se quedó dormido, sin saber que en medio de la noche un borracho joven entraría a oscuras por la ventana y se subiría encima suyo para sodomizarlo.\n",
      "Yo no escuché el grito, porque la habitación de mis padres quedaba lejos. No me enteré de nada. Pero a la mañana siguiente encontré a Gonzalo en la cocina. Desayunaba con los pelos alborotados. Me dijo:\n",
      "—?Ayer entró un tipo por la ventana y me quiso fornicar. Yo estaba adentro de las sábanas y cuando saqué la cabeza, asustado, el tipo me mira y me dice «Vos no sos el gordo», y me deja de fornicar. Se levanta de la cama, me pide disculpas y se escapa por la ventana. Iba en un ciclomotor de la marca Zanella. No apareció nunca más.\n",
      "Yo miré la taza de café que tenía Gonzalo en la mano: le temblaba. Antes de que se pusiera a llorar lo tranquilicé:\n",
      "— Estamos en carnaval?—?le dije?—?. En estas épocas vale todo, Gonzalo.\n",
      "El susto de Garcés fue enorme, y yo creí siempre que se había olvidado de aquello. En esa época me preocupé más por el susto de mi amigo Chiri, que duró muchos años y fue traumático. Creer que estás violando en chiste a un amigo gordo, de toda la vida, y ver de repente que estás violando en chiste a una promesa literaria menor de edad, es horrible. Esa imagen no se va muy fácil del subconsciente. Pobre Chiri.\n",
      "Con el paso de los años fue peor, porque Gonzalo Garcés empezó a crecer en el mundo hispanoamericano de las letras, se convirtió en un gran escritor, en un crítico implacable, en el director de una editorial prestigiosa, y el trauma de Chiri creció siempre a la par de la consagración de Garcés.\n",
      "Hace unos años, cuando Gonzalo ganó el Premio Seix Barral, Chiri sintió mucha vergüenza por haber violado en la oscuridad a alguien que había conseguido el mismo galardón que Vargas Llosa.\n",
      "Pero ahora creo que el gol que me gritó Gonzalo Garcés a la cara durante el metegol, con una mirada maradoniana y vengativa que jamás le había visto antes, casi mirando a cámara, fue una manera de decirme que todavía se acuerda, que algo sigue roto en su alma, que no le gustaron mucho los carnavales de mi pueblo.\n",
      "Hernán Casciari\n",
      "17 noviembre, 2015\n"
     ]
    }
   ],
   "source": [
    "# Utilice este espacio para escribir el código.\n",
    "import pandas as pd\n",
    "import numpy as np\n",
    "\n",
    "# Convertir el csv a un dataframe usando pandas\n",
    "casciari = pd.read_csv(\"data/blog_casciari.csv\", sep = \",\")\n",
    "\n",
    "# Ilustrar la esturctura del dataframe\n",
    "print(casciari.head())\n",
    "# Exploramos la estructura del dataframe\n",
    "print(\"La estructura del dataframe es de dimensión\", casciari.shape)\n",
    "\n",
    "# Vemos el cuento ejemplo - 160 La venganza del metegol\n",
    "#example=casciari['cuento'][160]\n",
    "print(casciari['titulo'][160])\n",
    "print(casciari['cuento'][160])\n"
   ]
  },
  {
   "cell_type": "markdown",
   "id": "cd4e5e79",
   "metadata": {},
   "source": [
    "#### Procedimiento:\n",
    "\n",
    "1. Importamos las librerias a utilizar, en este caso son pandas y numpy\n",
    "2. Convertimos el archivo csv a un dataframe utilizando pandas\n",
    "3. Exploramos la estructura del dataframe\n",
    "4. Usamos la función shape para visualizar las dimensiones del dataframe\n",
    "\n",
    "#### Análisis y conclusiones: \n",
    "\n",
    "Podemos ver que el Blog de Hernán Casciri contiene 520 entradas y el archivo nos provee la información de título y fecha y cuento. "
   ]
  },
  {
   "cell_type": "markdown",
   "id": "060d3c5e",
   "metadata": {},
   "source": [
    "### 2. Homogenización de textos\n",
    "\n",
    "Para cumplir con el objetivo de generar recomendaciones en esta sección debe preparar los posts para poder ser utilizados en su sistema de recomendación. Para ello, \"limpie\" y \"tokenize\" cada uno de los cuentos, describiendo detalladamente los pasos que realizo y si transformó o eliminó ciertas palabras. Para asistirlo en la tarea he creado listas de *stopwords* que están disponibles en la carpeta `data`. En su procedimiento ilustre la limpieza con el cuento 'La venganza del metegol'. (En su limpieza recuerde que el objetivo es generar recomendaciones a partir de la similitud de las palabras o temas de los cuentos)"
   ]
  },
  {
   "cell_type": "code",
   "execution_count": 2,
   "id": "8f78e58c",
   "metadata": {},
   "outputs": [
    {
     "name": "stdout",
     "output_type": "stream",
     "text": [
      "mes invitar presentar aires futbol charla director editorial invito jugar partido metegol invento espanol creador llamar erroneamente futbolin ano jugar metegol suerte tocar companero filosofo prestigioso poder ganar contrincante autor director editorial conocio juventud jugamos partido entero destrozamos facilidad pasmós ano practicar falso deporte muneca reflejo descubri perdido mana sentir edad destreza mantengamos indemne pelotuda convertir noticia char fotografo imagen partido metegol subir twitter estadio librerio gandhi air local izquierdo duchini gonzalo garz vistant derecho tomar abraham resultado match      match      palizar volvi recibir mail amigo infancia decio visto foto sorprendia companero filosofo admirabar juventud jugar metegol toma abraham pasar sueno decia partido imaginar diecisiete ano mirar ventana librerio gandhi escenar futuro sonrei recuerdo momentaneo desconcentro juego justo gol unico recibi defendia zago gol molinete gonzalo garz director editorial galerno injusticia festejo cara antideportivo tratar venir cabeza conte sobremesa amigo ocurrio conoci gonzalo adolescente serio ano noventa gustar pasar veranos mercedes pueblo padre vacación dejar amigo llegar viernes madrugada pasar despierto veiar luz habitacion tocar timbre emborrachabamo veiar luz entrar ventana cuarto oscura despertar manera horrible tirar agua caro pegar patado panza metia gato cobija subio manta empezar bombearme amante desenfrenado objetivo despertarme creativo paso conoci gonzalo garz promés escritor diecisiete ano invitir pasar merced gonzalo cachorro persona fino banado clase acomodado sereno convertido ano dieciseis critico literario joven historia diario porteno nacion prodigio garz conocer casualidad ano integramo antologia joven promesa literario publicado veinte autor adolescente lei cuento unico gusto llame telefono invitar charlar merced lleve carnaval pueblo carnaval luminoso triste provincia aires pasar accidente nocturno gonzalo garz quedo dormir ofreci habitacion dormir borrachera cama padr recordar rutina madrugada gonzalo chico mozo fragil acosto apago luz ciudad desconocido llanura pampeán quedo dormido borracho joven entrario oscuro ventán subirio sodomizar escuche grito habitacion padre quedar lejos enterar manán encontre gonzalo cocina desayunar pelo alborotado ayer entro tipo ventana querer fornicar adentro sabana sacar cabeza asustado tipo mirar dejar fornicar levanta cama pedir disculpa escapa ventán ciclomotor marca zanella aparecio mire taza cafe tenia gonzalo mano temblar poner llorar tranquilizar carnaval epoca valer gonzalo susto garz enorme crei olvidado epoca preocupe susto amigo duro ano traumatico creer violar chiste amigo violar chiste promesa literario menor edad horrible imagen facil subconsciente pobre paso ano gonzalo garz empezo crecer hispanoamericano letra convirtio escritor critico implacable director editorial prestigioso trauma crecio par consagracion garz ano gonzalo gano premio seix barral sintio verguenzo violado oscuridad conseguido galardon vargas llosa gol grito gonzalo garz cara metegol mirada maradonián vengativo jama visto mirar camara decir acuerda roto alma gustar carnaval pueblo     noviembre\n"
     ]
    }
   ],
   "source": [
    "# Cargamos las librerías a utilizar\n",
    "import spacy\n",
    "import unidecode\n",
    "import re\n",
    "import pandas as pd\n",
    "\n",
    "# Cargar el modelo para el idioma deseado \n",
    "nlp = spacy.load(\"es_core_news_sm\")\n",
    "\n",
    "\n",
    "## Agregamos las palabras de stopwords\n",
    "\n",
    "# Cargamos las stopwords extra\n",
    "extra_stopwords = pd.read_csv('data/stopwords_taller.csv', sep=',',header=None)\n",
    "extra_stopwords.columns = ['stopwords']\n",
    "extra_stopwords=set(extra_stopwords['stopwords'].to_list())\n",
    "\n",
    "# Agregamos a nuestro modelo de SpaCy\n",
    "nlp.Defaults.stop_words |= extra_stopwords\n",
    "\n",
    "## Creamos la función que limpie por completo el texto de los cuentos (Basado en el taller)\n",
    "\n",
    "def text_cleaning(txt):\n",
    "    \n",
    "    # Eliminar caracteres especiales\n",
    "    # Aplicar unidecode para eliminar las tildes\n",
    "    out = unidecode.unidecode(txt)    \n",
    "    # Eliminar caracteres no deseados, números y espacios en blanco adicionales\n",
    "    out = re.sub('[^A-Za-z0-9 ]+', ' ', out)\n",
    "    # Eliminar espacios extras\n",
    "    out = re.sub('\\s+', ' ', out)    \n",
    "    # Quitar números\n",
    "    out = re.sub(\"\\d+\", \"\", out)    \n",
    "    # Quitar espacios en blanco al principio y al final del texto\n",
    "    out = out.strip()\n",
    "    # Poner en minúsculas\n",
    "    out = out.lower()\n",
    "    #NLP object\n",
    "    out = nlp(out)\n",
    "    # Eliminar Stopwords\n",
    "    out = [token.text for token in out if not token.is_stop]\n",
    "    out = \" \".join(out)\n",
    "    # Obtener los lemas de cada palabra\n",
    "    lemmas =[token.lemma_ for token in nlp(out)]\n",
    "    # Convertir la lista de lemmas nuevamente a texto\n",
    "    out = \" \".join(lemmas)\n",
    "    # Remover palabras muy cortas\n",
    "    out = [token.text for token in nlp(out) if len(token) > 2]\n",
    "    \n",
    "    return out\n",
    "\n",
    "## Se corre la función de limpieza:\n",
    "\n",
    "clean = list(map(text_cleaning, casciari['cuento']))\n",
    "\n",
    "# Unimos las tokens\n",
    "clean_sentences = [\" \".join(i) for i in clean]\n",
    "\n",
    "# Vemos el cuento de la venganza del metegol\n",
    "print(clean_sentences[160])"
   ]
  },
  {
   "cell_type": "markdown",
   "id": "b2afef8b",
   "metadata": {},
   "source": [
    "#### Procedimiento:\n",
    "\n",
    "1. Se procede a cargar el modulo del idioma a usar \"es_core_news_sm\"\n",
    "2. Se agregan las palabras de stopwords a ese modulo\n",
    "3. Se crea una función que aplique sobre el dataframe para que realice la limpieza correspondiente.\n",
    "4. Se aplica la función sobre el dataframe.\n",
    "\n",
    "#### Análisis y conclusiones: \n",
    "\n",
    "Como se puede observar el texto limpio a diferencia del original se encuentra más resumido y se han retirado varias palabras conectoras junto con caracteres que no se usan (cmo tildes y ñ)"
   ]
  },
  {
   "cell_type": "markdown",
   "id": "2712a07c",
   "metadata": {},
   "source": [
    "### 3. Generando Recomendaciones\n",
    "\n",
    "En esta sección nos interesa generar recomendaciones de cuentos en el blog a un usuario que leyó 'La venganza del metegol'. Para ello vamos a utilizar distintas estrategias."
   ]
  },
  {
   "cell_type": "markdown",
   "id": "e54c4e35",
   "metadata": {},
   "source": [
    "#### 3.1. Recomendaciones basadas en contenidos\n",
    "\n",
    "##### 3.1.1. Genere 5 recomendaciones de más recomendada (1) a menos recomendada (5) para el cuento 'La venganza del metegol' usando en la distancia de coseno donde el texto este vectorizado por `CountVectorizer`. Explique el procedimiento que realizó y como ordenó las recomendaciones."
   ]
  },
  {
   "cell_type": "code",
   "execution_count": 3,
   "id": "add22d26",
   "metadata": {},
   "outputs": [
    {
     "data": {
      "text/plain": [
       "<520x31439 sparse matrix of type '<class 'numpy.int64'>'\n",
       "\twith 135006 stored elements in Compressed Sparse Row format>"
      ]
     },
     "execution_count": 3,
     "metadata": {},
     "output_type": "execute_result"
    }
   ],
   "source": [
    "# Utilice este espacio para escribir el código.\n",
    "\n",
    "## Comenzamos el proceso de Vectorización\n",
    "\n",
    "# Import CountVectorizer\n",
    "from sklearn.feature_extraction.text import CountVectorizer\n",
    "\n",
    "#Definimos un objeto CountVectorizer y creamos los vectores\n",
    "count = CountVectorizer(stop_words=list(nlp.Defaults.stop_words))\n",
    "count_matrix = count.fit_transform(casciari['cuento'])\n",
    "count_matrix"
   ]
  },
  {
   "cell_type": "code",
   "execution_count": 4,
   "id": "dade17a2",
   "metadata": {},
   "outputs": [
    {
     "data": {
      "text/plain": [
       "array([[1.        , 0.05763125, 0.15401401, ..., 0.0297982 , 0.0791539 ,\n",
       "        0.11313072],\n",
       "       [0.05763125, 1.        , 0.10073516, ..., 0.11650663, 0.05704705,\n",
       "        0.07058373],\n",
       "       [0.15401401, 0.10073516, 1.        , ..., 0.09169374, 0.08498724,\n",
       "        0.13918667],\n",
       "       ...,\n",
       "       [0.0297982 , 0.11650663, 0.09169374, ..., 1.        , 0.05247855,\n",
       "        0.0346942 ],\n",
       "       [0.0791539 , 0.05704705, 0.08498724, ..., 0.05247855, 1.        ,\n",
       "        0.11506151],\n",
       "       [0.11313072, 0.07058373, 0.13918667, ..., 0.0346942 , 0.11506151,\n",
       "        1.        ]])"
      ]
     },
     "execution_count": 4,
     "metadata": {},
     "output_type": "execute_result"
    }
   ],
   "source": [
    "#Importamos la función \n",
    "from sklearn.metrics.pairwise import cosine_similarity\n",
    "\n",
    "#Calculamos la matriz de similitud de coseno\n",
    "cosine_sim2 = cosine_similarity(count_matrix, count_matrix)\n",
    "\n",
    "cosine_sim2"
   ]
  },
  {
   "cell_type": "code",
   "execution_count": 5,
   "id": "1cb01b40",
   "metadata": {},
   "outputs": [
    {
     "data": {
      "text/html": [
       "<div>\n",
       "<style scoped>\n",
       "    .dataframe tbody tr th:only-of-type {\n",
       "        vertical-align: middle;\n",
       "    }\n",
       "\n",
       "    .dataframe tbody tr th {\n",
       "        vertical-align: top;\n",
       "    }\n",
       "\n",
       "    .dataframe thead th {\n",
       "        text-align: right;\n",
       "    }\n",
       "</style>\n",
       "<table border=\"1\" class=\"dataframe\">\n",
       "  <thead>\n",
       "    <tr style=\"text-align: right;\">\n",
       "      <th></th>\n",
       "      <th>titulo</th>\n",
       "      <th>fecha</th>\n",
       "      <th>cuento</th>\n",
       "    </tr>\n",
       "  </thead>\n",
       "  <tbody>\n",
       "    <tr>\n",
       "      <th>0</th>\n",
       "      <td>El rincón blanco</td>\n",
       "      <td>1/11/08</td>\n",
       "      <td>De pronto yo estaba en el hogar donde pasé la ...</td>\n",
       "    </tr>\n",
       "  </tbody>\n",
       "</table>\n",
       "</div>"
      ],
      "text/plain": [
       "             titulo    fecha  \\\n",
       "0  El rincón blanco  1/11/08   \n",
       "\n",
       "                                              cuento  \n",
       "0  De pronto yo estaba en el hogar donde pasé la ...  "
      ]
     },
     "execution_count": 5,
     "metadata": {},
     "output_type": "execute_result"
    }
   ],
   "source": [
    "casciari.head(1)"
   ]
  },
  {
   "cell_type": "code",
   "execution_count": 6,
   "id": "fb6fb6c8",
   "metadata": {},
   "outputs": [
    {
     "data": {
      "text/plain": [
       "17                       Cuento con bruja y tramontina\n",
       "159                         Pajaritos en jaula gigante\n",
       "519                   La madre de todas las desgracias\n",
       "5                            El milagro de los pueblos\n",
       "138    Nueve libros que me hicieron olvidar el Mundial\n",
       "Name: titulo, dtype: object"
      ]
     },
     "execution_count": 6,
     "metadata": {},
     "output_type": "execute_result"
    }
   ],
   "source": [
    "## Se crea función de recomendador de cuentos\n",
    "\n",
    "def recomendador(title, cosine_sim=cosine_sim2, df=casciari):\n",
    "    \n",
    "    #Paso 2\n",
    "    df = df.reset_index()\n",
    "    indices = pd.Series(df.index, index=df['titulo']).drop_duplicates()\n",
    "    #Paso 3\n",
    "    idx = indices[title]\n",
    "\n",
    "    #Paso 4\n",
    "    sim_scores = list(enumerate(cosine_sim[idx]))\n",
    "\n",
    "    #Paso 5\n",
    "    sim_scores = sorted(sim_scores, key=lambda x: x[1], reverse=True)\n",
    "\n",
    "    #Paso 6\n",
    "    sim_scores = sim_scores[1:6]\n",
    "\n",
    "    cuento_indices = [i[0] for i in sim_scores]\n",
    "\n",
    "    #Paso 7\n",
    "    return casciari['titulo'].iloc[cuento_indices]\n",
    "\n",
    "\n",
    "## Se aplica con CountVector\n",
    "\n",
    "recom=recomendador('La venganza del metegol', cosine_sim=cosine_sim2, df=casciari)\n",
    "recom"
   ]
  },
  {
   "cell_type": "markdown",
   "id": "4b29fc2e",
   "metadata": {},
   "source": [
    "#### Procedimiento:\n",
    "\n",
    "1. Se importaron las librerías necesarias para realizar la labor.\n",
    "2. Se uso CountVectorizer para definir un objeto y crear una matriz de conteo (count_matrix) de los textos de los cuentos en casciari.\n",
    "3. Se calculo la matriz de similitud de coseno (cosine_sim2) utilizando la matriz de conteo generada previamente.\n",
    "4. Se creo la función de recomendación\n",
    "5. Se creo una función de recomendación en la que se calculan los puntajes de similitud entre los cuentos de entrada y los demás, se ordena este puntaje de mayor a menor, se seleccionan los 5 mejores y se devuelve los titulos de los 5 mejores aplicando la matriz de similitud recomendada.\n",
    "6. Se aplico la función.\n",
    "\n",
    "#### Análisis y conclusiones: \n",
    "\n",
    "Luego de aplicar la función `recomendador` se obtuvo que las cinco recomendaciones son los títulos 17, 159, 519, 5 y 138."
   ]
  },
  {
   "cell_type": "markdown",
   "id": "6e507761",
   "metadata": {},
   "source": [
    "##### 3.1.2. Genere 5 recomendaciones de más recomendada (1) a menos recomendada (5) para  el cuento 'La venganza del metegol' usando nuevamente la distancia de coseno, pero ahora vectorice el texto usando `TF-IDFVectorizer`. Explique el procedimiento que realizó y como ordenó las recomendaciones. Compare con los resultados del punto anterior y explique sus similitudes y/o diferencias."
   ]
  },
  {
   "cell_type": "code",
   "execution_count": 7,
   "id": "9deeab0d",
   "metadata": {},
   "outputs": [
    {
     "data": {
      "text/html": [
       "<div>\n",
       "<style scoped>\n",
       "    .dataframe tbody tr th:only-of-type {\n",
       "        vertical-align: middle;\n",
       "    }\n",
       "\n",
       "    .dataframe tbody tr th {\n",
       "        vertical-align: top;\n",
       "    }\n",
       "\n",
       "    .dataframe thead th {\n",
       "        text-align: right;\n",
       "    }\n",
       "</style>\n",
       "<table border=\"1\" class=\"dataframe\">\n",
       "  <thead>\n",
       "    <tr style=\"text-align: right;\">\n",
       "      <th></th>\n",
       "      <th>aamir</th>\n",
       "      <th>abacaaado</th>\n",
       "      <th>abajo</th>\n",
       "      <th>abalanzar</th>\n",
       "      <th>abalanzo</th>\n",
       "      <th>abananado</th>\n",
       "      <th>abandonado</th>\n",
       "      <th>abandonar</th>\n",
       "      <th>abandono</th>\n",
       "      <th>abandón</th>\n",
       "      <th>...</th>\n",
       "      <th>zumbar</th>\n",
       "      <th>zumbido</th>\n",
       "      <th>zumr</th>\n",
       "      <th>zurda</th>\n",
       "      <th>zurdazo</th>\n",
       "      <th>zurdito</th>\n",
       "      <th>zurdo</th>\n",
       "      <th>zurraba</th>\n",
       "      <th>zurrar</th>\n",
       "      <th>zurrartir</th>\n",
       "    </tr>\n",
       "  </thead>\n",
       "  <tbody>\n",
       "    <tr>\n",
       "      <th>0</th>\n",
       "      <td>0.0</td>\n",
       "      <td>0.0</td>\n",
       "      <td>0.000000</td>\n",
       "      <td>0.0</td>\n",
       "      <td>0.0</td>\n",
       "      <td>0.0</td>\n",
       "      <td>0.0</td>\n",
       "      <td>0.0</td>\n",
       "      <td>0.0</td>\n",
       "      <td>0.0</td>\n",
       "      <td>...</td>\n",
       "      <td>0.0</td>\n",
       "      <td>0.0</td>\n",
       "      <td>0.0</td>\n",
       "      <td>0.0</td>\n",
       "      <td>0.0</td>\n",
       "      <td>0.0</td>\n",
       "      <td>0.0</td>\n",
       "      <td>0.0</td>\n",
       "      <td>0.0</td>\n",
       "      <td>0.0</td>\n",
       "    </tr>\n",
       "    <tr>\n",
       "      <th>1</th>\n",
       "      <td>0.0</td>\n",
       "      <td>0.0</td>\n",
       "      <td>0.023709</td>\n",
       "      <td>0.0</td>\n",
       "      <td>0.0</td>\n",
       "      <td>0.0</td>\n",
       "      <td>0.0</td>\n",
       "      <td>0.0</td>\n",
       "      <td>0.0</td>\n",
       "      <td>0.0</td>\n",
       "      <td>...</td>\n",
       "      <td>0.0</td>\n",
       "      <td>0.0</td>\n",
       "      <td>0.0</td>\n",
       "      <td>0.0</td>\n",
       "      <td>0.0</td>\n",
       "      <td>0.0</td>\n",
       "      <td>0.0</td>\n",
       "      <td>0.0</td>\n",
       "      <td>0.0</td>\n",
       "      <td>0.0</td>\n",
       "    </tr>\n",
       "    <tr>\n",
       "      <th>2</th>\n",
       "      <td>0.0</td>\n",
       "      <td>0.0</td>\n",
       "      <td>0.016429</td>\n",
       "      <td>0.0</td>\n",
       "      <td>0.0</td>\n",
       "      <td>0.0</td>\n",
       "      <td>0.0</td>\n",
       "      <td>0.0</td>\n",
       "      <td>0.0</td>\n",
       "      <td>0.0</td>\n",
       "      <td>...</td>\n",
       "      <td>0.0</td>\n",
       "      <td>0.0</td>\n",
       "      <td>0.0</td>\n",
       "      <td>0.0</td>\n",
       "      <td>0.0</td>\n",
       "      <td>0.0</td>\n",
       "      <td>0.0</td>\n",
       "      <td>0.0</td>\n",
       "      <td>0.0</td>\n",
       "      <td>0.0</td>\n",
       "    </tr>\n",
       "    <tr>\n",
       "      <th>3</th>\n",
       "      <td>0.0</td>\n",
       "      <td>0.0</td>\n",
       "      <td>0.000000</td>\n",
       "      <td>0.0</td>\n",
       "      <td>0.0</td>\n",
       "      <td>0.0</td>\n",
       "      <td>0.0</td>\n",
       "      <td>0.0</td>\n",
       "      <td>0.0</td>\n",
       "      <td>0.0</td>\n",
       "      <td>...</td>\n",
       "      <td>0.0</td>\n",
       "      <td>0.0</td>\n",
       "      <td>0.0</td>\n",
       "      <td>0.0</td>\n",
       "      <td>0.0</td>\n",
       "      <td>0.0</td>\n",
       "      <td>0.0</td>\n",
       "      <td>0.0</td>\n",
       "      <td>0.0</td>\n",
       "      <td>0.0</td>\n",
       "    </tr>\n",
       "    <tr>\n",
       "      <th>4</th>\n",
       "      <td>0.0</td>\n",
       "      <td>0.0</td>\n",
       "      <td>0.000000</td>\n",
       "      <td>0.0</td>\n",
       "      <td>0.0</td>\n",
       "      <td>0.0</td>\n",
       "      <td>0.0</td>\n",
       "      <td>0.0</td>\n",
       "      <td>0.0</td>\n",
       "      <td>0.0</td>\n",
       "      <td>...</td>\n",
       "      <td>0.0</td>\n",
       "      <td>0.0</td>\n",
       "      <td>0.0</td>\n",
       "      <td>0.0</td>\n",
       "      <td>0.0</td>\n",
       "      <td>0.0</td>\n",
       "      <td>0.0</td>\n",
       "      <td>0.0</td>\n",
       "      <td>0.0</td>\n",
       "      <td>0.0</td>\n",
       "    </tr>\n",
       "  </tbody>\n",
       "</table>\n",
       "<p>5 rows × 24633 columns</p>\n",
       "</div>"
      ],
      "text/plain": [
       "   aamir  abacaaado     abajo  abalanzar  abalanzo  abananado  abandonado  \\\n",
       "0    0.0        0.0  0.000000        0.0       0.0        0.0         0.0   \n",
       "1    0.0        0.0  0.023709        0.0       0.0        0.0         0.0   \n",
       "2    0.0        0.0  0.016429        0.0       0.0        0.0         0.0   \n",
       "3    0.0        0.0  0.000000        0.0       0.0        0.0         0.0   \n",
       "4    0.0        0.0  0.000000        0.0       0.0        0.0         0.0   \n",
       "\n",
       "   abandonar  abandono  abandón  ...  zumbar  zumbido  zumr  zurda  zurdazo  \\\n",
       "0        0.0       0.0      0.0  ...     0.0      0.0   0.0    0.0      0.0   \n",
       "1        0.0       0.0      0.0  ...     0.0      0.0   0.0    0.0      0.0   \n",
       "2        0.0       0.0      0.0  ...     0.0      0.0   0.0    0.0      0.0   \n",
       "3        0.0       0.0      0.0  ...     0.0      0.0   0.0    0.0      0.0   \n",
       "4        0.0       0.0      0.0  ...     0.0      0.0   0.0    0.0      0.0   \n",
       "\n",
       "   zurdito  zurdo  zurraba  zurrar  zurrartir  \n",
       "0      0.0    0.0      0.0     0.0        0.0  \n",
       "1      0.0    0.0      0.0     0.0        0.0  \n",
       "2      0.0    0.0      0.0     0.0        0.0  \n",
       "3      0.0    0.0      0.0     0.0        0.0  \n",
       "4      0.0    0.0      0.0     0.0        0.0  \n",
       "\n",
       "[5 rows x 24633 columns]"
      ]
     },
     "execution_count": 7,
     "metadata": {},
     "output_type": "execute_result"
    }
   ],
   "source": [
    "# Utilice este espacio para escribir el código.\n",
    "\n",
    "from sklearn.feature_extraction.text import TfidfVectorizer\n",
    "\n",
    "#Definimos el objeto TF-IDF Vectorizer Object\n",
    "tfidf = TfidfVectorizer()\n",
    "\n",
    "#Construimos la matriz TF-IDF\n",
    "tfidf_matrix = tfidf.fit_transform(clean_sentences)\n",
    "\n",
    "#Dimensiones de la matriz\n",
    "tfidf_matrix.shape\n",
    "\n",
    "# Convertir la matriz dispersa a un DataFramem con el el vocabulario (palabras) que el TfidfVectorizer está utilizando\n",
    "df_tfidf = pd.DataFrame(tfidf_matrix.toarray(), columns=tfidf.get_feature_names_out())\n",
    "\n",
    "# Ver las primeras filas del  DataFrame resultante con la matriz TF-IDF y las palabras del vocabulario\n",
    "df_tfidf.head()"
   ]
  },
  {
   "cell_type": "code",
   "execution_count": 8,
   "id": "cb19d971",
   "metadata": {},
   "outputs": [
    {
     "data": {
      "text/html": [
       "<div>\n",
       "<style scoped>\n",
       "    .dataframe tbody tr th:only-of-type {\n",
       "        vertical-align: middle;\n",
       "    }\n",
       "\n",
       "    .dataframe tbody tr th {\n",
       "        vertical-align: top;\n",
       "    }\n",
       "\n",
       "    .dataframe thead th {\n",
       "        text-align: right;\n",
       "    }\n",
       "</style>\n",
       "<table border=\"1\" class=\"dataframe\">\n",
       "  <thead>\n",
       "    <tr style=\"text-align: right;\">\n",
       "      <th></th>\n",
       "      <th>aamir</th>\n",
       "      <th>abacaaado</th>\n",
       "      <th>abajo</th>\n",
       "      <th>abalanzar</th>\n",
       "      <th>abalanzo</th>\n",
       "      <th>abananado</th>\n",
       "      <th>abandonar</th>\n",
       "      <th>abandón</th>\n",
       "      <th>abanico</th>\n",
       "      <th>abaraja</th>\n",
       "      <th>...</th>\n",
       "      <th>zumbadisir</th>\n",
       "      <th>zumbar</th>\n",
       "      <th>zumr</th>\n",
       "      <th>zurda</th>\n",
       "      <th>zurdazo</th>\n",
       "      <th>zurdito</th>\n",
       "      <th>zurdo</th>\n",
       "      <th>zurraba</th>\n",
       "      <th>zurrar</th>\n",
       "      <th>zurrartir</th>\n",
       "    </tr>\n",
       "  </thead>\n",
       "  <tbody>\n",
       "    <tr>\n",
       "      <th>0</th>\n",
       "      <td>0.0</td>\n",
       "      <td>0.0</td>\n",
       "      <td>0.000000</td>\n",
       "      <td>0.0</td>\n",
       "      <td>0.0</td>\n",
       "      <td>0.0</td>\n",
       "      <td>0.0</td>\n",
       "      <td>0.0</td>\n",
       "      <td>0.0</td>\n",
       "      <td>0.0</td>\n",
       "      <td>...</td>\n",
       "      <td>0.0</td>\n",
       "      <td>0.0</td>\n",
       "      <td>0.0</td>\n",
       "      <td>0.0</td>\n",
       "      <td>0.0</td>\n",
       "      <td>0.0</td>\n",
       "      <td>0.0</td>\n",
       "      <td>0.0</td>\n",
       "      <td>0.0</td>\n",
       "      <td>0.0</td>\n",
       "    </tr>\n",
       "    <tr>\n",
       "      <th>1</th>\n",
       "      <td>0.0</td>\n",
       "      <td>0.0</td>\n",
       "      <td>0.023709</td>\n",
       "      <td>0.0</td>\n",
       "      <td>0.0</td>\n",
       "      <td>0.0</td>\n",
       "      <td>0.0</td>\n",
       "      <td>0.0</td>\n",
       "      <td>0.0</td>\n",
       "      <td>0.0</td>\n",
       "      <td>...</td>\n",
       "      <td>0.0</td>\n",
       "      <td>0.0</td>\n",
       "      <td>0.0</td>\n",
       "      <td>0.0</td>\n",
       "      <td>0.0</td>\n",
       "      <td>0.0</td>\n",
       "      <td>0.0</td>\n",
       "      <td>0.0</td>\n",
       "      <td>0.0</td>\n",
       "      <td>0.0</td>\n",
       "    </tr>\n",
       "    <tr>\n",
       "      <th>2</th>\n",
       "      <td>0.0</td>\n",
       "      <td>0.0</td>\n",
       "      <td>0.016429</td>\n",
       "      <td>0.0</td>\n",
       "      <td>0.0</td>\n",
       "      <td>0.0</td>\n",
       "      <td>0.0</td>\n",
       "      <td>0.0</td>\n",
       "      <td>0.0</td>\n",
       "      <td>0.0</td>\n",
       "      <td>...</td>\n",
       "      <td>0.0</td>\n",
       "      <td>0.0</td>\n",
       "      <td>0.0</td>\n",
       "      <td>0.0</td>\n",
       "      <td>0.0</td>\n",
       "      <td>0.0</td>\n",
       "      <td>0.0</td>\n",
       "      <td>0.0</td>\n",
       "      <td>0.0</td>\n",
       "      <td>0.0</td>\n",
       "    </tr>\n",
       "    <tr>\n",
       "      <th>3</th>\n",
       "      <td>0.0</td>\n",
       "      <td>0.0</td>\n",
       "      <td>0.000000</td>\n",
       "      <td>0.0</td>\n",
       "      <td>0.0</td>\n",
       "      <td>0.0</td>\n",
       "      <td>0.0</td>\n",
       "      <td>0.0</td>\n",
       "      <td>0.0</td>\n",
       "      <td>0.0</td>\n",
       "      <td>...</td>\n",
       "      <td>0.0</td>\n",
       "      <td>0.0</td>\n",
       "      <td>0.0</td>\n",
       "      <td>0.0</td>\n",
       "      <td>0.0</td>\n",
       "      <td>0.0</td>\n",
       "      <td>0.0</td>\n",
       "      <td>0.0</td>\n",
       "      <td>0.0</td>\n",
       "      <td>0.0</td>\n",
       "    </tr>\n",
       "    <tr>\n",
       "      <th>4</th>\n",
       "      <td>0.0</td>\n",
       "      <td>0.0</td>\n",
       "      <td>0.000000</td>\n",
       "      <td>0.0</td>\n",
       "      <td>0.0</td>\n",
       "      <td>0.0</td>\n",
       "      <td>0.0</td>\n",
       "      <td>0.0</td>\n",
       "      <td>0.0</td>\n",
       "      <td>0.0</td>\n",
       "      <td>...</td>\n",
       "      <td>0.0</td>\n",
       "      <td>0.0</td>\n",
       "      <td>0.0</td>\n",
       "      <td>0.0</td>\n",
       "      <td>0.0</td>\n",
       "      <td>0.0</td>\n",
       "      <td>0.0</td>\n",
       "      <td>0.0</td>\n",
       "      <td>0.0</td>\n",
       "      <td>0.0</td>\n",
       "    </tr>\n",
       "  </tbody>\n",
       "</table>\n",
       "<p>5 rows × 24630 columns</p>\n",
       "</div>"
      ],
      "text/plain": [
       "   aamir  abacaaado     abajo  abalanzar  abalanzo  abananado  abandonar  \\\n",
       "0    0.0        0.0  0.000000        0.0       0.0        0.0        0.0   \n",
       "1    0.0        0.0  0.023709        0.0       0.0        0.0        0.0   \n",
       "2    0.0        0.0  0.016429        0.0       0.0        0.0        0.0   \n",
       "3    0.0        0.0  0.000000        0.0       0.0        0.0        0.0   \n",
       "4    0.0        0.0  0.000000        0.0       0.0        0.0        0.0   \n",
       "\n",
       "   abandón  abanico  abaraja  ...  zumbadisir  zumbar  zumr  zurda  zurdazo  \\\n",
       "0      0.0      0.0      0.0  ...         0.0     0.0   0.0    0.0      0.0   \n",
       "1      0.0      0.0      0.0  ...         0.0     0.0   0.0    0.0      0.0   \n",
       "2      0.0      0.0      0.0  ...         0.0     0.0   0.0    0.0      0.0   \n",
       "3      0.0      0.0      0.0  ...         0.0     0.0   0.0    0.0      0.0   \n",
       "4      0.0      0.0      0.0  ...         0.0     0.0   0.0    0.0      0.0   \n",
       "\n",
       "   zurdito  zurdo  zurraba  zurrar  zurrartir  \n",
       "0      0.0    0.0      0.0     0.0        0.0  \n",
       "1      0.0    0.0      0.0     0.0        0.0  \n",
       "2      0.0    0.0      0.0     0.0        0.0  \n",
       "3      0.0    0.0      0.0     0.0        0.0  \n",
       "4      0.0    0.0      0.0     0.0        0.0  \n",
       "\n",
       "[5 rows x 24630 columns]"
      ]
     },
     "execution_count": 8,
     "metadata": {},
     "output_type": "execute_result"
    }
   ],
   "source": [
    "### Como se ve existen palabras que no quedaron bien lematizadas se procede a crear un lematizador\n",
    "\n",
    "# Lematizador propio\n",
    "def Lematizador_propio(text):\n",
    "    # Diccionario con las palabras y sus lemas correspondientes\n",
    "    lemmas = {\n",
    "        r\"\\babandona\\b\": \"abandonar\",\n",
    "        r\"\\babandonado\\b\": \"abandonar\",\n",
    "        r\"\\babandonandolo\\b\": \"abandonar\",\n",
    "        r\"\\babandonar\\b\": \"abandonar\",\n",
    "        r\"\\babandono\\b\": \"abandonar\",\n",
    "        r\"\\bzumbido\\b\": \"zumbar\"\n",
    "    }\n",
    "\n",
    "    # Buscar y reemplazar las palabras usando expresiones regulares\n",
    "    for pattern, lemma in lemmas.items():\n",
    "        text = re.sub(pattern, lemma, text, flags=re.IGNORECASE)\n",
    "\n",
    "    return text\n",
    "\n",
    "# Limpiamos nuestro texto con el lematizador propio\n",
    "clean_sentences2 = list(map(Lematizador_propio, clean_sentences))\n",
    "\n",
    "\n",
    "#Definimos el objeto TF-IDF Vectorizer Object\n",
    "tfidf = TfidfVectorizer()\n",
    "\n",
    "#Construimos la matriz TF-IDF\n",
    "tfidf_matrix = tfidf.fit_transform(clean_sentences2)\n",
    "\n",
    "# Examinamos la nueva matriz\n",
    "# Convertir la matriz dispersa a un DataFramem con el el vocabulario (palabras) que el TfidfVectorizer está utilizando\n",
    "df_tfidf = pd.DataFrame(tfidf_matrix.toarray(), columns=tfidf.get_feature_names_out())\n",
    "\n",
    "# Ver las primeras filas del  DataFrame resultante con la matriz TF-IDF y las palabras del vocabulario\n",
    "df_tfidf.head()"
   ]
  },
  {
   "cell_type": "code",
   "execution_count": 9,
   "id": "be85ac6d",
   "metadata": {},
   "outputs": [],
   "source": [
    "# Cargamos las funciones a utilizar\n",
    "from sklearn.metrics.pairwise import linear_kernel\n",
    "\n",
    "# Calculamos el producto punto\n",
    "cosine_sim = linear_kernel(tfidf_matrix, tfidf_matrix)"
   ]
  },
  {
   "cell_type": "code",
   "execution_count": 10,
   "id": "544be8c4",
   "metadata": {},
   "outputs": [
    {
     "data": {
      "text/plain": [
       "17                       Cuento con bruja y tramontina\n",
       "138    Nueve libros que me hicieron olvidar el Mundial\n",
       "5                            El milagro de los pueblos\n",
       "121                                      Gaussian blur\n",
       "519                   La madre de todas las desgracias\n",
       "Name: titulo, dtype: object"
      ]
     },
     "execution_count": 10,
     "metadata": {},
     "output_type": "execute_result"
    }
   ],
   "source": [
    "recom=recomendador('La venganza del metegol', cosine_sim=cosine_sim, df=casciari)\n",
    "recom"
   ]
  },
  {
   "cell_type": "markdown",
   "id": "f5a6b704",
   "metadata": {},
   "source": [
    "#### Procedimiento:\n",
    "\n",
    "\n",
    "#### Análisis y conclusiones: \n",
    "Luego de aplicar la función `recomendador` se obtuvo que las cinco recomendaciones son los títulos 17, 138, 5, 121 y 519. En contraste con el anterior recomendador se tiene que se mantienen los títulos 17, 519, 5 y 138."
   ]
  },
  {
   "cell_type": "markdown",
   "id": "ead6289a",
   "metadata": {},
   "source": [
    "## "
   ]
  },
  {
   "cell_type": "markdown",
   "id": "d1067c9a",
   "metadata": {},
   "source": [
    "##### 3.1.3. Genere 5 recomendaciones de más recomendada (1) a menos recomendada (5) para el cuento 'La venganza del metegol' usando el texto vectorizado por `TF-IDFVectorizer` y la correlación como medida de similitud. Explique el procedimiento que realizó y como ordenó las recomendaciones. Compare con los resultados de los puntos anteriores y explique sus similitudes y/o diferencias."
   ]
  },
  {
   "cell_type": "code",
   "execution_count": 12,
   "id": "0f8f20d6",
   "metadata": {},
   "outputs": [
    {
     "name": "stdout",
     "output_type": "stream",
     "text": [
      "Recomendación 1: 17 - Cuento con bruja y tramontina\n",
      "Recomendación 2: 121 - Gaussian blur\n",
      "Recomendación 3: 14 - Dice el Chiri, dice el Gordo\n",
      "Recomendación 4: 414 - La desgracia venía en sobres papel madera\n",
      "Recomendación 5: 107 - Matar la crisis a volantazos\n"
     ]
    }
   ],
   "source": [
    "# Utilice este espacio para escribir el código.\n",
    "\n",
    "\n",
    "## Se vectoriza el texto de nuevo\n",
    "tfidf_vectorizer = TfidfVectorizer()\n",
    "tfidf_matrix = tfidf_vectorizer.fit_transform(casciari['cuento'])\n",
    "\n",
    "## Se cálcula la matriz de correlación\n",
    "correlation_matrix = pd.DataFrame(np.corrcoef(tfidf_matrix.toarray()))\n",
    "\n",
    "## Seleccionamos el cuento correspondiente\n",
    "cuento_seleccionado = 160\n",
    "\n",
    "## Obtenemos las recomendaciones excluyendo el cuento de metegol\n",
    "correlation_scores = correlation_matrix.iloc[cuento_seleccionado]\n",
    "correlation_scores[cuento_seleccionado] = 0  # Excluir el cuento de origen\n",
    "\n",
    "## Obtenemos las 5 mejores recomendaicones\n",
    "top_recommended_indices = correlation_scores.argsort()[::-1][:5]\n",
    "\n",
    "## Se muestra el resultado\n",
    "for i, idx in enumerate(top_recommended_indices):\n",
    "    print(f\"Recomendación {i + 1}: {idx} - {casciari['titulo'].iloc[idx]}\")\n"
   ]
  },
  {
   "cell_type": "markdown",
   "id": "a3648b29",
   "metadata": {},
   "source": [
    "### Procedimiento\n",
    "\n",
    "### Análisis y Conclusiones\n",
    "Luego de aplicar la función `recomendador` se obtuvo que las cinco recomendaciones son los títulos 17, 121, 14, 414 y 107. En contraste con el anterior recomendador se tiene que se mantienen los títulos 17 y 121."
   ]
  },
  {
   "cell_type": "markdown",
   "id": "7cb8cc71",
   "metadata": {},
   "source": [
    "##### 3.2. Recomendaciones basadas en temas\n",
    "\n",
    "Usando modelado de temas con LDA, encuentre los temas subyacentes en el blog. Explique como eligió el numero óptimo de temas. Utilizando el tema asignado al cuento 'La venganza del metegol' y la probabilidad de pertenecer a este tema genere 5 recomendaciones de más recomendada (1) a menos recomendada (5) para este cuento. Explique el procedimiento que realizó. Compare con los resultados encontrados anteriormente y explique sus similitudes y/o diferencias. (Esto puede tomar mucho tiempo y requerir mucha capacidad computacional, puede aprovechar los recursos de [Google Colab](https://colab.research.google.com/))\n"
   ]
  },
  {
   "cell_type": "code",
   "execution_count": 15,
   "id": "f1ea55cb",
   "metadata": {},
   "outputs": [
    {
     "data": {
      "text/plain": [
       "<gensim.corpora.dictionary.Dictionary at 0x255537ef010>"
      ]
     },
     "execution_count": 15,
     "metadata": {},
     "output_type": "execute_result"
    }
   ],
   "source": [
    "# Utilice este espacio para escribir el código.\n",
    "\n",
    "## Se realizan lso siguientes pasos\n",
    "\n",
    "# Cargamos la función \n",
    "from gensim.corpora import Dictionary\n",
    "\n",
    "# Creamos la representación de diccionario del documento\n",
    "dictionary = Dictionary(clean)  ## Se toma el resultado de la primera limpieza\n",
    "dictionary"
   ]
  },
  {
   "cell_type": "code",
   "execution_count": 16,
   "id": "250669cc",
   "metadata": {},
   "outputs": [],
   "source": [
    "## Removemos palabras que aparecen en menos de 20 páginas o en más de 50%\n",
    "\n",
    "dictionary.filter_extremes(no_below=20, no_above=0.5)"
   ]
  },
  {
   "cell_type": "code",
   "execution_count": 17,
   "id": "5c6b23f5",
   "metadata": {},
   "outputs": [
    {
     "name": "stdout",
     "output_type": "stream",
     "text": [
      "Numero de palabras únicas: 1288\n"
     ]
    }
   ],
   "source": [
    "## Creamos el corpus de la matriz de frecuencia del documento\n",
    "\n",
    "corpus = [dictionary.doc2bow(doc) for doc in clean]\n",
    "\n",
    "## imprimimos el número de palabras con las que estimaremos el LDA\n",
    "\n",
    "print('Numero de palabras únicas: %d' % len(dictionary))\n"
   ]
  },
  {
   "cell_type": "code",
   "execution_count": 18,
   "id": "5ebbf85f",
   "metadata": {},
   "outputs": [],
   "source": [
    "## Cargamos la función \n",
    "\n",
    "from gensim.models import LdaModel\n",
    "\n",
    "## Estimamos el modelo\n",
    "\n",
    "Estimacion = LdaModel(\n",
    "    corpus=corpus,\n",
    "    id2word=dictionary,\n",
    "    num_topics=3,\n",
    "    chunksize=1000,\n",
    "    passes=20,\n",
    "    iterations=400,\n",
    "    alpha='auto',\n",
    "    eta='auto',\n",
    "    random_state=123,\n",
    "    eval_every=None\n",
    ")"
   ]
  },
  {
   "cell_type": "code",
   "execution_count": 19,
   "id": "c3ea83a8",
   "metadata": {},
   "outputs": [
    {
     "name": "stdout",
     "output_type": "stream",
     "text": [
      "[(0,\n",
      "  '0.009*\"argentino\" + 0.006*\"hombre\" + 0.006*\"escribir\" + 0.005*\"ocurrir\" + '\n",
      "  '0.005*\"llamar\" + 0.005*\"historia\" + 0.004*\"persona\" + 0.004*\"palabra\" + '\n",
      "  '0.004*\"ejemplo\" + 0.004*\"llegar\"'),\n",
      " (1,\n",
      "  '0.011*\"viejo\" + 0.008*\"caio\" + 0.008*\"mundial\" + 0.007*\"sueno\" + '\n",
      "  '0.007*\"loco\" + 0.006*\"futbol\" + 0.006*\"partido\" + 0.006*\"jugar\" + '\n",
      "  '0.006*\"americo\" + 0.006*\"gol\"'),\n",
      " (2,\n",
      "  '0.008*\"ver\" + 0.007*\"hijo\" + 0.007*\"tenia\" + 0.006*\"chico\" + 0.006*\"viejo\" '\n",
      "  '+ 0.006*\"pensar\" + 0.006*\"amigo\" + 0.006*\"mujer\" + 0.006*\"mano\" + '\n",
      "  '0.005*\"hablar\"')]\n"
     ]
    }
   ],
   "source": [
    "from pprint import pprint\n",
    "\n",
    "pprint(Estimacion.print_topics())"
   ]
  },
  {
   "cell_type": "markdown",
   "id": "4d552d59",
   "metadata": {},
   "source": [
    "Vemos el peso de las diferentes palabras"
   ]
  },
  {
   "cell_type": "code",
   "execution_count": 20,
   "id": "c044b784",
   "metadata": {},
   "outputs": [
    {
     "data": {
      "text/plain": [
       "0.29192011320260935"
      ]
     },
     "execution_count": 20,
     "metadata": {},
     "output_type": "execute_result"
    }
   ],
   "source": [
    "## Se empieza el proceso para elegir el número de temas\n",
    "\n",
    "from gensim.models import CoherenceModel\n",
    "\n",
    "coherencemodel = CoherenceModel(model=Estimacion, texts=clean, dictionary=dictionary)\n",
    "coherencemodel.get_coherence() "
   ]
  },
  {
   "cell_type": "code",
   "execution_count": 21,
   "id": "ae7c9b8e",
   "metadata": {},
   "outputs": [],
   "source": [
    "from gensim.models.ldamulticore import LdaMulticore\n",
    "\n",
    "def calcular_coherencia(dictionary, corpus, texts, start=1, limit=10, step=1):\n",
    " \n",
    "    coherence_values = []\n",
    "    model_list = []\n",
    "    \n",
    "    for num_topics in range(start, limit, step):\n",
    "        model = LdaMulticore(corpus=corpus,\n",
    "                        id2word=dictionary,\n",
    "                        num_topics=num_topics, \n",
    "                        random_state=123,\n",
    "                        passes=20)\n",
    "        model_list.append(model)\n",
    "        coherencemodel = CoherenceModel(model=model, texts=texts, dictionary=dictionary, coherence='c_v')\n",
    "        coherence_values.append(coherencemodel.get_coherence())\n",
    "\n",
    "    return model_list, coherence_values\n",
    "\n",
    "modelos, valores_c = calcular_coherencia(dictionary=dictionary, corpus=corpus, texts=clean, start=1, limit=10, step=1)"
   ]
  },
  {
   "cell_type": "code",
   "execution_count": 22,
   "id": "523b3ee4",
   "metadata": {},
   "outputs": [
    {
     "data": {
      "image/png": "[encoded data removed]",
      "text/plain": [
       "<Figure size 640x480 with 1 Axes>"
      ]
     },
     "metadata": {},
     "output_type": "display_data"
    }
   ],
   "source": [
    "## Se grafican los resultados\n",
    "\n",
    "import matplotlib.pyplot as plt\n",
    "# Show graph\n",
    "limit=10; start=1; step=1;\n",
    "x = range(start, limit, step)\n",
    "plt.plot(x, valores_c)\n",
    "plt.xlabel(\"Número de Temas\")\n",
    "plt.ylabel(\"Medida de Coherencia\")\n",
    "plt.show()"
   ]
  },
  {
   "cell_type": "markdown",
   "id": "3c86d4d9",
   "metadata": {},
   "source": [
    "Con base en estos resultados se elige el número de temas"
   ]
  },
  {
   "cell_type": "code",
   "execution_count": 32,
   "id": "a2b81e3b",
   "metadata": {},
   "outputs": [],
   "source": [
    "import pyLDAvis\n",
    "import pyLDAvis.gensim_models as gensimvis"
   ]
  },
  {
   "cell_type": "code",
   "execution_count": 33,
   "id": "7eb6d690",
   "metadata": {},
   "outputs": [
    {
     "data": {
      "text/html": [
       "\n",
       "<link rel=\"stylesheet\" type=\"text/css\" href=\"https://cdn.jsdelivr.net/gh/bmabey/pyLDAvis@3.4.0/pyLDAvis/js/ldavis.v1.0.0.css\">\n",
       "\n",
       "\n",
       "<div id=\"ldavis_el157602565531773952621918014\" style=\"background-color:white;\"></div>\n",
       "<script type=\"text/javascript\">\n",
       "\n",
       "var ldavis_el157602565531773952621918014_data = {\"mdsDat\": {\"x\": [2.5470508670392373e-05, 0.003917429768940924, -0.006348142346535028, 0.0024052420689237137], \"y\": [-0.0015476113841184677, 0.004578955248969332, 0.0012117828786243423, -0.004243126743475205], \"topics\": [1, 2, 3, 4], \"cluster\": [1, 1, 1, 1], \"Freq\": [29.729040897645515, 26.477033241907545, 24.313100690886433, 19.48082516956051]}, \"tinfo\": {\"Term\": [\"nacho\", \"viejo\", \"llegar\", \"rico\", \"negro\", \"sacar\", \"telefono\", \"chino\", \"sueno\", \"caio\", \"mundial\", \"chico\", \"futbol\", \"loco\", \"perro\", \"nino\", \"gol\", \"zacarias\", \"dar\", \"amigo\", \"unico\", \"sentir\", \"detalle\", \"pa\\u00eds\", \"decir\", \"veinte\", \"partido\", \"serio\", \"mes\", \"buscar\", \"gato\", \"comentario\", \"animo\", \"sensacion\", \"hija\", \"intentar\", \"despierto\", \"febrero\", \"t\\u00e9n\", \"empece\", \"metio\", \"querido\", \"lunes\", \"sonido\", \"mama\", \"pegar\", \"agarro\", \"recibir\", \"olvido\", \"agradecer\", \"interno\", \"patas\", \"traer\", \"auto\", \"risa\", \"ventana\", \"siento\", \"respuesta\", \"presidente\", \"lector\", \"sabio\", \"poder\", \"sofi\", \"edad\", \"leer\", \"empezar\", \"muerto\", \"conocer\", \"pueblo\", \"viejo\", \"caio\", \"salir\", \"podiar\", \"llamar\", \"creer\", \"hijo\", \"tenia\", \"escribir\", \"foto\", \"hacer\", \"joven\", \"venir\", \"voz\", \"amigo\", \"chico\", \"llorar\", \"mujer\", \"mano\", \"pensar\", \"argentino\", \"tener\", \"llegar\", \"querer\", \"ver\", \"haber\", \"hombre\", \"hablar\", \"dar\", \"cotidiano\", \"iglesia\", \"empleado\", \"bonito\", \"publicidad\", \"convertido\", \"jefe\", \"estudio\", \"ingl\", \"disco\", \"boludo\", \"serie\", \"revista\", \"arte\", \"existir\", \"voluntad\", \"moderno\", \"presentar\", \"objeto\", \"compra\", \"libertad\", \"dolar\", \"automatico\", \"pagina\", \"mierdo\", \"vacio\", \"desarrollar\", \"practica\", \"cobrar\", \"quinto\", \"pedir\", \"color\", \"camo\", \"asunto\", \"cambiar\", \"carajo\", \"marzo\", \"ejemplo\", \"nino\", \"entender\", \"ver\", \"pensar\", \"loco\", \"venir\", \"seguir\", \"punto\", \"hablar\", \"cara\", \"negro\", \"haber\", \"historia\", \"serio\", \"hombre\", \"espana\", \"paso\", \"argentino\", \"querer\", \"mujer\", \"bano\", \"cabeza\", \"ocurrir\", \"suerte\", \"dar\", \"tenia\", \"mano\", \"escribir\", \"hijo\", \"palabra\", \"llamar\", \"viejo\", \"llegar\", \"amigo\", \"salir\", \"chico\", \"decir\", \"tener\", \"nacho\", \"detalle\", \"deporte\", \"quemar\", \"jugador\", \"telefono\", \"cancha\", \"desconocido\", \"calor\", \"novia\", \"partido\", \"enfermera\", \"pantalla\", \"mierda\", \"futbol\", \"negro\", \"zacarias\", \"vacaci\\u00f3n\", \"marido\", \"importancia\", \"nenir\", \"volvio\", \"animal\", \"sos\", \"estilo\", \"verano\", \"unico\", \"perder\", \"ilusion\", \"privado\", \"comedor\", \"caballo\", \"minuto\", \"domingo\", \"gol\", \"caio\", \"puerta\", \"roberto\", \"sueno\", \"decir\", \"tomar\", \"buscar\", \"hijo\", \"cuento\", \"mano\", \"palabra\", \"perro\", \"sofi\", \"volver\", \"empezar\", \"chico\", \"ver\", \"hablar\", \"cabeza\", \"tener\", \"argentino\", \"amigo\", \"hacer\", \"haber\", \"escribir\", \"mujer\", \"llamar\", \"dar\", \"pensar\", \"tenia\", \"hombre\", \"llegar\", \"salir\", \"viejo\", \"rico\", \"gelatina\", \"chino\", \"regla\", \"italia\", \"emocion\", \"milagro\", \"francia\", \"zapato\", \"alemania\", \"euros\", \"peso\", \"elegir\", \"verde\", \"doctor\", \"club\", \"visita\", \"pan\", \"pa\\u00eds\", \"santo\", \"encerrado\", \"mata\", \"herm\\u00e1n\", \"regalo\", \"tarde\", \"brasil\", \"saco\", \"mensaje\", \"juntar\", \"mundial\", \"mesa\", \"llegar\", \"sacar\", \"veinte\", \"viejo\", \"gusto\", \"sentir\", \"familia\", \"don\", \"dar\", \"mes\", \"chico\", \"loco\", \"amigo\", \"perro\", \"sueno\", \"lleno\", \"amor\", \"encontrar\", \"mujer\", \"esperar\", \"jugar\", \"resto\", \"argentino\", \"lugar\", \"malo\", \"ver\", \"tener\", \"llevar\", \"haber\", \"pensar\", \"hombre\", \"serio\", \"llamar\", \"hablar\", \"decir\", \"hacer\", \"venir\", \"foto\", \"mano\", \"hijo\", \"tenia\", \"empezar\", \"vivir\", \"caio\"], \"Freq\": [225.0, 469.0, 396.0, 83.0, 231.0, 195.0, 212.0, 81.0, 204.0, 331.0, 195.0, 425.0, 204.0, 223.0, 181.0, 193.0, 124.0, 236.0, 366.0, 412.0, 241.0, 209.0, 77.0, 99.0, 310.0, 155.0, 171.0, 283.0, 245.0, 230.0, 23.928280477956534, 18.735556946588275, 12.466456354775392, 29.972157603877044, 72.10766837226474, 46.02843292302297, 11.962414283124552, 24.64506451350063, 51.57656641711095, 11.062109117675696, 10.592726254363175, 27.795158249960174, 28.727781997797074, 17.896504718751363, 72.01042299821772, 34.43887153904583, 11.532548961704835, 24.43064617661676, 9.243890574139964, 11.54264497706802, 21.35685023508773, 11.515572733813977, 37.45412664687167, 36.692681831174845, 27.784467240239756, 27.8936975006253, 21.728836614675203, 26.77260850310569, 14.117703426268621, 63.51254358984692, 44.96635855100952, 100.00664526726611, 85.04793935387855, 60.34106625988739, 79.06998382499735, 125.41734316785139, 96.90406135801378, 58.90600912884698, 82.60625880642405, 167.81666624912805, 120.04167933440328, 118.27494275632998, 53.56275832133569, 143.41149621979116, 53.50492109207082, 165.09121431881184, 132.73365822630882, 116.98645571673927, 87.85856047647277, 107.39029857599436, 52.947918226389774, 123.61020993585217, 73.71887531422865, 132.7105258530975, 134.75375536454087, 86.53276823511912, 136.7751369350362, 127.34216565408737, 140.29388949004831, 135.30823973558813, 107.00023412711376, 118.5782072876572, 99.34241749255168, 141.30404509518627, 117.46446599823165, 108.16107126619107, 110.67321929349887, 100.59403377070377, 13.653721380114012, 14.695822412143459, 17.211210562159867, 9.243115909644573, 25.37771056215268, 19.33823291569191, 15.546613689924015, 16.957283231551603, 13.067578977348028, 14.123123996152641, 14.364840990492741, 21.247098195816434, 49.91819860022624, 18.74586338161672, 15.692833518141986, 9.186625931428496, 23.576336895579722, 12.954854162270733, 12.574882796736281, 10.137814631407574, 13.419477784470306, 14.278883587666234, 10.40928012641112, 36.494412852110464, 26.146560810632366, 15.471878301084496, 11.359184007424668, 8.746073914746797, 10.174157554781177, 18.2169988111406, 63.831998740976616, 38.71030430404065, 19.710412656774185, 30.23362251032029, 37.61402078099345, 25.640200548779998, 33.190222960414765, 74.0371819050711, 65.21125365281851, 67.20767026829962, 160.12490869263772, 143.82570510904165, 73.73070386661571, 117.51889309754974, 63.30401875398904, 74.75971418451518, 125.37320942549226, 71.58054075294835, 73.28405509305338, 120.21527179569908, 78.23010203326439, 86.91456421737769, 109.39825405515472, 52.07876923817086, 69.00477382186766, 123.07258580998912, 91.38999031167441, 120.0557159251253, 38.23934981173924, 85.78321137491781, 72.49948701561404, 47.497602472917166, 98.47423395563486, 101.0009184190438, 102.8930467066648, 88.91509673955034, 112.96120494444521, 75.69958203827915, 98.28664057353832, 104.25730715734433, 91.20898574478572, 91.808141758525, 81.66174764859146, 88.81658974656624, 77.25172746117505, 75.83125179989237, 95.68128692610703, 32.104854974828385, 19.77296887591626, 11.925016229538539, 29.39140224734971, 79.87625960399343, 14.062766834973006, 15.965539740934874, 10.889695744880596, 18.906138221554812, 62.64756363130248, 30.314068345526998, 8.953010794510497, 20.523836777250114, 73.88507297174066, 83.41785955597544, 85.03938139908101, 9.77550804984087, 48.508861416613314, 14.240106867608091, 30.03802184529687, 17.527774883138093, 27.83728611985914, 17.475491105977113, 11.244378384755082, 21.2374720382583, 82.82899605666435, 47.47871073742326, 7.670042982537569, 12.847901169082743, 24.515436370118735, 18.899784098101247, 61.4072274049073, 32.45507840002639, 41.2654593336482, 104.31871366554724, 56.13434507859102, 32.67606441233999, 63.91001055956931, 93.48432557059756, 49.47188186285024, 70.21090149428416, 132.740965333782, 57.11783877835419, 112.76724683548125, 79.97527888601294, 55.41683375078407, 65.32789149964275, 70.02757936851927, 90.59577400354146, 108.14975578401905, 122.24510681122396, 101.36059628985444, 79.11508813618421, 85.47727010126196, 104.6748432330477, 97.14744169711824, 81.12345457628824, 94.89189264577838, 83.25392420071515, 98.26916590264396, 93.47013435160402, 84.59413447776298, 94.28639720258155, 86.1734482577009, 82.50297906125179, 83.5323522099382, 76.4878640564798, 82.82806404990171, 33.49092875304765, 13.933000673691451, 29.853210422614108, 10.572012723105003, 10.553876766263595, 9.154801619422516, 12.062029642041285, 9.34980106119555, 12.615713194585254, 10.533259144623212, 10.584087889273594, 16.409376205383477, 13.41090316484619, 16.773079343964817, 15.671786438378614, 16.857559091967918, 10.16700420275315, 11.382774469538075, 28.782195684182515, 14.93493518841285, 13.25596208375391, 6.9405073219801245, 11.319837552370986, 21.51347168936354, 12.699805117997993, 12.050662049460433, 20.06453426500285, 15.472563215495104, 8.235816699034526, 54.084119507135455, 21.454786402413152, 103.53602910061615, 51.33738897802463, 40.738287326151735, 114.24856944517049, 21.870973760292568, 53.3595641532913, 42.812307222721735, 35.94114881675444, 83.06668022755662, 58.454770615144355, 94.25560944605735, 53.63928882778155, 91.213010012434, 44.23682820106356, 48.28953328346379, 39.520930691760476, 43.662839555737925, 33.39341974912573, 87.69074582481375, 54.01293719162962, 43.04538154994342, 26.118888699935077, 86.15225392642711, 39.6528735683545, 36.48748639394582, 93.51017757702978, 66.3394632042991, 44.65376851625937, 75.47720879333262, 82.21947328411312, 70.15963856422155, 57.66399627539232, 74.26646993173864, 73.474383589649, 59.97116888926079, 60.11795637092002, 66.01093451832571, 51.5760331264909, 66.10778339528531, 71.11120332882106, 62.72484725465005, 58.799113467658856, 49.90976952875341, 52.89402611628808], \"Total\": [225.0, 469.0, 396.0, 83.0, 231.0, 195.0, 212.0, 81.0, 204.0, 331.0, 195.0, 425.0, 204.0, 223.0, 181.0, 193.0, 124.0, 236.0, 366.0, 412.0, 241.0, 209.0, 77.0, 99.0, 310.0, 155.0, 171.0, 283.0, 245.0, 230.0, 54.17008521959282, 44.097412221497414, 29.486915072322134, 72.00969422747059, 175.63951958983708, 112.25066538731042, 29.353819212903673, 60.79674278780615, 128.01211602865135, 27.5734634369825, 26.408429413457938, 70.39922964739196, 72.82250903027789, 45.37079811591965, 182.73917397591427, 87.41043845650519, 29.28728991295734, 62.28804740481472, 23.588040497101293, 29.455759666730557, 54.59974200585387, 29.47883256989189, 96.04970247059568, 94.20694262894921, 71.34848776352393, 71.68126654862841, 55.870859189322246, 69.01316964184923, 36.41446491968091, 164.04863177766558, 116.72702987901467, 261.71688464798484, 222.8995344371114, 157.6454817258919, 209.07619685054289, 336.717480373179, 258.6026683959679, 156.24849444416455, 222.64109694323125, 469.1506069015445, 331.7890556712142, 327.0351436539098, 142.3650957183834, 409.43474107667214, 143.35850160037538, 481.90458792586, 382.63287215770356, 337.87407596280354, 246.90500306465742, 317.9152322846296, 142.58981070111454, 375.25350159496793, 209.00408677017097, 412.8791193211747, 425.9757103411835, 253.15930177587654, 442.7907645876192, 409.1102425915187, 460.62546508578464, 449.20792270505206, 334.64821923256716, 396.8555743429973, 315.6236794775331, 517.1842381760778, 408.04883923304175, 370.2219429468191, 410.8814085984946, 366.72908243165824, 32.26179123225373, 34.97567038270726, 41.172018324753694, 22.13271047616368, 61.17134081312466, 47.319491877441884, 38.370263727712235, 42.2441915616075, 33.16935969729687, 36.219833362660744, 37.17755456718457, 55.400395249238144, 130.27721651673187, 48.95614529136268, 41.05683929288194, 24.060376344352857, 61.92682290865872, 34.0594623637844, 33.115118083421606, 26.816406217661424, 35.77303634967319, 38.07827891533314, 27.968160885669246, 98.20584489814567, 71.08962989835318, 42.094085124457024, 30.96839393660627, 23.908907761666388, 27.921023969935074, 50.04824248791766, 176.515827891599, 106.83610044407517, 54.16355374067905, 83.96492275570834, 105.88169112985567, 71.07130082812657, 93.44824260510535, 219.76259141139036, 193.5563944678927, 200.24688219873087, 517.1842381760778, 460.62546508578464, 223.32894902794195, 375.25350159496793, 191.75489396344182, 231.1549137448729, 410.8814085984946, 222.48739057418297, 231.82097143016824, 408.04883923304175, 250.31761967860248, 283.2353257176677, 370.2219429468191, 159.6854158716814, 223.59354836747895, 449.20792270505206, 315.6236794775331, 442.7907645876192, 110.8864039210799, 298.4088787279818, 243.39292215526234, 145.65379114480626, 366.72908243165824, 382.63287215770356, 409.1102425915187, 337.87407596280354, 481.90458792586, 277.25448405512884, 409.43474107667214, 469.1506069015445, 396.8555743429973, 412.8791193211747, 327.0351436539098, 425.9757103411835, 310.3332012138583, 334.64821923256716, 225.08864285055506, 77.23535049589537, 48.2560975126203, 30.648803300148806, 78.04941382151651, 212.37734943071914, 37.7776638976167, 42.897309281402094, 29.654013163803516, 51.659322198679604, 171.43754103626821, 83.06591272555448, 24.715540952578127, 56.695674813486825, 204.4262594778255, 231.82097143016824, 236.80672533013546, 27.546322646492158, 136.69497740606357, 40.454962470851235, 86.13910862587467, 50.45490584107084, 80.43577472289914, 50.551333655093046, 32.62831215219523, 61.648061229804, 241.46873848800374, 138.78144331525024, 22.482884336160573, 37.690369128591584, 72.01110237336462, 55.545778282165585, 184.42227274426307, 96.36139345532827, 124.86623136897818, 331.7890556712142, 174.5028286621618, 98.70300666135071, 204.2284863456133, 310.3332012138583, 155.82708294520558, 230.74058640033644, 481.90458792586, 186.0334066188043, 409.1102425915187, 277.25448405512884, 181.99161659559167, 222.8995344371114, 244.88938921373327, 336.717480373179, 425.9757103411835, 517.1842381760778, 410.8814085984946, 298.4088787279818, 334.64821923256716, 449.20792270505206, 412.8791193211747, 317.9152322846296, 408.04883923304175, 337.87407596280354, 442.7907645876192, 409.43474107667214, 366.72908243165824, 460.62546508578464, 382.63287215770356, 370.2219429468191, 396.8555743429973, 327.0351436539098, 469.1506069015445, 83.24867049775608, 36.66037649685508, 81.6256711526895, 31.685111092565833, 32.106316708391475, 27.98729177748377, 37.00521807526452, 29.174662131631255, 39.67313677919818, 33.14903430170942, 34.06645162322339, 52.849990394420345, 43.59939209722857, 56.04091207841935, 53.22691261007117, 57.32941919727453, 34.87333650617526, 39.239668041384355, 99.24024931814553, 51.703695809992944, 46.42751323001495, 24.367752247562965, 39.79403574207652, 75.76195348697321, 44.74885962613274, 42.75373161811197, 71.52211958238411, 55.24726967735599, 29.591089986382784, 195.10919232320418, 78.17142279472999, 396.8555743429973, 195.32539362219694, 155.014601573797, 469.1506069015445, 80.11794359315941, 209.30698660158183, 169.37577222192468, 141.25429120064737, 366.72908243165824, 245.84335686965449, 425.9757103411835, 223.32894902794195, 412.8791193211747, 181.99161659559167, 204.2284863456133, 160.95472070081894, 184.06649915080035, 132.87654818336372, 442.7907645876192, 242.13700359734761, 183.30385286444064, 98.95662656200949, 449.20792270505206, 168.13868303002386, 151.13953181083275, 517.1842381760778, 334.64821923256716, 197.43597650111886, 408.04883923304175, 460.62546508578464, 370.2219429468191, 283.2353257176677, 409.43474107667214, 410.8814085984946, 310.3332012138583, 317.9152322846296, 375.25350159496793, 246.90500306465742, 409.1102425915187, 481.90458792586, 382.63287215770356, 336.717480373179, 238.37954558895774, 331.7890556712142], \"Category\": [\"Default\", \"Default\", \"Default\", \"Default\", \"Default\", \"Default\", \"Default\", \"Default\", \"Default\", \"Default\", \"Default\", \"Default\", \"Default\", \"Default\", \"Default\", \"Default\", \"Default\", \"Default\", \"Default\", \"Default\", \"Default\", \"Default\", \"Default\", \"Default\", \"Default\", \"Default\", \"Default\", \"Default\", \"Default\", \"Default\", \"Topic1\", \"Topic1\", \"Topic1\", \"Topic1\", \"Topic1\", \"Topic1\", \"Topic1\", \"Topic1\", \"Topic1\", \"Topic1\", \"Topic1\", \"Topic1\", \"Topic1\", \"Topic1\", \"Topic1\", \"Topic1\", \"Topic1\", \"Topic1\", \"Topic1\", \"Topic1\", \"Topic1\", \"Topic1\", \"Topic1\", \"Topic1\", \"Topic1\", \"Topic1\", \"Topic1\", \"Topic1\", \"Topic1\", \"Topic1\", \"Topic1\", \"Topic1\", \"Topic1\", \"Topic1\", \"Topic1\", \"Topic1\", \"Topic1\", \"Topic1\", \"Topic1\", \"Topic1\", \"Topic1\", \"Topic1\", \"Topic1\", \"Topic1\", \"Topic1\", \"Topic1\", \"Topic1\", \"Topic1\", \"Topic1\", \"Topic1\", \"Topic1\", \"Topic1\", \"Topic1\", \"Topic1\", \"Topic1\", \"Topic1\", \"Topic1\", \"Topic1\", \"Topic1\", \"Topic1\", \"Topic1\", \"Topic1\", \"Topic1\", \"Topic1\", \"Topic1\", \"Topic1\", \"Topic1\", \"Topic1\", \"Topic2\", \"Topic2\", \"Topic2\", \"Topic2\", \"Topic2\", \"Topic2\", \"Topic2\", \"Topic2\", \"Topic2\", \"Topic2\", \"Topic2\", \"Topic2\", \"Topic2\", \"Topic2\", \"Topic2\", \"Topic2\", \"Topic2\", \"Topic2\", \"Topic2\", \"Topic2\", \"Topic2\", \"Topic2\", \"Topic2\", \"Topic2\", \"Topic2\", \"Topic2\", \"Topic2\", \"Topic2\", \"Topic2\", \"Topic2\", \"Topic2\", \"Topic2\", \"Topic2\", \"Topic2\", \"Topic2\", \"Topic2\", \"Topic2\", \"Topic2\", \"Topic2\", \"Topic2\", \"Topic2\", \"Topic2\", \"Topic2\", \"Topic2\", \"Topic2\", \"Topic2\", \"Topic2\", \"Topic2\", \"Topic2\", \"Topic2\", \"Topic2\", \"Topic2\", \"Topic2\", \"Topic2\", \"Topic2\", \"Topic2\", \"Topic2\", \"Topic2\", \"Topic2\", \"Topic2\", \"Topic2\", \"Topic2\", \"Topic2\", \"Topic2\", \"Topic2\", \"Topic2\", \"Topic2\", \"Topic2\", \"Topic2\", \"Topic2\", \"Topic2\", \"Topic2\", \"Topic2\", \"Topic2\", \"Topic2\", \"Topic2\", \"Topic3\", \"Topic3\", \"Topic3\", \"Topic3\", \"Topic3\", \"Topic3\", \"Topic3\", \"Topic3\", \"Topic3\", \"Topic3\", \"Topic3\", \"Topic3\", \"Topic3\", \"Topic3\", \"Topic3\", \"Topic3\", \"Topic3\", \"Topic3\", \"Topic3\", \"Topic3\", \"Topic3\", \"Topic3\", \"Topic3\", \"Topic3\", \"Topic3\", \"Topic3\", \"Topic3\", \"Topic3\", \"Topic3\", \"Topic3\", \"Topic3\", \"Topic3\", \"Topic3\", \"Topic3\", \"Topic3\", \"Topic3\", \"Topic3\", \"Topic3\", \"Topic3\", \"Topic3\", \"Topic3\", \"Topic3\", \"Topic3\", \"Topic3\", \"Topic3\", \"Topic3\", \"Topic3\", \"Topic3\", \"Topic3\", \"Topic3\", \"Topic3\", \"Topic3\", \"Topic3\", \"Topic3\", \"Topic3\", \"Topic3\", \"Topic3\", \"Topic3\", \"Topic3\", \"Topic3\", \"Topic3\", \"Topic3\", \"Topic3\", \"Topic3\", \"Topic3\", \"Topic3\", \"Topic3\", \"Topic3\", \"Topic3\", \"Topic4\", \"Topic4\", \"Topic4\", \"Topic4\", \"Topic4\", \"Topic4\", \"Topic4\", \"Topic4\", \"Topic4\", \"Topic4\", \"Topic4\", \"Topic4\", \"Topic4\", \"Topic4\", \"Topic4\", \"Topic4\", \"Topic4\", \"Topic4\", \"Topic4\", \"Topic4\", \"Topic4\", \"Topic4\", \"Topic4\", \"Topic4\", \"Topic4\", \"Topic4\", \"Topic4\", \"Topic4\", \"Topic4\", \"Topic4\", \"Topic4\", \"Topic4\", \"Topic4\", \"Topic4\", \"Topic4\", \"Topic4\", \"Topic4\", \"Topic4\", \"Topic4\", \"Topic4\", \"Topic4\", \"Topic4\", \"Topic4\", \"Topic4\", \"Topic4\", \"Topic4\", \"Topic4\", \"Topic4\", \"Topic4\", \"Topic4\", \"Topic4\", \"Topic4\", \"Topic4\", \"Topic4\", \"Topic4\", \"Topic4\", \"Topic4\", \"Topic4\", \"Topic4\", \"Topic4\", \"Topic4\", \"Topic4\", \"Topic4\", \"Topic4\", \"Topic4\", \"Topic4\", \"Topic4\", \"Topic4\", \"Topic4\", \"Topic4\", \"Topic4\", \"Topic4\", \"Topic4\", \"Topic4\", \"Topic4\"], \"logprob\": [30.0, 29.0, 28.0, 27.0, 26.0, 25.0, 24.0, 23.0, 22.0, 21.0, 20.0, 19.0, 18.0, 17.0, 16.0, 15.0, 14.0, 13.0, 12.0, 11.0, 10.0, 9.0, 8.0, 7.0, 6.0, 5.0, 4.0, 3.0, 2.0, 1.0, -7.0301, -7.2747, -7.6821, -6.8049, -5.927, -6.3759, -7.7234, -7.0006, -6.2621, -7.8016, -7.845, -6.8803, -6.8473, -7.3205, -5.9283, -6.666, -7.76, -7.0093, -7.9812, -7.7591, -7.1438, -7.7615, -6.582, -6.6026, -6.8807, -6.8768, -7.1265, -6.9178, -7.5577, -6.0539, -6.3992, -5.5999, -5.7619, -6.1051, -5.8348, -5.3735, -5.6314, -6.1292, -5.7911, -5.0823, -5.4173, -5.4321, -6.2243, -5.2394, -6.2254, -5.0987, -5.3168, -5.4431, -5.7294, -5.5287, -6.2358, -5.388, -5.9049, -5.317, -5.3017, -5.7446, -5.2868, -5.3583, -5.2614, -5.2976, -5.5323, -5.4296, -5.6066, -5.2542, -5.439, -5.5215, -5.4986, -5.5941, -7.4753, -7.4017, -7.2437, -7.8654, -6.8554, -7.1272, -7.3455, -7.2586, -7.5192, -7.4415, -7.4245, -7.0331, -6.1789, -7.1583, -7.3361, -7.8716, -6.9291, -7.5278, -7.5576, -7.773, -7.4926, -7.4305, -7.7466, -6.4921, -6.8256, -7.3503, -7.6593, -7.9207, -7.7695, -7.1869, -5.9331, -6.4332, -7.1082, -6.6803, -6.4619, -6.8451, -6.587, -5.7847, -5.9117, -5.8815, -5.0134, -5.1207, -5.7889, -5.3227, -5.9414, -5.775, -5.258, -5.8185, -5.795, -5.3, -5.7297, -5.6244, -5.3943, -6.1365, -5.8551, -5.2765, -5.5742, -5.3013, -6.4454, -5.6375, -5.8057, -6.2286, -5.4995, -5.4742, -5.4556, -5.6016, -5.3623, -5.7625, -5.5014, -5.4424, -5.5762, -5.5696, -5.6867, -5.6027, -5.7422, -5.7608, -5.443, -6.535, -7.0197, -7.5254, -6.6233, -5.6236, -7.3605, -7.2336, -7.6162, -7.0646, -5.8665, -6.5924, -7.8121, -6.9825, -5.7015, -5.5802, -5.5609, -7.7242, -6.1223, -7.348, -6.6016, -7.1403, -6.6777, -7.1432, -7.5842, -6.9483, -5.5873, -6.1438, -7.9667, -7.4509, -6.8047, -7.0649, -5.8865, -6.5242, -6.284, -5.3566, -5.9763, -6.5174, -5.8466, -5.4662, -6.1026, -5.7525, -5.1156, -5.9589, -5.2787, -5.6223, -5.9892, -5.8246, -5.7552, -5.4976, -5.3205, -5.198, -5.3854, -5.6331, -5.5558, -5.3532, -5.4278, -5.6081, -5.4513, -5.5821, -5.4163, -5.4664, -5.5662, -5.4577, -5.5477, -5.5912, -5.5788, -5.6669, -5.5873, -6.2712, -7.1482, -6.3862, -7.4242, -7.426, -7.5682, -7.2924, -7.5471, -7.2475, -7.4279, -7.4231, -6.9846, -7.1864, -6.9627, -7.0306, -6.9577, -7.4633, -7.3504, -6.4227, -7.0788, -7.198, -7.8451, -7.3559, -6.7138, -7.2409, -7.2933, -6.7835, -7.0434, -7.674, -5.7919, -6.7165, -5.1425, -5.844, -6.0753, -5.0441, -6.6973, -5.8054, -6.0256, -6.2006, -5.3628, -5.7142, -5.2364, -5.8002, -5.2693, -5.9929, -5.9052, -6.1056, -6.006, -6.2741, -5.3086, -5.7932, -6.0202, -6.5198, -5.3263, -6.1023, -6.1855, -5.2444, -5.5877, -5.9835, -5.4586, -5.3731, -5.5317, -5.7278, -5.4748, -5.4855, -5.6886, -5.6861, -5.5926, -5.8394, -5.5912, -5.5182, -5.6437, -5.7083, -5.8722, -5.8142], \"loglift\": [30.0, 29.0, 28.0, 27.0, 26.0, 25.0, 24.0, 23.0, 22.0, 21.0, 20.0, 19.0, 18.0, 17.0, 16.0, 15.0, 14.0, 13.0, 12.0, 11.0, 10.0, 9.0, 8.0, 7.0, 6.0, 5.0, 4.0, 3.0, 2.0, 1.0, 0.396, 0.3571, 0.3521, 0.3365, 0.3228, 0.3216, 0.3154, 0.3101, 0.304, 0.2997, 0.2995, 0.2837, 0.2829, 0.2828, 0.2818, 0.2816, 0.2811, 0.2771, 0.2763, 0.2762, 0.2744, 0.2731, 0.2713, 0.2701, 0.2699, 0.2692, 0.2686, 0.2661, 0.2655, 0.2641, 0.2591, 0.251, 0.2495, 0.2527, 0.2407, 0.2254, 0.2315, 0.2375, 0.2216, 0.185, 0.1964, 0.196, 0.2355, 0.164, 0.2275, 0.1418, 0.1543, 0.1524, 0.1798, 0.1277, 0.2224, 0.1026, 0.171, 0.0781, 0.0621, 0.1396, 0.0383, 0.0459, 0.0242, 0.0131, 0.0728, 0.005, 0.0571, -0.0844, -0.0322, -0.0174, -0.0987, -0.0805, 0.469, 0.4618, 0.4567, 0.4557, 0.4491, 0.4341, 0.4255, 0.4161, 0.3974, 0.3871, 0.378, 0.3705, 0.3696, 0.3689, 0.3671, 0.3661, 0.3632, 0.3623, 0.3606, 0.3562, 0.3484, 0.348, 0.3405, 0.339, 0.3287, 0.328, 0.326, 0.3232, 0.3194, 0.3183, 0.3117, 0.3137, 0.318, 0.3074, 0.2939, 0.3094, 0.2937, 0.2409, 0.241, 0.2371, 0.1564, 0.1649, 0.2207, 0.1679, 0.2206, 0.2001, 0.1419, 0.1948, 0.1773, 0.1068, 0.1658, 0.1475, 0.1098, 0.2084, 0.1532, 0.0342, 0.0895, 0.0238, 0.2643, 0.0823, 0.1178, 0.2083, 0.0141, -0.0031, -0.0514, -0.0061, -0.1218, 0.0307, -0.098, -0.1752, -0.1415, -0.1746, -0.0586, -0.2389, -0.0617, -0.1557, 0.5587, 0.5363, 0.5219, 0.4702, 0.4375, 0.4363, 0.426, 0.4258, 0.4124, 0.409, 0.4075, 0.4061, 0.3987, 0.398, 0.3965, 0.3921, 0.39, 0.3782, 0.3781, 0.37, 0.3607, 0.3569, 0.3531, 0.352, 0.3488, 0.3485, 0.3442, 0.3415, 0.3387, 0.3379, 0.3366, 0.3361, 0.3145, 0.3259, 0.3069, 0.2571, 0.28, 0.3087, 0.2524, 0.2143, 0.2668, 0.2244, 0.1248, 0.2333, 0.1255, 0.1709, 0.2251, 0.1869, 0.1622, 0.1013, 0.0433, -0.0282, 0.0145, 0.0866, 0.0493, -0.0425, -0.0328, 0.0483, -0.0445, 0.0134, -0.0912, -0.063, -0.0526, -0.1721, -0.0766, -0.0871, -0.1442, -0.0388, -0.32, 0.7252, 0.6683, 0.6299, 0.5381, 0.5232, 0.5183, 0.5147, 0.4978, 0.49, 0.4893, 0.4668, 0.4661, 0.4568, 0.4294, 0.413, 0.4117, 0.4032, 0.3982, 0.398, 0.3939, 0.3823, 0.3799, 0.3786, 0.3768, 0.3763, 0.3694, 0.3647, 0.363, 0.3568, 0.3527, 0.3428, 0.2921, 0.2995, 0.2994, 0.2232, 0.3374, 0.269, 0.2604, 0.2671, 0.1508, 0.1993, 0.1274, 0.2094, 0.1258, 0.2213, 0.1937, 0.2314, 0.1969, 0.2547, 0.0165, 0.1355, 0.1868, 0.3037, -0.0156, 0.1911, 0.2145, -0.0746, 0.0174, 0.1493, -0.0518, -0.0875, -0.0276, 0.0441, -0.0714, -0.0856, -0.008, -0.0297, -0.102, 0.0698, -0.187, -0.2778, -0.1726, -0.1094, 0.0721, -0.2005]}, \"token.table\": {\"Topic\": [1, 2, 3, 4, 1, 2, 3, 4, 1, 2, 3, 4, 1, 2, 3, 4, 1, 2, 3, 4, 1, 2, 3, 4, 1, 2, 3, 4, 1, 2, 3, 4, 1, 2, 3, 4, 1, 2, 3, 4, 1, 2, 3, 4, 1, 2, 3, 4, 1, 2, 3, 4, 1, 2, 3, 4, 1, 2, 3, 4, 1, 2, 3, 4, 1, 2, 3, 4, 1, 2, 3, 4, 1, 2, 3, 4, 1, 2, 3, 4, 1, 2, 3, 4, 1, 2, 3, 4, 1, 2, 3, 4, 1, 2, 3, 4, 1, 2, 3, 4, 1, 2, 3, 4, 1, 2, 3, 4, 1, 2, 3, 4, 1, 2, 3, 4, 1, 2, 3, 4, 1, 2, 3, 4, 1, 2, 3, 4, 1, 2, 3, 4, 1, 2, 3, 4, 1, 2, 3, 4, 1, 2, 3, 4, 1, 2, 3, 4, 1, 2, 3, 4, 1, 2, 3, 4, 1, 2, 3, 4, 1, 2, 3, 4, 1, 2, 3, 4, 1, 2, 3, 4, 1, 2, 3, 4, 1, 2, 3, 4, 1, 2, 3, 4, 1, 2, 3, 4, 1, 2, 3, 4, 1, 2, 3, 4, 1, 2, 3, 4, 1, 2, 3, 4, 1, 2, 3, 4, 1, 2, 3, 4, 1, 2, 3, 4, 1, 2, 3, 4, 1, 2, 3, 4, 1, 2, 3, 4, 1, 2, 3, 4, 1, 2, 3, 4, 1, 2, 3, 4, 1, 2, 3, 4, 1, 2, 3, 4, 1, 2, 3, 4, 1, 2, 3, 4, 1, 2, 3, 4, 1, 2, 3, 4, 1, 2, 3, 4, 1, 2, 3, 4, 1, 2, 3, 4, 1, 2, 3, 4, 1, 2, 3, 4, 1, 2, 3, 4, 1, 2, 3, 4, 1, 2, 3, 4, 1, 2, 3, 4, 1, 2, 3, 4, 1, 2, 3, 4, 1, 2, 3, 4, 1, 2, 3, 4, 1, 2, 3, 4, 1, 2, 3, 4, 1, 2, 3, 4, 1, 2, 3, 4, 1, 2, 3, 4, 1, 2, 3, 4, 1, 2, 3, 4, 1, 2, 3, 4, 1, 2, 3, 4, 1, 2, 3, 4, 1, 2, 3, 4, 1, 2, 3, 4, 1, 2, 3, 4, 1, 2, 3, 4, 1, 2, 3, 4, 1, 2, 3, 4, 1, 2, 3, 4, 1, 2, 3, 4, 1, 2, 3, 4, 1, 2, 3, 4, 1, 2, 3, 4, 1, 2, 3, 4, 1, 2, 3, 4, 1, 2, 3, 4, 1, 2, 3, 4, 1, 2, 3, 4, 1, 2, 3, 4, 1, 2, 3, 4, 1, 2, 3, 4, 1, 2, 3, 4, 1, 2, 3, 4, 1, 2, 3, 4, 1, 2, 3, 4, 1, 2, 3, 4, 1, 2, 3, 4, 1, 2, 3, 4, 1, 2, 3, 4, 1, 2, 3, 4, 1, 2, 3, 4, 1, 2, 3, 4, 1, 2, 3, 4, 1, 2, 3, 4, 1, 2, 3, 4, 1, 2, 3, 4, 1, 2, 3, 4, 1, 2, 3, 4, 1, 2, 3, 4, 1, 2, 3, 4, 1, 2, 3, 4, 1, 2, 3, 4, 1, 2, 3, 4, 1, 2, 3, 4, 1, 2, 3, 4, 1, 2, 3, 4, 1, 2, 3, 4, 1, 2, 3, 4, 1, 2, 3, 4, 1, 2, 3, 4, 1, 2, 3, 4, 1, 2, 3, 4, 1, 2, 3, 4, 1, 2, 3, 4, 1, 2, 3, 4, 1, 2, 3, 4, 1, 2, 3, 4, 1, 2, 3, 4, 1, 2, 3, 4, 1, 2, 3, 4, 1, 2, 3, 4, 1, 2, 3, 4, 1, 2, 3, 4, 1, 2, 3, 4, 1, 2, 3, 4, 1, 2, 3, 4, 1, 2, 3, 4, 1, 2, 3, 4, 1, 2, 3, 4, 1, 2, 3, 4, 1, 2, 3, 4, 1, 2, 3, 4, 1, 2, 3, 4, 1, 2, 3, 4, 1, 2, 3, 4, 1, 2, 3, 4, 1, 2, 3, 4, 1, 2, 3, 4, 1, 2, 3, 4, 1, 2, 3, 4, 1, 2, 3, 4, 1, 2, 3, 4, 1, 2, 3, 4, 1, 2, 3, 4, 1, 2, 3, 4, 1, 2, 3, 4, 1, 2, 3, 4, 1, 2, 3, 4, 1, 2, 3, 4, 1, 2, 3, 4, 1, 2, 3, 4, 1, 2, 3, 4, 1, 2, 3, 4, 1, 2, 3, 4, 1, 2, 3, 4, 1, 2, 3, 4, 1, 2, 3, 4, 1, 2, 3, 4, 1, 2, 3, 4, 1, 2, 3, 4, 1, 2, 3, 4, 1, 2, 3, 4, 1, 2, 3, 4, 1, 2, 3, 4, 1, 2, 3, 4, 1, 2, 3, 4, 1, 2, 3, 4, 1, 2, 3, 4, 1, 2, 3, 4, 1, 2, 3, 4, 1, 2, 3, 4, 1, 2, 3, 4, 1, 2, 3, 4, 1, 2, 3, 4, 1, 2, 3, 4, 1, 2, 3, 4, 1, 2, 3, 4, 1, 2, 3, 4, 1, 2, 3, 4, 1, 2, 3, 4, 1, 2, 3, 4, 1, 2, 3, 4, 1, 2, 3, 4, 1, 2, 3, 4, 1, 2, 3, 4, 1, 2, 3, 4], \"Freq\": [0.4097340530880236, 0.17072252212000982, 0.2731560353920157, 0.17072252212000982, 0.4073906134409991, 0.23764452450724946, 0.16974608893374962, 0.20369530672049954, 0.18100074787670642, 0.27150112181505964, 0.24133433050227523, 0.33183470444062846, 0.3221281817755007, 0.2228255091980907, 0.23493559121972607, 0.22040349279376362, 0.29337223367169796, 0.24447686139308164, 0.22817840396687622, 0.23904404225101317, 0.2362133026685565, 0.22378102358073773, 0.34810381445892535, 0.21134874449291896, 0.40696017099678866, 0.1695667379153286, 0.27130678066452574, 0.13565339033226287, 0.30052898263025607, 0.27381529528534443, 0.23374476426797694, 0.1914480926385335, 0.20426444811953562, 0.3881024514271177, 0.20426444811953562, 0.20426444811953562, 0.2858336459121957, 0.3572920573902446, 0.19055576394146378, 0.16673629344878083, 0.3927523701276569, 0.23352843629212033, 0.1698388627579057, 0.20168364952501303, 0.17877471530714686, 0.35754943061429373, 0.25028460143000564, 0.21452965836857624, 0.29760185949836343, 0.3426930503314488, 0.19840123966557563, 0.15331004883249028, 0.26897949895894113, 0.3765712985425176, 0.1882856492712588, 0.13448974947947057, 0.1807279774570715, 0.4066379492784109, 0.22590997182133937, 0.1807279774570715, 0.21050794069604176, 0.21050794069604176, 0.3040670254498381, 0.280677254261389, 0.3077048607166774, 0.190690336218786, 0.3033709894389778, 0.19935807877418538, 0.21603802073024353, 0.2700475259128044, 0.34206019948955224, 0.16202851554768266, 0.2747907513661753, 0.2881951782620863, 0.26473743119424203, 0.1709064429228651, 0.361675582569287, 0.16576797534425655, 0.31345217156004873, 0.15974004896810176, 0.23605573927998347, 0.23605573927998347, 0.37094473315425974, 0.16861124234284533, 0.2644460973489758, 0.35889113211646717, 0.20777907648848098, 0.17000106258148445, 0.276938992441598, 0.3692519899221306, 0.22155119395327838, 0.14770079596885224, 0.21176534424365773, 0.2647066803045721, 0.370589352426401, 0.15882400818274328, 0.26967820443736323, 0.3236138453248359, 0.22473183703113606, 0.18877474310615427, 0.2673371639270844, 0.3658298032686418, 0.2110556557319087, 0.15477414753673308, 0.3169194785587007, 0.2089321006794397, 0.25353558284696054, 0.22066985914457676, 0.28177409968214595, 0.19601676499627546, 0.15926362155947382, 0.3675314343680165, 0.261645769485017, 0.2267596668870147, 0.2093166155880136, 0.29653187208301923, 0.2148918322788128, 0.3581530537980213, 0.2148918322788128, 0.2148918322788128, 0.25272356336268115, 0.3650451470794283, 0.20592290348070316, 0.17784250755151637, 0.2638482035935017, 0.23607470847839623, 0.34716868893881797, 0.16664097069063263, 0.43086428529104326, 0.2040936088220731, 0.2040936088220731, 0.1814165411751761, 0.18645302280314408, 0.37290604560628815, 0.18645302280314408, 0.2610342319244017, 0.3776036384215124, 0.1856017883766756, 0.24320234339012664, 0.1920018500448368, 0.25359528439316636, 0.40152586695584674, 0.16906352292877758, 0.14793058256268038, 0.15498209519753042, 0.4339498665530852, 0.2479713523160487, 0.15498209519753042, 0.37667804418415185, 0.27204525413299857, 0.18833902209207593, 0.16741246408184526, 0.30639658239875733, 0.2687689319287345, 0.30639658239875733, 0.11825833004864318, 0.27540766423623314, 0.26722723856584996, 0.23177872732752294, 0.22632511021393417, 0.25778743520539404, 0.24812040638519176, 0.29967789342627055, 0.19334057640404553, 0.2279504677543226, 0.20722769795847507, 0.41445539591695013, 0.16578215836678006, 0.25832789444542614, 0.355200854862461, 0.19374592083406963, 0.19374592083406963, 0.23311485423015676, 0.2797378250761881, 0.37298376676825085, 0.11655742711507838, 0.4088054066478991, 0.20440270332394955, 0.20440270332394955, 0.1703355861032913, 0.1553692696796622, 0.258948782799437, 0.4143180524790992, 0.16831670881963404, 0.2484826451266382, 0.38652855908588163, 0.2208734623347895, 0.13804591395924343, 0.2630248367505545, 0.18787488339325323, 0.24423734841122918, 0.30059981342920516, 0.3676636759536567, 0.3676636759536567, 0.10504676455818762, 0.15757014683728143, 0.3424608011225815, 0.18679680061231718, 0.3320832010885639, 0.13490880044222908, 0.3044155305619694, 0.21238292829904845, 0.22654179018565168, 0.25485951395885814, 0.38060082244745697, 0.20298710530531036, 0.22836049346847417, 0.18395706418293753, 0.2730218988348268, 0.33672700856295307, 0.20021605914553967, 0.19111532918437876, 0.2981692949068975, 0.22936099608222885, 0.1605526972575602, 0.2981692949068975, 0.25011351779423024, 0.17865251271016444, 0.25011351779423024, 0.321574522878296, 0.3989342878575933, 0.21760052064959634, 0.21760052064959634, 0.14506701376639755, 0.37123109813444893, 0.1841306246746867, 0.2702562394418788, 0.1752210783194599, 0.24288340496505945, 0.41290178844060105, 0.14573004297903566, 0.19430672397204757, 0.344623239257539, 0.1938505720823657, 0.1938505720823657, 0.2800063818967504, 0.2859797347200929, 0.23329925727165474, 0.2257734747790207, 0.2483508222569228, 0.20465675319992122, 0.20465675319992122, 0.3611589762351551, 0.2287340182822649, 0.28964246216048, 0.33458698215089927, 0.2047472577341324, 0.16979040885269517, 0.34628285602142644, 0.2634117451786919, 0.24565364999810593, 0.14502444397478542, 0.2943286945989347, 0.3256402578541405, 0.18160706688019376, 0.20039400483331724, 0.2890925342266306, 0.23953381407349394, 0.2477936007656834, 0.22301424068911507, 0.3064822952947997, 0.2145376067063598, 0.3371305248242797, 0.12259291811791989, 0.18937514731067986, 0.40242218803519475, 0.26039082755218484, 0.1657032538968449, 0.2641895346054951, 0.2641895346054951, 0.17612635640366342, 0.3228983200733829, 0.14613886756353953, 0.3897036468361054, 0.26792125719982246, 0.1948518234180527, 0.2715854776427439, 0.2538733812747388, 0.2243532206613971, 0.2538733812747388, 0.41120623990096694, 0.21382724474850281, 0.19737899515246415, 0.18093074555642547, 0.356412380906495, 0.22680787875867864, 0.20655717529808235, 0.2106073159902016, 0.20565790866502554, 0.23993422677586312, 0.20565790866502554, 0.3084868629975383, 0.29350436755659715, 0.16631914161540506, 0.3619887199864698, 0.17610262053395828, 0.4430489614832546, 0.16614336055622048, 0.14768298716108488, 0.23998485413676293, 0.24549666042769822, 0.24549666042769822, 0.10910962685675477, 0.3818836939986417, 0.3123342441941367, 0.12813712582323555, 0.32835138492204113, 0.23224854055461447, 0.27459516574359993, 0.26211356730070906, 0.1872239766433636, 0.27459516574359993, 0.28673038310784127, 0.29408244421317054, 0.23281526833542668, 0.1838015276332316, 0.2701509430144771, 0.30422403492621297, 0.24581302022038007, 0.17766683639690836, 0.3365677046395904, 0.21703898710403494, 0.2547848979047367, 0.18872955400350866, 0.3015527270915051, 0.20103515139433675, 0.22616454531862884, 0.276423333167213, 0.40993052228870985, 0.1821913432394266, 0.25620657643044364, 0.14803046638203413, 0.342391427959148, 0.23448625066293166, 0.27598824193070715, 0.14733206900060308, 0.3155990381397552, 0.31160411360634055, 0.2317056229380481, 0.13582743413609716, 0.2917169067299551, 0.29441798919967693, 0.22418984498690994, 0.18907577288052646, 0.20013912309343337, 0.4288695494859287, 0.14295651649530955, 0.2287304263924953, 0.3113479523061674, 0.1779131156035242, 0.3558262312070484, 0.1779131156035242, 0.24718846315097284, 0.22246961683587557, 0.346063848411362, 0.173031924205681, 0.2110381407383774, 0.3919279756569866, 0.2411864465581456, 0.150741529098841, 0.40979712540038227, 0.2316244621828248, 0.20489856270019113, 0.16035539689580178, 0.3846172019960919, 0.18315104856956757, 0.21978125828348108, 0.20146615342652432, 0.21802563226352412, 0.28031867005310246, 0.18687911336873497, 0.34261170784268075, 0.2606184849539535, 0.41698957592632563, 0.20849478796316281, 0.13030924247697676, 0.37169556323413877, 0.3085774487226813, 0.13324935285752146, 0.18935434353437258, 0.24343552462096926, 0.1665611484248737, 0.37155948494779517, 0.2049983365229215, 0.3000482485257653, 0.201850639917333, 0.2618602896224861, 0.23458317612014376, 0.23655769365782933, 0.3379395623683276, 0.13517582494733105, 0.2703516498946621, 0.390128215678988, 0.2560216415393359, 0.20115986120947818, 0.15848958761958887, 0.37785267376215365, 0.2965426047247282, 0.19610075473732025, 0.12913952141238164, 0.1956781060342939, 0.3634021969208315, 0.1956781060342939, 0.2515861363298064, 0.3492620084557537, 0.2393543834172298, 0.22714242507961604, 0.18073698339668373, 0.2998571966565091, 0.2293025621490952, 0.2116639035222417, 0.26206007102753737, 0.3354980814782977, 0.22366538765219846, 0.19881367791306528, 0.24851709739133163, 0.3089609152344852, 0.21779212057512892, 0.24818171879491435, 0.22792198664839075, 0.3436571336297239, 0.2172545097659174, 0.252805247727613, 0.18960393579570972, 0.26418429073706057, 0.331349788382076, 0.165674894191038, 0.24179579152205546, 0.2557412680122019, 0.2200564399174761, 0.28547862475780683, 0.237898853964839, 0.3982285200849435, 0.21971228694341713, 0.21971228694341713, 0.16478421520756284, 0.2381904956875071, 0.26465610631945236, 0.258039703661466, 0.2381904956875071, 0.39400418877612897, 0.17511297278939064, 0.25172489838474904, 0.1805852531890591, 0.3104297736363564, 0.2517658794058638, 0.27620916866856904, 0.1613257091338545, 0.2633600786447264, 0.21215117446380738, 0.3584623292664331, 0.16825782802301964, 0.27822888130567736, 0.3531366570418213, 0.16051666229173694, 0.2140222163889826, 0.24622706021644092, 0.24622706021644092, 0.24622706021644092, 0.2872649035858478, 0.25340618788512065, 0.1810044199179433, 0.2896070718687093, 0.271506629876915, 0.2888017838027001, 0.24405784546707052, 0.22778732243593247, 0.23592258395150148, 0.2686403707291322, 0.25584797212298305, 0.20467837769838643, 0.2686403707291322, 0.4165336691471063, 0.2272001831711489, 0.18933348597595742, 0.18933348597595742, 0.22929438696631488, 0.2645704464995941, 0.3703986250994317, 0.14110423813311684, 0.2532014869923662, 0.36573548121119565, 0.21100123916030517, 0.15473424205089045, 0.18916251177773832, 0.2702321596824833, 0.21618572774598666, 0.32427859161898, 0.27111692777658486, 0.22773821933233127, 0.3307626518874335, 0.1626701566659509, 0.2099251889472004, 0.3875541949794469, 0.2099251889472004, 0.19377709748972344, 0.3750928039592975, 0.2745524647537126, 0.16241131717825252, 0.18561293391800288, 0.30940121374841933, 0.2710083624073746, 0.2213234959660226, 0.19873946576540805, 0.29214410311113276, 0.2511414219727282, 0.17938672998052013, 0.27676809768423105, 0.24434817902614747, 0.1599369899080238, 0.4264986397547302, 0.16882237823624735, 0.18117429040561034, 0.3148981714192751, 0.3580349072301347, 0.1423512281758367, 0.30183734676109775, 0.17413693082371023, 0.34827386164742047, 0.17413693082371023, 0.19115875815788455, 0.33581944000709446, 0.25832264615930345, 0.21699102277381488, 0.2129334945142032, 0.27100626574534953, 0.3677942177972601, 0.1548607232830569, 0.301976878802262, 0.3925699424429406, 0.1811861272813572, 0.150988439401131, 0.2711664719563951, 0.29581796940697647, 0.26705788904796485, 0.16434331633720914, 0.38154928558419254, 0.2543661903894617, 0.16957746025964113, 0.16957746025964113, 0.2749327194119972, 0.36657695921599626, 0.20365386623110904, 0.15274039967333178, 0.27050960151500064, 0.2741163962018673, 0.288543574949334, 0.16951935028273374, 0.20387532309301779, 0.30581298463952666, 0.20387532309301779, 0.28032856925289945, 0.28322260934652194, 0.20230186381894424, 0.36414335487409966, 0.12138111829136655, 0.23915415347287503, 0.25082020973984454, 0.3674807724095397, 0.14582570333711892, 0.30859566612627654, 0.30859566612627654, 0.17889603833407336, 0.20573044408418437, 0.4070717512828565, 0.23745852158166628, 0.20353587564142825, 0.1696132297011902, 0.2116076908742738, 0.2317608042908713, 0.2720670311240663, 0.2922201445406638, 0.23227378807739954, 0.36257371797447735, 0.20961293070399473, 0.1926172876739411, 0.3889695624501204, 0.20592506247359316, 0.240245906219192, 0.16016393747946134, 0.30393456422112286, 0.31261840891315495, 0.2040703502627539, 0.17801881618665769, 0.30983969450672855, 0.20175608014391627, 0.33866199167014516, 0.1513170601079372, 0.2637484126901409, 0.18682179232218313, 0.30221172287411974, 0.2417693782992958, 0.18921479314130119, 0.3027436690260819, 0.18921479314130119, 0.3027436690260819, 0.38209227553087477, 0.2292553653185249, 0.2216135198079074, 0.1681206012335849, 0.37930645659677, 0.23179839014247056, 0.19667742193906593, 0.189653228298385, 0.2927779081244035, 0.37642873901709023, 0.16730166178537345, 0.2091270772317168, 0.264243748297382, 0.38168541420732954, 0.2055229153424082, 0.17616249886492133, 0.38446260382734404, 0.27461614559096004, 0.13730807279548002, 0.19223130191367202, 0.26531976818486736, 0.26531976818486736, 0.34491569864032756, 0.13265988409243368, 0.24521286930466735, 0.4086881155077789, 0.1471277215828004, 0.19617029544373388, 0.3727973008557501, 0.24254282224350004, 0.17067828231950005, 0.21110208602675004, 0.23495321144264183, 0.25214490984088395, 0.3209117034338523, 0.1948392485134103, 0.2855228077601872, 0.32445773609112183, 0.19467464165467308, 0.1990007448025547, 0.22839390926450998, 0.22839390926450998, 0.3915324158820171, 0.16313850661750712, 0.31366467865744235, 0.28831803795785105, 0.23762475655866847, 0.15841650437244564, 0.3977316249090135, 0.19886581245450674, 0.21307051334411437, 0.18466111156489912, 0.23976865926704552, 0.3596529889005683, 0.21978793766145838, 0.159845772844697, 0.38530666797150004, 0.25687111198100004, 0.2087077784845625, 0.14449000048931251, 0.3695786435181403, 0.2243870335645852, 0.1187931354165451, 0.29038321990711025, 0.2524845179374174, 0.15780282371088586, 0.2524845179374174, 0.3471662121639489, 0.39122967601863834, 0.26081978401242556, 0.1738798560082837, 0.1738798560082837, 0.2829522486041324, 0.2728468111539848, 0.18189787410265654, 0.2627413737038372, 0.2686578738463057, 0.3837969626375795, 0.17654660281328657, 0.16887066356053498, 0.19219526154992794, 0.18018305770305745, 0.21621966924366895, 0.3964027269467264, 0.3924399924607045, 0.2803142803290746, 0.1822042822138985, 0.15417285418099105, 0.28367930164546856, 0.23302228349449203, 0.33433631979644507, 0.16210245808312487, 0.38551482074581733, 0.22274189643091666, 0.1970409083811955, 0.1884739123646218, 0.2201454670209017, 0.2355044530921274, 0.2764617492820626, 0.2611027632108369, 0.20972532815840234, 0.2796337708778698, 0.2237070167022958, 0.2796337708778698, 0.3608174909937979, 0.25073757848721545, 0.23239092640278508, 0.1559465427176584, 0.27077368030805593, 0.25143270314319477, 0.17406879448375023, 0.29011465747291704, 0.26596452870570897, 0.3285444178129346, 0.255534547187838, 0.14601974125019315, 0.41661057336576585, 0.2360793249072673, 0.20830528668288292, 0.13887019112192195, 0.2675495974083112, 0.2484389118791461, 0.229328226349981, 0.25321658326143737, 0.27075619104371423, 0.37905866746119987, 0.21660495283497136, 0.1263528891537333, 0.23655241389905715, 0.3071650747644474, 0.2542055791154047, 0.20477671650963158, 0.3937651992329577, 0.21478101776343148, 0.21478101776343148, 0.19688259961647886, 0.3813377188725434, 0.1839393702796974, 0.2916111967848861, 0.14356243534025165, 0.39673095355323235, 0.2204060853073513, 0.24244669383808645, 0.13224365118441078, 0.2571643329669157, 0.2571643329669157, 0.336291820033659, 0.15825497413348658, 0.2742026883812472, 0.17627315681651604, 0.31337450100713965, 0.23503087575535472, 0.2814894118288934, 0.3226829842916583, 0.1785054806719812, 0.21283345772428527, 0.24581632005603435, 0.22346938186912213, 0.24581632005603435, 0.2905101964298588, 0.24013860299465226, 0.20717840258362155, 0.37668800469749375, 0.17421820217259085, 0.31973874011754194, 0.2271041518591887, 0.25399806457935575, 0.1972220266145586, 0.3475916725345635, 0.26396059342850314, 0.2247585250975373, 0.16464868699005641, 0.2887816363463829, 0.2310253090771063, 0.31445111513272805, 0.16685161211124344, 0.38521722658461177, 0.21863680427775262, 0.19781425148939524, 0.19781425148939524, 0.4062115494470968, 0.21872929585612905, 0.2343528169887097, 0.14842345075951613, 0.252620692773572, 0.23191407861180383, 0.3437297950853521, 0.17393555895885288, 0.29041989025779263, 0.1815124314111204, 0.3630248628222408, 0.14520994512889632, 0.19005045427040132, 0.35634460175700244, 0.2613193746218018, 0.16629414748660115, 0.2515892025915602, 0.28384422856483715, 0.20643216622897248, 0.26449121298087097, 0.3304432856001438, 0.31445409436142713, 0.18121083403878852, 0.175881103625883, 0.3906180979796843, 0.22321034170267673, 0.20925969534625943, 0.18135840263342484, 0.2726301182287692, 0.3093675100468303, 0.23589272641070808, 0.18175341215251278, 0.2595377645431084, 0.1946533234073313, 0.34064331596282976, 0.1946533234073313, 0.3033498094429924, 0.1784410643782308, 0.21412927725387695, 0.3033498094429924, 0.3580939628524371, 0.22167721509912772, 0.17691546974257308, 0.2429923319355823, 0.2867520289671518, 0.20072642027700627, 0.20072642027700627, 0.2867520289671518, 0.30203933740250904, 0.23072449384913887, 0.2558944386326813, 0.20974953986285352, 0.2909347675953103, 0.3740589869082561, 0.1662484386258916, 0.1662484386258916, 0.29401028860895323, 0.24909205007147428, 0.28584333614759344, 0.17150600168855606, 0.21801646077091438, 0.257655817274717, 0.35675420853422357, 0.17837710426711179, 0.35406006238228865, 0.21530679469193229, 0.2870757262559097, 0.14353786312795486, 0.24914832937175793, 0.26603974153255505, 0.35894250841693937, 0.1266855912059786, 0.27726569898470016, 0.20164778107978193, 0.20164778107978193, 0.32767764425464563], \"Term\": [\"agarro\", \"agarro\", \"agarro\", \"agarro\", \"agradecer\", \"agradecer\", \"agradecer\", \"agradecer\", \"alemania\", \"alemania\", \"alemania\", \"alemania\", \"amigo\", \"amigo\", \"amigo\", \"amigo\", \"amor\", \"amor\", \"amor\", \"amor\", \"animal\", \"animal\", \"animal\", \"animal\", \"animo\", \"animo\", \"animo\", \"animo\", \"argentino\", \"argentino\", \"argentino\", \"argentino\", \"arte\", \"arte\", \"arte\", \"arte\", \"asunto\", \"asunto\", \"asunto\", \"asunto\", \"auto\", \"auto\", \"auto\", \"auto\", \"automatico\", \"automatico\", \"automatico\", \"automatico\", \"bano\", \"bano\", \"bano\", \"bano\", \"boludo\", \"boludo\", \"boludo\", \"boludo\", \"bonito\", \"bonito\", \"bonito\", \"bonito\", \"brasil\", \"brasil\", \"brasil\", \"brasil\", \"buscar\", \"buscar\", \"buscar\", \"buscar\", \"caballo\", \"caballo\", \"caballo\", \"caballo\", \"cabeza\", \"cabeza\", \"cabeza\", \"cabeza\", \"caio\", \"caio\", \"caio\", \"caio\", \"calor\", \"calor\", \"calor\", \"calor\", \"cambiar\", \"cambiar\", \"cambiar\", \"cambiar\", \"camo\", \"camo\", \"camo\", \"camo\", \"cancha\", \"cancha\", \"cancha\", \"cancha\", \"cara\", \"cara\", \"cara\", \"cara\", \"carajo\", \"carajo\", \"carajo\", \"carajo\", \"chico\", \"chico\", \"chico\", \"chico\", \"chino\", \"chino\", \"chino\", \"chino\", \"club\", \"club\", \"club\", \"club\", \"cobrar\", \"cobrar\", \"cobrar\", \"cobrar\", \"color\", \"color\", \"color\", \"color\", \"comedor\", \"comedor\", \"comedor\", \"comedor\", \"comentario\", \"comentario\", \"comentario\", \"comentario\", \"compra\", \"compra\", \"compra\", \"compra\", \"conocer\", \"conocer\", \"conocer\", \"conocer\", \"convertido\", \"convertido\", \"convertido\", \"convertido\", \"cotidiano\", \"cotidiano\", \"cotidiano\", \"cotidiano\", \"creer\", \"creer\", \"creer\", \"creer\", \"cuento\", \"cuento\", \"cuento\", \"cuento\", \"dar\", \"dar\", \"dar\", \"dar\", \"decir\", \"decir\", \"decir\", \"decir\", \"deporte\", \"deporte\", \"deporte\", \"deporte\", \"desarrollar\", \"desarrollar\", \"desarrollar\", \"desarrollar\", \"desconocido\", \"desconocido\", \"desconocido\", \"desconocido\", \"despierto\", \"despierto\", \"despierto\", \"despierto\", \"detalle\", \"detalle\", \"detalle\", \"detalle\", \"disco\", \"disco\", \"disco\", \"disco\", \"doctor\", \"doctor\", \"doctor\", \"doctor\", \"dolar\", \"dolar\", \"dolar\", \"dolar\", \"domingo\", \"domingo\", \"domingo\", \"domingo\", \"don\", \"don\", \"don\", \"don\", \"edad\", \"edad\", \"edad\", \"edad\", \"ejemplo\", \"ejemplo\", \"ejemplo\", \"ejemplo\", \"elegir\", \"elegir\", \"elegir\", \"elegir\", \"emocion\", \"emocion\", \"emocion\", \"emocion\", \"empece\", \"empece\", \"empece\", \"empece\", \"empezar\", \"empezar\", \"empezar\", \"empezar\", \"empleado\", \"empleado\", \"empleado\", \"empleado\", \"encerrado\", \"encerrado\", \"encerrado\", \"encerrado\", \"encontrar\", \"encontrar\", \"encontrar\", \"encontrar\", \"enfermera\", \"enfermera\", \"enfermera\", \"enfermera\", \"entender\", \"entender\", \"entender\", \"entender\", \"escribir\", \"escribir\", \"escribir\", \"escribir\", \"espana\", \"espana\", \"espana\", \"espana\", \"esperar\", \"esperar\", \"esperar\", \"esperar\", \"estilo\", \"estilo\", \"estilo\", \"estilo\", \"estudio\", \"estudio\", \"estudio\", \"estudio\", \"euros\", \"euros\", \"euros\", \"euros\", \"existir\", \"existir\", \"existir\", \"existir\", \"familia\", \"familia\", \"familia\", \"familia\", \"febrero\", \"febrero\", \"febrero\", \"febrero\", \"foto\", \"foto\", \"foto\", \"foto\", \"francia\", \"francia\", \"francia\", \"francia\", \"futbol\", \"futbol\", \"futbol\", \"futbol\", \"gato\", \"gato\", \"gato\", \"gato\", \"gelatina\", \"gelatina\", \"gelatina\", \"gelatina\", \"gol\", \"gol\", \"gol\", \"gol\", \"gusto\", \"gusto\", \"gusto\", \"gusto\", \"haber\", \"haber\", \"haber\", \"haber\", \"hablar\", \"hablar\", \"hablar\", \"hablar\", \"hacer\", \"hacer\", \"hacer\", \"hacer\", \"herm\\u00e1n\", \"herm\\u00e1n\", \"herm\\u00e1n\", \"herm\\u00e1n\", \"hija\", \"hija\", \"hija\", \"hija\", \"hijo\", \"hijo\", \"hijo\", \"hijo\", \"historia\", \"historia\", \"historia\", \"historia\", \"hombre\", \"hombre\", \"hombre\", \"hombre\", \"iglesia\", \"iglesia\", \"iglesia\", \"iglesia\", \"ilusion\", \"ilusion\", \"ilusion\", \"ilusion\", \"importancia\", \"importancia\", \"importancia\", \"importancia\", \"ingl\", \"ingl\", \"ingl\", \"ingl\", \"intentar\", \"intentar\", \"intentar\", \"intentar\", \"interno\", \"interno\", \"interno\", \"interno\", \"italia\", \"italia\", \"italia\", \"italia\", \"jefe\", \"jefe\", \"jefe\", \"jefe\", \"joven\", \"joven\", \"joven\", \"joven\", \"jugador\", \"jugador\", \"jugador\", \"jugador\", \"jugar\", \"jugar\", \"jugar\", \"jugar\", \"juntar\", \"juntar\", \"juntar\", \"juntar\", \"lector\", \"lector\", \"lector\", \"lector\", \"leer\", \"leer\", \"leer\", \"leer\", \"libertad\", \"libertad\", \"libertad\", \"libertad\", \"llamar\", \"llamar\", \"llamar\", \"llamar\", \"llegar\", \"llegar\", \"llegar\", \"llegar\", \"lleno\", \"lleno\", \"lleno\", \"lleno\", \"llevar\", \"llevar\", \"llevar\", \"llevar\", \"llorar\", \"llorar\", \"llorar\", \"llorar\", \"loco\", \"loco\", \"loco\", \"loco\", \"lugar\", \"lugar\", \"lugar\", \"lugar\", \"lunes\", \"lunes\", \"lunes\", \"lunes\", \"malo\", \"malo\", \"malo\", \"malo\", \"mama\", \"mama\", \"mama\", \"mama\", \"mano\", \"mano\", \"mano\", \"mano\", \"marido\", \"marido\", \"marido\", \"marido\", \"marzo\", \"marzo\", \"marzo\", \"marzo\", \"mata\", \"mata\", \"mata\", \"mata\", \"mensaje\", \"mensaje\", \"mensaje\", \"mensaje\", \"mes\", \"mes\", \"mes\", \"mes\", \"mesa\", \"mesa\", \"mesa\", \"mesa\", \"metio\", \"metio\", \"metio\", \"metio\", \"mierda\", \"mierda\", \"mierda\", \"mierda\", \"mierdo\", \"mierdo\", \"mierdo\", \"mierdo\", \"milagro\", \"milagro\", \"milagro\", \"milagro\", \"minuto\", \"minuto\", \"minuto\", \"minuto\", \"moderno\", \"moderno\", \"moderno\", \"moderno\", \"muerto\", \"muerto\", \"muerto\", \"muerto\", \"mujer\", \"mujer\", \"mujer\", \"mujer\", \"mundial\", \"mundial\", \"mundial\", \"mundial\", \"nacho\", \"nacho\", \"nacho\", \"nacho\", \"negro\", \"negro\", \"negro\", \"negro\", \"nenir\", \"nenir\", \"nenir\", \"nenir\", \"nino\", \"nino\", \"nino\", \"nino\", \"novia\", \"novia\", \"novia\", \"novia\", \"objeto\", \"objeto\", \"objeto\", \"objeto\", \"ocurrir\", \"ocurrir\", \"ocurrir\", \"ocurrir\", \"olvido\", \"olvido\", \"olvido\", \"olvido\", \"pagina\", \"pagina\", \"pagina\", \"pagina\", \"palabra\", \"palabra\", \"palabra\", \"palabra\", \"pan\", \"pan\", \"pan\", \"pan\", \"pantalla\", \"pantalla\", \"pantalla\", \"pantalla\", \"partido\", \"partido\", \"partido\", \"partido\", \"paso\", \"paso\", \"paso\", \"paso\", \"patas\", \"patas\", \"patas\", \"patas\", \"pa\\u00eds\", \"pa\\u00eds\", \"pa\\u00eds\", \"pa\\u00eds\", \"pedir\", \"pedir\", \"pedir\", \"pedir\", \"pegar\", \"pegar\", \"pegar\", \"pegar\", \"pensar\", \"pensar\", \"pensar\", \"pensar\", \"perder\", \"perder\", \"perder\", \"perder\", \"perro\", \"perro\", \"perro\", \"perro\", \"peso\", \"peso\", \"peso\", \"peso\", \"poder\", \"poder\", \"poder\", \"poder\", \"podiar\", \"podiar\", \"podiar\", \"podiar\", \"practica\", \"practica\", \"practica\", \"practica\", \"presentar\", \"presentar\", \"presentar\", \"presentar\", \"presidente\", \"presidente\", \"presidente\", \"presidente\", \"privado\", \"privado\", \"privado\", \"privado\", \"publicidad\", \"publicidad\", \"publicidad\", \"publicidad\", \"pueblo\", \"pueblo\", \"pueblo\", \"pueblo\", \"puerta\", \"puerta\", \"puerta\", \"puerta\", \"punto\", \"punto\", \"punto\", \"punto\", \"quemar\", \"quemar\", \"quemar\", \"quemar\", \"querer\", \"querer\", \"querer\", \"querer\", \"querido\", \"querido\", \"querido\", \"querido\", \"quinto\", \"quinto\", \"quinto\", \"quinto\", \"recibir\", \"recibir\", \"recibir\", \"recibir\", \"regalo\", \"regalo\", \"regalo\", \"regalo\", \"regla\", \"regla\", \"regla\", \"regla\", \"respuesta\", \"respuesta\", \"respuesta\", \"respuesta\", \"resto\", \"resto\", \"resto\", \"resto\", \"revista\", \"revista\", \"revista\", \"revista\", \"rico\", \"rico\", \"rico\", \"rico\", \"risa\", \"risa\", \"risa\", \"risa\", \"roberto\", \"roberto\", \"roberto\", \"roberto\", \"sabio\", \"sabio\", \"sabio\", \"sabio\", \"sacar\", \"sacar\", \"sacar\", \"sacar\", \"saco\", \"saco\", \"saco\", \"saco\", \"salir\", \"salir\", \"salir\", \"salir\", \"santo\", \"santo\", \"santo\", \"santo\", \"seguir\", \"seguir\", \"seguir\", \"seguir\", \"sensacion\", \"sensacion\", \"sensacion\", \"sensacion\", \"sentir\", \"sentir\", \"sentir\", \"sentir\", \"serie\", \"serie\", \"serie\", \"serie\", \"serio\", \"serio\", \"serio\", \"serio\", \"siento\", \"siento\", \"siento\", \"siento\", \"sofi\", \"sofi\", \"sofi\", \"sofi\", \"sonido\", \"sonido\", \"sonido\", \"sonido\", \"sos\", \"sos\", \"sos\", \"sos\", \"sueno\", \"sueno\", \"sueno\", \"sueno\", \"suerte\", \"suerte\", \"suerte\", \"suerte\", \"tarde\", \"tarde\", \"tarde\", \"tarde\", \"telefono\", \"telefono\", \"telefono\", \"telefono\", \"tener\", \"tener\", \"tener\", \"tener\", \"tenia\", \"tenia\", \"tenia\", \"tenia\", \"tomar\", \"tomar\", \"tomar\", \"tomar\", \"traer\", \"traer\", \"traer\", \"traer\", \"t\\u00e9n\", \"t\\u00e9n\", \"t\\u00e9n\", \"t\\u00e9n\", \"unico\", \"unico\", \"unico\", \"unico\", \"vacaci\\u00f3n\", \"vacaci\\u00f3n\", \"vacaci\\u00f3n\", \"vacaci\\u00f3n\", \"vacio\", \"vacio\", \"vacio\", \"vacio\", \"veinte\", \"veinte\", \"veinte\", \"veinte\", \"venir\", \"venir\", \"venir\", \"venir\", \"ventana\", \"ventana\", \"ventana\", \"ventana\", \"ver\", \"ver\", \"ver\", \"ver\", \"verano\", \"verano\", \"verano\", \"verano\", \"verde\", \"verde\", \"verde\", \"verde\", \"viejo\", \"viejo\", \"viejo\", \"viejo\", \"visita\", \"visita\", \"visita\", \"visita\", \"vivir\", \"vivir\", \"vivir\", \"vivir\", \"voluntad\", \"voluntad\", \"voluntad\", \"voluntad\", \"volver\", \"volver\", \"volver\", \"volver\", \"volvio\", \"volvio\", \"volvio\", \"volvio\", \"voz\", \"voz\", \"voz\", \"voz\", \"zacarias\", \"zacarias\", \"zacarias\", \"zacarias\", \"zapato\", \"zapato\", \"zapato\", \"zapato\"]}, \"R\": 30, \"lambda.step\": 0.01, \"plot.opts\": {\"xlab\": \"PC1\", \"ylab\": \"PC2\"}, \"topic.order\": [3, 1, 4, 2]};\n",
       "\n",
       "function LDAvis_load_lib(url, callback){\n",
       "  var s = document.createElement('script');\n",
       "  s.src = url;\n",
       "  s.async = true;\n",
       "  s.onreadystatechange = s.onload = callback;\n",
       "  s.onerror = function(){console.warn(\"failed to load library \" + url);};\n",
       "  document.getElementsByTagName(\"head\")[0].appendChild(s);\n",
       "}\n",
       "\n",
       "if(typeof(LDAvis) !== \"undefined\"){\n",
       "   // already loaded: just create the visualization\n",
       "   !function(LDAvis){\n",
       "       new LDAvis(\"#\" + \"ldavis_el157602565531773952621918014\", ldavis_el157602565531773952621918014_data);\n",
       "   }(LDAvis);\n",
       "}else if(typeof define === \"function\" && define.amd){\n",
       "   // require.js is available: use it to load d3/LDAvis\n",
       "   require.config({paths: {d3: \"https://d3js.org/d3.v5\"}});\n",
       "   require([\"d3\"], function(d3){\n",
       "      window.d3 = d3;\n",
       "      LDAvis_load_lib(\"https://cdn.jsdelivr.net/gh/bmabey/pyLDAvis@3.4.0/pyLDAvis/js/ldavis.v3.0.0.js\", function(){\n",
       "        new LDAvis(\"#\" + \"ldavis_el157602565531773952621918014\", ldavis_el157602565531773952621918014_data);\n",
       "      });\n",
       "    });\n",
       "}else{\n",
       "    // require.js not available: dynamically load d3 & LDAvis\n",
       "    LDAvis_load_lib(\"https://d3js.org/d3.v5.js\", function(){\n",
       "         LDAvis_load_lib(\"https://cdn.jsdelivr.net/gh/bmabey/pyLDAvis@3.4.0/pyLDAvis/js/ldavis.v3.0.0.js\", function(){\n",
       "                 new LDAvis(\"#\" + \"ldavis_el157602565531773952621918014\", ldavis_el157602565531773952621918014_data);\n",
       "            })\n",
       "         });\n",
       "}\n",
       "</script>"
      ],
      "text/plain": [
       "PreparedData(topic_coordinates=              x         y  topics  cluster       Freq\n",
       "topic                                                \n",
       "2      0.000025 -0.001548       1        1  29.729041\n",
       "0      0.003917  0.004579       2        1  26.477033\n",
       "3     -0.006348  0.001212       3        1  24.313101\n",
       "1      0.002405 -0.004243       4        1  19.480825, topic_info=         Term        Freq       Total Category  logprob  loglift\n",
       "1221    nacho  225.000000  225.000000  Default  30.0000  30.0000\n",
       "250     viejo  469.000000  469.000000  Default  29.0000  29.0000\n",
       "148    llegar  396.000000  396.000000  Default  28.0000  28.0000\n",
       "900      rico   83.000000   83.000000  Default  27.0000  27.0000\n",
       "172     negro  231.000000  231.000000  Default  26.0000  26.0000\n",
       "...       ...         ...         ...      ...      ...      ...\n",
       "121      hijo   71.111203  481.904588   Topic4  -5.5182  -0.2778\n",
       "237     tenia   62.724847  382.632872   Topic4  -5.6437  -0.1726\n",
       "438   empezar   58.799113  336.717480   Topic4  -5.7083  -0.1094\n",
       "561     vivir   49.909770  238.379546   Topic4  -5.8722   0.0721\n",
       "1273     caio   52.894026  331.789056   Topic4  -5.8142  -0.2005\n",
       "\n",
       "[318 rows x 6 columns], token_table=      Topic      Freq       Term\n",
       "term                            \n",
       "1064      1  0.409734     agarro\n",
       "1064      2  0.170723     agarro\n",
       "1064      3  0.273156     agarro\n",
       "1064      4  0.170723     agarro\n",
       "1124      1  0.407391  agradecer\n",
       "...     ...       ...        ...\n",
       "1271      4  0.126686   zacarias\n",
       "565       1  0.277266     zapato\n",
       "565       2  0.201648     zapato\n",
       "565       3  0.201648     zapato\n",
       "565       4  0.327678     zapato\n",
       "\n",
       "[852 rows x 3 columns], R=30, lambda_step=0.01, plot_opts={'xlab': 'PC1', 'ylab': 'PC2'}, topic_order=[3, 1, 4, 2])"
      ]
     },
     "execution_count": 33,
     "metadata": {},
     "output_type": "execute_result"
    }
   ],
   "source": [
    "lda_model_opt = LdaMulticore(corpus = corpus,\n",
    "    id2word = dictionary,\n",
    "    num_topics = 4,\n",
    "    random_state=123)\n",
    "pyLDAvis.enable_notebook()\n",
    "LDA_visualization = gensimvis.prepare(lda_model_opt, corpus, dictionary)\n",
    "LDA_visualization"
   ]
  },
  {
   "cell_type": "code",
   "execution_count": 34,
   "id": "898d3c65",
   "metadata": {},
   "outputs": [
    {
     "data": {
      "text/plain": [
       "127.31450141415469"
      ]
     },
     "execution_count": 34,
     "metadata": {},
     "output_type": "execute_result"
    }
   ],
   "source": [
    "## Se calcula la perplejidad\n",
    "np.exp2(-lda_model_opt.log_perplexity(corpus))"
   ]
  },
  {
   "cell_type": "code",
   "execution_count": 25,
   "id": "53d7bf28",
   "metadata": {},
   "outputs": [],
   "source": [
    "## Se crea una función \n",
    "\n",
    "def perplejidad_ntemas(dictionary, corpus, texts, start=1, limit=10, step=1):\n",
    " \n",
    "    perplejidad_values = []\n",
    "    model_list = []\n",
    "    \n",
    "    for num_topics in range(start, limit, step):\n",
    "        model = LdaMulticore(corpus=corpus,\n",
    "                        id2word=dictionary,\n",
    "                        num_topics=num_topics, \n",
    "                        random_state=123,\n",
    "                        passes=20)\n",
    "        model_list.append(model)\n",
    "        perplejidad_values.append(np.exp2(-model.log_perplexity(corpus)))\n",
    "\n",
    "    return model_list, perplejidad_values"
   ]
  },
  {
   "cell_type": "code",
   "execution_count": 26,
   "id": "538fc875",
   "metadata": {},
   "outputs": [
    {
     "data": {
      "image/png": "[encoded data removed]",
      "text/plain": [
       "<Figure size 640x480 with 1 Axes>"
      ]
     },
     "metadata": {},
     "output_type": "display_data"
    }
   ],
   "source": [
    "## Se modela y se gráfica\n",
    "modelos, valores_p = perplejidad_ntemas(dictionary=dictionary, corpus=corpus, texts=clean, start=1, limit=10, step=1)\n",
    "\n",
    "import matplotlib.pyplot as plt\n",
    "# Show graph\n",
    "limit=10; start=1; step=1;\n",
    "x = range(start, limit, step)\n",
    "plt.plot(x, valores_p)\n",
    "plt.xlabel(\"Número de Temas\")\n",
    "plt.ylabel(\"Medida de Perplejidad\")\n",
    "\n",
    "plt.show()"
   ]
  },
  {
   "cell_type": "code",
   "execution_count": 35,
   "id": "86a7b3e6",
   "metadata": {},
   "outputs": [
    {
     "name": "stdout",
     "output_type": "stream",
     "text": [
      "Recomendaciones para 'La venganza del metegol':\n",
      "Recomendación 1: El rincón blanco\n"
     ]
    }
   ],
   "source": [
    "## Definido el número de temas se procede a correr el modelo\n",
    "\n",
    "# Probar diferentes números de temas\n",
    "num_topics = 4\n",
    "\n",
    "# Entrenar el modelo LDA\n",
    "lda_model = LdaModel(corpus, num_topics=num_topics, id2word=dictionary, passes=15)\n",
    "\n",
    "# Obtener las asignaciones de temas para todos los cuentos\n",
    "topic_assignments = lda_model.get_document_topics(corpus)\n",
    "\n",
    "cuento_seleccionado = 'La venganza del metegol'\n",
    "\n",
    "# Obtén las asignaciones de temas para el cuento seleccionado\n",
    "temas_del_cuento = lda_model.get_document_topics(corpus[160])\n",
    "\n",
    "# Ordenar los cuentos por probabilidad de pertenecer al mismo tema\n",
    "cuentos_similares = sorted(enumerate(temas_del_cuento), key=lambda x: x[1], reverse=True)\n",
    "\n",
    "# Obtener las 5 recomendaciones excluyendo el cuento de origen\n",
    "top_recomendaciones = [cuentos_similares[i][0] for i in range(1, len(cuentos_similares))]\n",
    "\n",
    "# Imprimir las recomendaciones\n",
    "print(\"Recomendaciones para 'La venganza del metegol':\")\n",
    "for i, idx in enumerate(top_recomendaciones):\n",
    "    print(f\"Recomendación {i + 1}: {casciari['titulo'].iloc[idx]}\")"
   ]
  },
  {
   "cell_type": "markdown",
   "metadata": {},
   "source": [
    "(Utilice este espacio para describir el procedimiento, análisis, y conclusiones)"
   ]
  },
  {
   "cell_type": "markdown",
   "metadata": {},
   "source": [
    "### 4 Recomendaciones generales\n",
    "\n",
    "De acuerdo con los resultados encontrados, en su opinión ¿qué procedimiento generó las mejores recomendaciones para la entrada elegida? ¿Cómo implementaría una evaluación objetiva de estas recomendaciones? Justifique su respuesta."
   ]
  },
  {
   "cell_type": "markdown",
   "metadata": {},
   "source": [
    "(Utilice este espacio para describir su procedimiento)"
   ]
  }
 ],
 "metadata": {
  "kernelspec": {
   "display_name": "Python 3 (ipykernel)",
   "language": "python",
   "name": "python3"
  },
  "language_info": {
   "codemirror_mode": {
    "name": "ipython",
    "version": 3
   },
   "file_extension": ".py",
   "mimetype": "text/x-python",
   "name": "python",
   "nbconvert_exporter": "python",
   "pygments_lexer": "ipython3",
   "version": "3.11.2"
  },
  "toc": {
   "base_numbering": 1,
   "nav_menu": {},
   "number_sections": true,
   "sideBar": true,
   "skip_h1_title": false,
   "title_cell": "Table of Contents",
   "title_sidebar": "Contents",
   "toc_cell": false,
   "toc_position": {},
   "toc_section_display": true,
   "toc_window_display": false
  }
 },
 "nbformat": 4,
 "nbformat_minor": 5
}
