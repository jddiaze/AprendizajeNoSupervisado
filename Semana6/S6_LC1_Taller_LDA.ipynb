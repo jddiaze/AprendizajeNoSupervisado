{
 "cells": [
  {
   "cell_type": "markdown",
   "metadata": {},
   "source": [
    "<div >\n",
    "<img src = \"figs/ans_banner_1920x200.png\" />\n",
    "</div>"
   ]
  },
  {
   "cell_type": "markdown",
   "metadata": {},
   "source": [
    "# Caso-taller:  Recomendando el Blog de  Hernán Casciari \n",
    "\n",
    "\n",
    "[Hernán Casciari](https://hernancasciari.com/#bio), es un escritor argentino, que escribe blog posts con cuentos e historias  relacionadas con el futbol, su vida, infancia, y relaciones familiares con toques de ficción. Este [blog](https://hernancasciari.com/blog/) es  tan interesantes que en 2005 fue premiado como “El mejor blog del mundo” por Deutsche Welle de Alemania. \n",
    "\n",
    "El objetivo de este caso-taller es construir un sistema de recomendación basado en los contenidos de los posts utilizando similitud de las palabras usadas o temas de los cuentos."
   ]
  },
  {
   "cell_type": "markdown",
   "metadata": {},
   "source": [
    "## Instrucciones generales\n",
    "\n",
    "1. Para desarrollar el *cuaderno*, primero debe descargarlo.\n",
    "\n",
    "2. Para responder cada inciso deberá utilizar el espacio debidamente especificado.\n",
    "\n",
    "3. La actividad será calificada sólo si sube el *cuaderno* de jupyter notebook con extensión `.ipynb` en la actividad designada como \"entrega calificada por el personal\".\n",
    "\n",
    "4. El archivo entregado debe poder ser ejecutado localmente por el tutor. Sea cuidadoso con la especificación de la ubicación de los archivos de soporte, guarde la carpeta de datos en el mismo `path` de su cuaderno, por ejemplo: `data`."
   ]
  },
  {
   "cell_type": "markdown",
   "metadata": {},
   "source": [
    "## Desarrollo\n"
   ]
  },
  {
   "cell_type": "markdown",
   "metadata": {},
   "source": [
    "### 1. Carga de datos \n",
    "\n",
    "En la carpeta `data` se encuentran el archivo `blog_casciari.csv` con el título, la fecha de publicación, y el contenido de los cuentos publicados en el blog  de sr. Casciari. Cargue estos datos en su *cuaderno* y reporte brevemente el contenido de la base.\n",
    "   "
   ]
  },
  {
   "cell_type": "code",
   "execution_count": 16,
   "metadata": {},
   "outputs": [
    {
     "name": "stdout",
     "output_type": "stream",
     "text": [
      "                       titulo    fecha  \\\n",
      "0            El rincón blanco  1/11/08   \n",
      "1  Mínimos avances en la cama  1/24/08   \n",
      "2                  Don Marcos  2/19/08   \n",
      "3              Los dos rulfos  3/26/08   \n",
      "4   La noticia no es el perro  4/15/08   \n",
      "\n",
      "                                              cuento  \n",
      "0  De pronto yo estaba en el hogar donde pasé la ...  \n",
      "1  Menos la cama, todo ha mejorado en este mundo....  \n",
      "2  Dos veces, y no una, mi abuelo materno me ayud...  \n",
      "3  A su regreso de México, mi amigo Comequechu no...  \n",
      "4  De repente, un video de You Tube recibe un mil...  \n",
      "La estructura del dataframe es de dimensión (520, 3)\n",
      "La venganza del metegol\n",
      "El mes pasado me invitaron a presentar un libro en Buenos Aires. Y como era un libro sobre fútbol, al final de la charla el director de la editorial nos invitó a jugar un partido de metegol (ese invento español al que sus creadores llaman, erróneamente, futbolín). Hacía años que no jugaba al metegol, pero por suerte me tocó de compañero un filósofo muy prestigioso y pudimos ganar. Nuestros contrincantes eran el autor del libro y el director de la editorial. De los tres, a este último lo conocía desde la juventud.\n",
      "Jugamos dos partidos enteros y los destrozamos con una facilidad pasmosa: hacía años que no practicaba este falso deporte de muñecas y reflejos, pero descubrí que no había perdido las mañas. Eso me hizo sentir bien: a mi edad cualquier destreza que mantengamos indemne, por más pelotuda que sea, se convierte en una gran noticia.\n",
      "Después de la charla algunos fotógrafos hicieron imágenes del partido de metegol y las subieron a Twitter.\n",
      "— Estadio: Librería Gandhi, Buenos Aires. Locales: A la izquierda, Alejandro Duchini y Gonzalo Garcés. Vistantes: A la derecha, Tomás Abraham y Hernán Casciari. Resultado: 1º match: 1-4; 2º match 0-4. Paliza.\n",
      "Cuando volví a casa recibí un mail de Chiri, mi mejor amigo desde la infancia. Me decía que había visto las fotos y se sorprendía de que mi compañero haya sido el mismo filósofo al que admirábamos en la juventud. «Vos, jugando al metegol con Tomás Abraham; solamente puede pasar en un sueño», me decía. Y era verdad. En un momento, durante el partido, me imaginé con diecisiete años mirando por la ventana de la librería Gandhi esa escena del futuro, y sonreí.\n",
      "Ese recuerdo momentáneo me desconcentró del juego y justo en ese momento me hicieron un gol (el único que recibí esa noche; yo defendía la zaga). Fue un gol con molinete de Gonzalo Garcés, el director de la editorial Galerna, y él, con injusticia, me lo festejó en la cara de un modo muy antideportivo, como si se tratara de la final del mundo.\n",
      "Entonces me vino a la cabeza algo que ya conté muchas veces en sobremesas con amigos, y que ocurrió la noche en que lo conocí a Gonzalo, cuando los dos éramos adolescentes.\n",
      "En ese entonces (sería el año noventa y uno) me gustaba mucho pasar los veranos en Mercedes, mi pueblo, porque mis padres se iban de vacaciones y me dejaban la casa sola. Mi amigo Chiri llegaba los viernes muy de madrugada, y pasaba por casa para ver si yo estaba despierto. Si veía luz en la habitación me tocaba timbre y nos emborrachábamos por ahí. Si no veía luz, entraba por la ventana de mi cuarto a oscuras y me despertaba de maneras horribles: a veces me tiraba agua en la cara, o me pegaba una patada en la panza. O me metía un gato entre las cobijas. O se subía arriba de las mantas y empezaba a bombearme desde atrás como un amante desenfrenado. El objetivo era despertarme siempre de una manera creativa.\n",
      "Pero cierto fin de semana pasó que, por la tarde, conocí a Gonzalo Garcés (que entonces era una promesa de escritor de diecisiete años) y lo invité a pasar un fin de semana a Mercedes. Gonzalo ya era entonces el cachorro de lo que es hoy: una persona fina, siempre muy bien bañado, de clase acomodada y sereno. De hecho, se había convertido un año antes, a los dieciséis, en el crítico literario más joven en la historia del diario porteño La Nación. Un prodigio, Garcés. Siempre lo fue.\n",
      "Nos conocimos por casualidad porque aquel año integramos una antología de «jóvenes promesas literarias» de entonces, y se había publicado un libro con veinte autores adolescentes. Yo leí su cuento y fue el único que me gustó, entonces lo llamé por teléfono y lo invité a casa para charlar. Estuvo en Mercedes ese fin de semana. Lo llevé al carnaval del pueblo, que es uno de los carnavales menos luminosos y más tristes de la provincia de Buenos Aires.\n",
      "La pasamos muy bien todo ese día, hasta el accidente nocturno. Gonzalo Garcés se quedó a dormir en casa y le ofrecí mi habitación. Yo me fui a dormir la borrachera a la cama de mis padres, sin recordar la rutina de Chiri por las madrugadas. Esa noche Gonzalo, un chico buen mozo y frágil, se acostó y apagó la luz en una ciudad desconocida de la llanura pampeana, y se quedó dormido, sin saber que en medio de la noche un borracho joven entraría a oscuras por la ventana y se subiría encima suyo para sodomizarlo.\n",
      "Yo no escuché el grito, porque la habitación de mis padres quedaba lejos. No me enteré de nada. Pero a la mañana siguiente encontré a Gonzalo en la cocina. Desayunaba con los pelos alborotados. Me dijo:\n",
      "—?Ayer entró un tipo por la ventana y me quiso fornicar. Yo estaba adentro de las sábanas y cuando saqué la cabeza, asustado, el tipo me mira y me dice «Vos no sos el gordo», y me deja de fornicar. Se levanta de la cama, me pide disculpas y se escapa por la ventana. Iba en un ciclomotor de la marca Zanella. No apareció nunca más.\n",
      "Yo miré la taza de café que tenía Gonzalo en la mano: le temblaba. Antes de que se pusiera a llorar lo tranquilicé:\n",
      "— Estamos en carnaval?—?le dije?—?. En estas épocas vale todo, Gonzalo.\n",
      "El susto de Garcés fue enorme, y yo creí siempre que se había olvidado de aquello. En esa época me preocupé más por el susto de mi amigo Chiri, que duró muchos años y fue traumático. Creer que estás violando en chiste a un amigo gordo, de toda la vida, y ver de repente que estás violando en chiste a una promesa literaria menor de edad, es horrible. Esa imagen no se va muy fácil del subconsciente. Pobre Chiri.\n",
      "Con el paso de los años fue peor, porque Gonzalo Garcés empezó a crecer en el mundo hispanoamericano de las letras, se convirtió en un gran escritor, en un crítico implacable, en el director de una editorial prestigiosa, y el trauma de Chiri creció siempre a la par de la consagración de Garcés.\n",
      "Hace unos años, cuando Gonzalo ganó el Premio Seix Barral, Chiri sintió mucha vergüenza por haber violado en la oscuridad a alguien que había conseguido el mismo galardón que Vargas Llosa.\n",
      "Pero ahora creo que el gol que me gritó Gonzalo Garcés a la cara durante el metegol, con una mirada maradoniana y vengativa que jamás le había visto antes, casi mirando a cámara, fue una manera de decirme que todavía se acuerda, que algo sigue roto en su alma, que no le gustaron mucho los carnavales de mi pueblo.\n",
      "Hernán Casciari\n",
      "17 noviembre, 2015\n"
     ]
    }
   ],
   "source": [
    "# Utilice este espacio para escribir el código.\n",
    "import pandas as pd\n",
    "import numpy as np\n",
    "\n",
    "# Convertir el csv a un dataframe usando pandas\n",
    "casciari = pd.read_csv(\"data/blog_casciari.csv\", sep = \",\")\n",
    "\n",
    "# Ilustrar la esturctura del dataframe\n",
    "print(casciari.head())\n",
    "# Exploramos la estructura del dataframe\n",
    "print(\"La estructura del dataframe es de dimensión\", casciari.shape)\n",
    "\n",
    "# Vemos el cuento ejemplo - 160 La venganza del metegol\n",
    "#example=casciari['cuento'][160]\n",
    "print(casciari['titulo'][160])\n",
    "print(casciari['cuento'][160])\n"
   ]
  },
  {
   "cell_type": "markdown",
   "metadata": {},
   "source": [
    "#### Procedimiento:\n",
    "\n",
    "1. Importamos las librerias a utilizar, en este caso son pandas y numpy\n",
    "2. Convertimos el archivo csv a un dataframe utilizando pandas\n",
    "3. Exploramos la estructura del dataframe\n",
    "4. Usamos la función shape para visualizar las dimensiones del dataframe\n",
    "\n",
    "#### Análisis y conclusiones: \n",
    "\n",
    "Podemos ver que el Blog de Hernán Casciri contiene 520 entradas y el archivo nos provee la información de título y fecha y cuento. "
   ]
  },
  {
   "cell_type": "markdown",
   "metadata": {},
   "source": [
    "### 2. Homogenización de textos\n",
    "\n",
    "Para cumplir con el objetivo de generar recomendaciones en esta sección debe preparar los posts para poder ser utilizados en su sistema de recomendación. Para ello, \"limpie\" y \"tokenize\" cada uno de los cuentos, describiendo detalladamente los pasos que realizo y si transformó o eliminó ciertas palabras. Para asistirlo en la tarea he creado listas de *stopwords* que están disponibles en la carpeta `data`. En su procedimiento ilustre la limpieza con el cuento 'La venganza del metegol'. (En su limpieza recuerde que el objetivo es generar recomendaciones a partir de la similitud de las palabras o temas de los cuentos)"
   ]
  },
  {
   "cell_type": "code",
   "execution_count": 12,
   "metadata": {},
   "outputs": [
    {
     "ename": "ModuleNotFoundError",
     "evalue": "No module named 'spacy'",
     "output_type": "error",
     "traceback": [
      "\u001b[1;31m---------------------------------------------------------------------------\u001b[0m",
      "\u001b[1;31mModuleNotFoundError\u001b[0m                       Traceback (most recent call last)",
      "\u001b[1;32mc:\\Users\\jrami\\Documents\\GitHub\\jddiaze\\ANS\\Semana6\\S6_LC1_Taller_LDA.ipynb Cell 9\u001b[0m line \u001b[0;36m<cell line: 11>\u001b[1;34m()\u001b[0m\n\u001b[0;32m      <a href='vscode-notebook-cell:/c%3A/Users/jrami/Documents/GitHub/jddiaze/ANS/Semana6/S6_LC1_Taller_LDA.ipynb#X11sZmlsZQ%3D%3D?line=8'>9</a>\u001b[0m \u001b[39mimport\u001b[39;00m \u001b[39mre\u001b[39;00m\n\u001b[0;32m     <a href='vscode-notebook-cell:/c%3A/Users/jrami/Documents/GitHub/jddiaze/ANS/Semana6/S6_LC1_Taller_LDA.ipynb#X11sZmlsZQ%3D%3D?line=9'>10</a>\u001b[0m \u001b[39mimport\u001b[39;00m \u001b[39munidecode\u001b[39;00m\n\u001b[1;32m---> <a href='vscode-notebook-cell:/c%3A/Users/jrami/Documents/GitHub/jddiaze/ANS/Semana6/S6_LC1_Taller_LDA.ipynb#X11sZmlsZQ%3D%3D?line=10'>11</a>\u001b[0m \u001b[39mimport\u001b[39;00m \u001b[39mspacy\u001b[39;00m\n\u001b[0;32m     <a href='vscode-notebook-cell:/c%3A/Users/jrami/Documents/GitHub/jddiaze/ANS/Semana6/S6_LC1_Taller_LDA.ipynb#X11sZmlsZQ%3D%3D?line=11'>12</a>\u001b[0m \u001b[39mfrom\u001b[39;00m \u001b[39mwordcloud\u001b[39;00m \u001b[39mimport\u001b[39;00m WordCloud\n\u001b[0;32m     <a href='vscode-notebook-cell:/c%3A/Users/jrami/Documents/GitHub/jddiaze/ANS/Semana6/S6_LC1_Taller_LDA.ipynb#X11sZmlsZQ%3D%3D?line=12'>13</a>\u001b[0m \u001b[39mimport\u001b[39;00m \u001b[39mmatplotlib\u001b[39;00m\u001b[39m.\u001b[39;00m\u001b[39mpyplot\u001b[39;00m \u001b[39mas\u001b[39;00m \u001b[39mplt\u001b[39;00m\n",
      "\u001b[1;31mModuleNotFoundError\u001b[0m: No module named 'spacy'"
     ]
    }
   ],
   "source": [
    "### Limpieza y tokenización siguiendo el ejemplo del LAB Intro al PLN\n",
    "\n",
    "# PENDIENTES:\n",
    "# 1) FALTA USAR LA LISTA DE STOPWORDS PROVISTA PARA EL TALLER\n",
    "# 2) FALTA EN CADA PASO MOSTRAR LA TRNASFORMACIÓN DEL BLOG \"LA VENGANZA DEL METEGOL\"\n",
    "\n",
    "\n",
    "# Cargamos las librerías a utilizar\n",
    "import re\n",
    "import unidecode\n",
    "import spacy\n",
    "from wordcloud import WordCloud\n",
    "import matplotlib.pyplot as plt\n",
    "\n",
    "\n",
    "#Escogemos el cuento la venganza del metegol como ejemplo\n",
    "example=casciari['cuento'][160]\n",
    "example\n",
    "\n",
    "\n",
    "# Cargar el modelo para el idioma deseado (por ejemplo, español)\n",
    "nlp = spacy.load(\"es_core_news_sm\")\n",
    "\n",
    "## Retiramos caracteres no deseados\n",
    "\n",
    "# Quitamos tildes\n",
    "documento = unidecode.unidecode(casciari)\n",
    "print(documento[5,:,:]) \n",
    "\n",
    "# Retiramos caracteres no deseados\n",
    "documento = re.sub('[^A-Za-z0-9 ]+', ' ', documento)\n",
    "\n",
    "# Eliminamos espacios extras\n",
    "documento = re.sub('\\s+', ' ', documento)\n",
    "\n",
    "# Minúsculas\n",
    "documento = documento.lower()\n",
    "\n",
    "## Tokenización\n",
    "doc = nlp(documento)\n",
    "\n",
    "\n",
    "# Filtrar las stopwords\n",
    "doc_sin_stopwords = [token.text for token in doc if not token.is_stop]\n",
    "\n",
    "# Convertir la lista de palabras sin stopwords nuevamente a texto\n",
    "doc_sin_stopwords = ' '.join(doc_sin_stopwords)\n",
    "\n",
    "# Obtener los lemas de cada palabra\n",
    "lemmas =[token.lemma_ for token in nlp(doc_sin_stopwords)]\n",
    "\n",
    "\n",
    "# Convertir la lista de lemmas nuevamente a texto\n",
    "doc_lemmas = \" \".join(lemmas)\n",
    "\n",
    "# Creamos el objeto WordCloud con el documento de lemas\n",
    "wordcloud = WordCloud(width = 1600, height = 800, \n",
    "    background_color = \"white\").generate(doc_lemmas)\n",
    "\n",
    "\n",
    "# Mostramos la nube de palabras usando Matplotlib\n",
    "plt.figure(figsize = (20, 10))\n",
    "plt.imshow(wordcloud, interpolation = 'bilinear')\n",
    "plt.axis(\"off\") # elimina los ejes y marcas para tener una visualización más limpia.\n",
    "plt.show()\n",
    "\n"
   ]
  },
  {
   "cell_type": "markdown",
   "metadata": {},
   "source": [
    "#### Procedimiento:\n",
    "\n",
    "1.\n",
    "\n",
    "#### Análisis y conclusiones: \n",
    "\n",
    "1. "
   ]
  },
  {
   "cell_type": "markdown",
   "metadata": {},
   "source": [
    "### 3. Generando Recomendaciones\n",
    "\n",
    "En esta sección nos interesa generar recomendaciones de cuentos en el blog a un usuario que leyó 'La venganza del metegol'. Para ello vamos a utilizar distintas estrategias."
   ]
  },
  {
   "cell_type": "markdown",
   "metadata": {},
   "source": [
    "#### 3.1. Recomendaciones basadas en contenidos\n",
    "\n",
    "##### 3.1.1. Genere 5 recomendaciones de más recomendada (1) a menos recomendada (5) para el cuento 'La venganza del metegol' usando en la distancia de coseno donde el texto este vectorizado por `CountVectorizer`. Explique el procedimiento que realizó y como ordenó las recomendaciones."
   ]
  },
  {
   "cell_type": "code",
   "execution_count": null,
   "metadata": {},
   "outputs": [],
   "source": [
    "# Utilice este espacio para escribir el código."
   ]
  },
  {
   "cell_type": "markdown",
   "metadata": {},
   "source": [
    "(Utilice este espacio para describir el procedimiento, análisis, y conclusiones)"
   ]
  },
  {
   "cell_type": "markdown",
   "metadata": {},
   "source": [
    "##### 3.1.2. Genere 5 recomendaciones de más recomendada (1) a menos recomendada (5) para  el cuento 'La venganza del metegol' usando nuevamente la distancia de coseno, pero ahora vectorice el texto usando `TF-IDFVectorizer`. Explique el procedimiento que realizó y como ordenó las recomendaciones. Compare con los resultados del punto anterior y explique sus similitudes y/o diferencias."
   ]
  },
  {
   "cell_type": "code",
   "execution_count": null,
   "metadata": {},
   "outputs": [],
   "source": [
    "# Utilice este espacio para escribir el código."
   ]
  },
  {
   "cell_type": "markdown",
   "metadata": {},
   "source": [
    "(Utilice este espacio para describir el procedimiento, análisis, y conclusiones)"
   ]
  },
  {
   "cell_type": "markdown",
   "metadata": {},
   "source": [
    "##### 3.1.3. Genere 5 recomendaciones de más recomendada (1) a menos recomendada (5) para el cuento 'La venganza del metegol' usando el texto vectorizado por `TF-IDFVectorizer` y la correlación como medida de similitud. Explique el procedimiento que realizó y como ordenó las recomendaciones. Compare con los resultados de los puntos anteriores y explique sus similitudes y/o diferencias."
   ]
  },
  {
   "cell_type": "code",
   "execution_count": null,
   "metadata": {},
   "outputs": [],
   "source": [
    "# Utilice este espacio para escribir el código."
   ]
  },
  {
   "cell_type": "markdown",
   "metadata": {},
   "source": [
    "(Utilice este espacio para describir el procedimiento, análisis, y conclusiones)"
   ]
  },
  {
   "cell_type": "markdown",
   "metadata": {},
   "source": [
    "##### 3.2. Recomendaciones basadas en temas\n",
    "\n",
    "Usando modelado de temas con LDA, encuentre los temas subyacentes en el blog. Explique como eligió el numero óptimo de temas. Utilizando el tema asignado al cuento 'La venganza del metegol' y la probabilidad de pertenecer a este tema genere 5 recomendaciones de más recomendada (1) a menos recomendada (5) para este cuento. Explique el procedimiento que realizó. Compare con los resultados encontrados anteriormente y explique sus similitudes y/o diferencias. (Esto puede tomar mucho tiempo y requerir mucha capacidad computacional, puede aprovechar los recursos de [Google Colab](https://colab.research.google.com/))\n"
   ]
  },
  {
   "cell_type": "code",
   "execution_count": null,
   "metadata": {},
   "outputs": [],
   "source": [
    "# Utilice este espacio para escribir el código."
   ]
  },
  {
   "cell_type": "markdown",
   "metadata": {},
   "source": [
    "(Utilice este espacio para describir el procedimiento, análisis, y conclusiones)"
   ]
  },
  {
   "cell_type": "markdown",
   "metadata": {},
   "source": [
    "### 4 Recomendaciones generales\n",
    "\n",
    "De acuerdo con los resultados encontrados, en su opinión ¿qué procedimiento generó las mejores recomendaciones para la entrada elegida? ¿Cómo implementaría una evaluación objetiva de estas recomendaciones? Justifique su respuesta."
   ]
  },
  {
   "cell_type": "markdown",
   "metadata": {},
   "source": [
    "(Utilice este espacio para describir su procedimiento)"
   ]
  }
 ],
 "metadata": {
  "kernelspec": {
   "display_name": "Python 3 (ipykernel)",
   "language": "python",
   "name": "python3"
  },
  "language_info": {
   "codemirror_mode": {
    "name": "ipython",
    "version": 3
   },
   "file_extension": ".py",
   "mimetype": "text/x-python",
   "name": "python",
   "nbconvert_exporter": "python",
   "pygments_lexer": "ipython3",
   "version": "3.9.12"
  },
  "toc": {
   "base_numbering": 1,
   "nav_menu": {},
   "number_sections": true,
   "sideBar": true,
   "skip_h1_title": false,
   "title_cell": "Table of Contents",
   "title_sidebar": "Contents",
   "toc_cell": false,
   "toc_position": {},
   "toc_section_display": true,
   "toc_window_display": false
  }
 },
 "nbformat": 4,
 "nbformat_minor": 5
}
