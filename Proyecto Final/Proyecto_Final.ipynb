{
 "cells": [
  {
   "cell_type": "markdown",
   "metadata": {},
   "source": [
    "# Proyecto final\n",
    "<i>Autores:</i>\n",
    "<ul>\n",
    "<li><i>Catalina García</i></li>\n",
    "<li><i>Juan Felipe Manjarres</i></li>\n",
    "<li><i>Juan Antonio Ramirez</i></li>\n",
    "<li><i>Jeison David Díaz</i></li>\n",
    "</ul>"
   ]
  },
  {
   "cell_type": "markdown",
   "metadata": {},
   "source": [
    "## Lluvia de ideas\n",
    "1.\tHaber hecho una lluvia de ideas (Brainstorm) con preguntas/problemas que estarían interesados en responder. Al describir las preguntas explicar, piense en lo siguiente: \n",
    "\n",
    "<ol style=\"list-style-type: lower-alpha;\">\n",
    "<li> Su motivación para responderla.</li>\n",
    "<li> Explicar porque pertenecen al área de aprendizaje no supervisado.</li>\n",
    "<li> Identificar el potencial cliente interesado: Sector Privado (por ej.: empresa de telecomunicaciones, empresa agroindustria, etc.), Sector Público (por ej.: gobierno, nacional, alcaldía, etc.) o Sector No Gubernamental (por ej.: ONG, etc.)</li>\n",
    "</ol>"
   ]
  },
  {
   "cell_type": "markdown",
   "metadata": {},
   "source": [
    "## Factibilidad\n",
    "2.\tExaminar la factibilidad de conseguir datos para responder las preguntas: \n",
    "\n",
    "<ol style=\"list-style-type: lower-alpha;\">\n",
    "<li> Identificar la fuente de donde los obtendría.</li>\n",
    "<li> Evaluar si existen barreras o no para obtenerlos.</li>\n",
    "</ol>"
   ]
  },
  {
   "cell_type": "markdown",
   "metadata": {},
   "source": [
    "## Roles\n",
    "3. Definir el rol que cada uno de los miembros del grupo ocupará en el desarrollo del proyecto. "
   ]
  },
  {
   "cell_type": "markdown",
   "metadata": {},
   "source": [
    "## Actividades\n",
    "4.\tComenzar a planear las actividades llevarán a cabo para la primera entrega calificada del proyecto. Es importante ser precisos, y tomar este punto como un contrato entre los miembros del equipo."
   ]
  }
 ],
 "metadata": {
  "language_info": {
   "name": "python"
  },
  "orig_nbformat": 4
 },
 "nbformat": 4,
 "nbformat_minor": 2
}
