{
 "cells": [
  {
   "cell_type": "markdown",
   "metadata": {},
   "source": [
    "<div >\n",
    "<img src = \"figs/ans_banner_1920x200.png\" />\n",
    "</div>"
   ]
  },
  {
   "cell_type": "markdown",
   "metadata": {},
   "source": [
    "# Caso-taller:  Recomendando Música"
   ]
  },
  {
   "cell_type": "markdown",
   "metadata": {},
   "source": [
    "El objetivo de este caso-taller es construir un sistema de recomendación de Música utilizando los datos de [Last.fm](https://www.last.fm/) provistos  abiertamente por [grouplens](https://grouplens.org/about/what-is-grouplens/) para: **\"avanzar la teoría y la práctica de la computación social mediante la construcción y la comprensión de sistemas *(de recomendación)* utilizados por personas reales\".**\n",
    "\n",
    "Los datos contienen información sobre artistas, usuarios, y las veces que estos escucharon sus canciones. Las bases se encuentran en los `Archivos de Laboratorio` en la carpeta `data`, allí también está disponible un archivo [README](data/readme.txt) que contiene más información sobre las bases.\n"
   ]
  },
  {
   "cell_type": "markdown",
   "metadata": {},
   "source": [
    "## Instrucciones generales\n",
    "\n",
    "1. Para desarrollar el *cuaderno*, primero debe descargarlo.\n",
    "\n",
    "2. Para responder cada inciso deberá utilizar el espacio debidamente especificado.\n",
    "\n",
    "3. La actividad será calificada sólo si sube el *cuaderno* de jupyter notebook con extensión `.ipynb` en la actividad designada como \"entrega calificada por el personal\".\n",
    "\n",
    "4. El archivo entregado debe poder ser ejecutado localmente por el tutor. Sea cuidadoso con la especificación de la ubicación de los archivos de soporte, guarde la carpeta de datos en el mismo `path` de su cuaderno, por ejemplo: `data`."
   ]
  },
  {
   "cell_type": "markdown",
   "metadata": {},
   "source": [
    "## Desarrollo\n"
   ]
  },
  {
   "cell_type": "markdown",
   "metadata": {},
   "source": [
    "### 1. Carga de datos \n",
    "\n",
    "En la carpeta `data` se encuentran los archivos:\n",
    "\n",
    "   - `artists.dat`  que contienen el identificador del artista (`id`), nombre (`name`), link a la página del artista en last.fm (`url`), y link a la imagen del usuario (`pictureURL`), vale aclarar que varios de estos links están rotos. \n",
    "   - `user_artists.dat`  que contiene identificador del usuario (`userID`), nombre del artista que escuchó (`artistID`), y las veces que los escuchó (`weight`).\n",
    "\n",
    "Cargue estos datos en su *cuaderno*:\n",
    "\n",
    "   1. Para la base de artistas seleccione las columnas de identificador de artista (`id`) y nombre (`name`). Renombre estas columnas para poder hacer la unión con la base `user_artists.dat`.\n",
    "   2. Para la base de usuarios y artistas, renombre las columnas de forma tal que se mantenga la consistencia para unir con la base anterior, y renombre la columna `weight` a `nro_reproducciones`.\n",
    "   3. Una estas bases.\n",
    "   "
   ]
  },
  {
   "cell_type": "code",
   "execution_count": 65,
   "id": "9b3263f1",
   "metadata": {},
   "outputs": [],
   "source": [
    "#importar librerías\n",
    "import pandas as pd\n",
    "import numpy as np\n",
    "import matplotlib.pyplot as plt"
   ]
  },
  {
   "cell_type": "code",
   "execution_count": 11,
   "id": "7d659d83",
   "metadata": {},
   "outputs": [
    {
     "data": {
      "text/html": [
       "<div>\n",
       "<style scoped>\n",
       "    .dataframe tbody tr th:only-of-type {\n",
       "        vertical-align: middle;\n",
       "    }\n",
       "\n",
       "    .dataframe tbody tr th {\n",
       "        vertical-align: top;\n",
       "    }\n",
       "\n",
       "    .dataframe thead th {\n",
       "        text-align: right;\n",
       "    }\n",
       "</style>\n",
       "<table border=\"1\" class=\"dataframe\">\n",
       "  <thead>\n",
       "    <tr style=\"text-align: right;\">\n",
       "      <th></th>\n",
       "      <th>userID</th>\n",
       "      <th>userName</th>\n",
       "    </tr>\n",
       "  </thead>\n",
       "  <tbody>\n",
       "    <tr>\n",
       "      <th>0</th>\n",
       "      <td>1</td>\n",
       "      <td>MALICE MIZER</td>\n",
       "    </tr>\n",
       "    <tr>\n",
       "      <th>1</th>\n",
       "      <td>2</td>\n",
       "      <td>Diary of Dreams</td>\n",
       "    </tr>\n",
       "    <tr>\n",
       "      <th>2</th>\n",
       "      <td>3</td>\n",
       "      <td>Carpathian Forest</td>\n",
       "    </tr>\n",
       "    <tr>\n",
       "      <th>3</th>\n",
       "      <td>4</td>\n",
       "      <td>Moi dix Mois</td>\n",
       "    </tr>\n",
       "    <tr>\n",
       "      <th>4</th>\n",
       "      <td>5</td>\n",
       "      <td>Bella Morte</td>\n",
       "    </tr>\n",
       "  </tbody>\n",
       "</table>\n",
       "</div>"
      ],
      "text/plain": [
       "   userID           userName\n",
       "0       1       MALICE MIZER\n",
       "1       2    Diary of Dreams\n",
       "2       3  Carpathian Forest\n",
       "3       4       Moi dix Mois\n",
       "4       5        Bella Morte"
      ]
     },
     "execution_count": 11,
     "metadata": {},
     "output_type": "execute_result"
    }
   ],
   "source": [
    "#importar artists\n",
    "artist = pd.read_table('data/artists.dat')\n",
    "artist = artist[['id', 'name']]\n",
    "artist.columns = ['userID', 'userName']\n",
    "artist.head()"
   ]
  },
  {
   "cell_type": "code",
   "execution_count": 12,
   "id": "802a97f5",
   "metadata": {},
   "outputs": [
    {
     "data": {
      "text/html": [
       "<div>\n",
       "<style scoped>\n",
       "    .dataframe tbody tr th:only-of-type {\n",
       "        vertical-align: middle;\n",
       "    }\n",
       "\n",
       "    .dataframe tbody tr th {\n",
       "        vertical-align: top;\n",
       "    }\n",
       "\n",
       "    .dataframe thead th {\n",
       "        text-align: right;\n",
       "    }\n",
       "</style>\n",
       "<table border=\"1\" class=\"dataframe\">\n",
       "  <thead>\n",
       "    <tr style=\"text-align: right;\">\n",
       "      <th></th>\n",
       "      <th>userID</th>\n",
       "      <th>artistID</th>\n",
       "      <th>nro_reproducciones</th>\n",
       "    </tr>\n",
       "  </thead>\n",
       "  <tbody>\n",
       "    <tr>\n",
       "      <th>0</th>\n",
       "      <td>2</td>\n",
       "      <td>51</td>\n",
       "      <td>13883</td>\n",
       "    </tr>\n",
       "    <tr>\n",
       "      <th>1</th>\n",
       "      <td>2</td>\n",
       "      <td>52</td>\n",
       "      <td>11690</td>\n",
       "    </tr>\n",
       "    <tr>\n",
       "      <th>2</th>\n",
       "      <td>2</td>\n",
       "      <td>53</td>\n",
       "      <td>11351</td>\n",
       "    </tr>\n",
       "    <tr>\n",
       "      <th>3</th>\n",
       "      <td>2</td>\n",
       "      <td>54</td>\n",
       "      <td>10300</td>\n",
       "    </tr>\n",
       "    <tr>\n",
       "      <th>4</th>\n",
       "      <td>2</td>\n",
       "      <td>55</td>\n",
       "      <td>8983</td>\n",
       "    </tr>\n",
       "  </tbody>\n",
       "</table>\n",
       "</div>"
      ],
      "text/plain": [
       "   userID  artistID  nro_reproducciones\n",
       "0       2        51               13883\n",
       "1       2        52               11690\n",
       "2       2        53               11351\n",
       "3       2        54               10300\n",
       "4       2        55                8983"
      ]
     },
     "execution_count": 12,
     "metadata": {},
     "output_type": "execute_result"
    }
   ],
   "source": [
    "#importar user_artists\n",
    "user_artist = pd.read_table('data/user_artists.dat')\n",
    "user_artist.columns = ['userID', 'artistID', 'nro_reproducciones']\n",
    "user_artist.head()"
   ]
  },
  {
   "cell_type": "code",
   "execution_count": 13,
   "id": "63649fd1",
   "metadata": {},
   "outputs": [
    {
     "data": {
      "text/html": [
       "<div>\n",
       "<style scoped>\n",
       "    .dataframe tbody tr th:only-of-type {\n",
       "        vertical-align: middle;\n",
       "    }\n",
       "\n",
       "    .dataframe tbody tr th {\n",
       "        vertical-align: top;\n",
       "    }\n",
       "\n",
       "    .dataframe thead th {\n",
       "        text-align: right;\n",
       "    }\n",
       "</style>\n",
       "<table border=\"1\" class=\"dataframe\">\n",
       "  <thead>\n",
       "    <tr style=\"text-align: right;\">\n",
       "      <th></th>\n",
       "      <th>userID</th>\n",
       "      <th>userName</th>\n",
       "      <th>artistID</th>\n",
       "      <th>nro_reproducciones</th>\n",
       "    </tr>\n",
       "  </thead>\n",
       "  <tbody>\n",
       "    <tr>\n",
       "      <th>0</th>\n",
       "      <td>2</td>\n",
       "      <td>Diary of Dreams</td>\n",
       "      <td>51</td>\n",
       "      <td>13883</td>\n",
       "    </tr>\n",
       "    <tr>\n",
       "      <th>1</th>\n",
       "      <td>2</td>\n",
       "      <td>Diary of Dreams</td>\n",
       "      <td>52</td>\n",
       "      <td>11690</td>\n",
       "    </tr>\n",
       "    <tr>\n",
       "      <th>2</th>\n",
       "      <td>2</td>\n",
       "      <td>Diary of Dreams</td>\n",
       "      <td>53</td>\n",
       "      <td>11351</td>\n",
       "    </tr>\n",
       "    <tr>\n",
       "      <th>3</th>\n",
       "      <td>2</td>\n",
       "      <td>Diary of Dreams</td>\n",
       "      <td>54</td>\n",
       "      <td>10300</td>\n",
       "    </tr>\n",
       "    <tr>\n",
       "      <th>4</th>\n",
       "      <td>2</td>\n",
       "      <td>Diary of Dreams</td>\n",
       "      <td>55</td>\n",
       "      <td>8983</td>\n",
       "    </tr>\n",
       "  </tbody>\n",
       "</table>\n",
       "</div>"
      ],
      "text/plain": [
       "   userID         userName  artistID  nro_reproducciones\n",
       "0       2  Diary of Dreams        51               13883\n",
       "1       2  Diary of Dreams        52               11690\n",
       "2       2  Diary of Dreams        53               11351\n",
       "3       2  Diary of Dreams        54               10300\n",
       "4       2  Diary of Dreams        55                8983"
      ]
     },
     "execution_count": 13,
     "metadata": {},
     "output_type": "execute_result"
    }
   ],
   "source": [
    "#unir tablas\n",
    "merged_df = pd.merge(artist, user_artist)\n",
    "merged_df.head()"
   ]
  },
  {
   "cell_type": "code",
   "execution_count": 21,
   "id": "4f2e3115",
   "metadata": {},
   "outputs": [
    {
     "data": {
      "text/plain": [
       "(92269, 4)"
      ]
     },
     "execution_count": 21,
     "metadata": {},
     "output_type": "execute_result"
    }
   ],
   "source": [
    "merged_df.shape"
   ]
  },
  {
   "cell_type": "markdown",
   "id": "3c67ab5f",
   "metadata": {},
   "source": [
    "**Procedimiento:**\n",
    "1. Importar las librerías `pandas` y `numpy`\n",
    "2. En el dataframe `artist` se lee la data de artists, seleccionando las columnas `id` y `name`.\n",
    "3. Se renombran las columnas seleccionadas de `artist` como `userID` y `userName`.\n",
    "4. En el dataframe `user_artist` se lee la data de user_artists, seleccionando las columnas `userID`, `artistID` y `weight`.\n",
    "5. Se renombra la columna `weight` como `nro_reproducciones` del dataframe `user_artist`.\n",
    "6. Se usa la función de pandas `merge` para unir los dataframes creados anteriormente para obtener así el dataframe `merged_df`.\n",
    "\n",
    "**Análisis y Conclusiones:**\n",
    "* Se consolida el dataframe `merged_df` con un total de cuatro (4) columnas y 92269 filas."
   ]
  },
  {
   "cell_type": "markdown",
   "id": "d778765a",
   "metadata": {
    "noteable": {
     "cell_type": "markdown"
    }
   },
   "source": [
    "### 2. Análisis preliminar. \n",
    "\n",
    "En esta sección exploraremos la base. Para ello responda las siguientes preguntas.\n",
    "\n",
    "#### 2.1 ¿Cuantos usuarios y artistas hay en la base?\n"
   ]
  },
  {
   "cell_type": "code",
   "execution_count": 20,
   "id": "612d64f7",
   "metadata": {},
   "outputs": [
    {
     "data": {
      "text/plain": [
       "userID       1880\n",
       "artistID    17568\n",
       "dtype: int64"
      ]
     },
     "execution_count": 20,
     "metadata": {},
     "output_type": "execute_result"
    }
   ],
   "source": [
    "merged_df[['userID', 'artistID']].nunique()"
   ]
  },
  {
   "cell_type": "markdown",
   "id": "8a08cc7d",
   "metadata": {},
   "source": [
    "**Procedimiento:**\n",
    "1. Aplicar un filtro a `merged_df` de las columnas `userID` y `artistID`.\n",
    "2. Usar `nunique` para determinar los valores únicos de las columnas seleccionadas.\n",
    "\n",
    "**Análisis y Conclusiones:**\n",
    "* Se encuentran 1880 usuarios únicos y 17568 artistas únicos."
   ]
  },
  {
   "cell_type": "markdown",
   "id": "a46bbd13",
   "metadata": {},
   "source": [
    "\n",
    "#### 2.2 ¿Cuáles es la distribución de probabilidad del consumo por artista? (haga el calculo sin ponderar y ponderando por el numero de reproducciones) ¿Qué podemos inferir a partir de la comparación de ambas?"
   ]
  },
  {
   "cell_type": "code",
   "execution_count": 58,
   "id": "ea6e2624",
   "metadata": {},
   "outputs": [
    {
     "data": {
      "text/html": [
       "<div>\n",
       "<style scoped>\n",
       "    .dataframe tbody tr th:only-of-type {\n",
       "        vertical-align: middle;\n",
       "    }\n",
       "\n",
       "    .dataframe tbody tr th {\n",
       "        vertical-align: top;\n",
       "    }\n",
       "\n",
       "    .dataframe thead th {\n",
       "        text-align: right;\n",
       "    }\n",
       "</style>\n",
       "<table border=\"1\" class=\"dataframe\">\n",
       "  <thead>\n",
       "    <tr style=\"text-align: right;\">\n",
       "      <th></th>\n",
       "      <th>artistID</th>\n",
       "      <th>sum</th>\n",
       "      <th>mean</th>\n",
       "      <th>count</th>\n",
       "      <th>Prob_sin_ponderar</th>\n",
       "    </tr>\n",
       "  </thead>\n",
       "  <tbody>\n",
       "    <tr>\n",
       "      <th>283</th>\n",
       "      <td>289</td>\n",
       "      <td>2392326</td>\n",
       "      <td>4609.491329</td>\n",
       "      <td>519</td>\n",
       "      <td>0.034826</td>\n",
       "    </tr>\n",
       "    <tr>\n",
       "      <th>66</th>\n",
       "      <td>72</td>\n",
       "      <td>1301193</td>\n",
       "      <td>4630.580071</td>\n",
       "      <td>281</td>\n",
       "      <td>0.018942</td>\n",
       "    </tr>\n",
       "    <tr>\n",
       "      <th>83</th>\n",
       "      <td>89</td>\n",
       "      <td>1288851</td>\n",
       "      <td>2126.816832</td>\n",
       "      <td>606</td>\n",
       "      <td>0.018762</td>\n",
       "    </tr>\n",
       "    <tr>\n",
       "      <th>286</th>\n",
       "      <td>292</td>\n",
       "      <td>1057943</td>\n",
       "      <td>2612.204938</td>\n",
       "      <td>405</td>\n",
       "      <td>0.015401</td>\n",
       "    </tr>\n",
       "    <tr>\n",
       "      <th>61</th>\n",
       "      <td>67</td>\n",
       "      <td>918568</td>\n",
       "      <td>2151.213115</td>\n",
       "      <td>427</td>\n",
       "      <td>0.013372</td>\n",
       "    </tr>\n",
       "  </tbody>\n",
       "</table>\n",
       "</div>"
      ],
      "text/plain": [
       "     artistID      sum         mean  count  Prob_sin_ponderar\n",
       "283       289  2392326  4609.491329    519           0.034826\n",
       "66         72  1301193  4630.580071    281           0.018942\n",
       "83         89  1288851  2126.816832    606           0.018762\n",
       "286       292  1057943  2612.204938    405           0.015401\n",
       "61         67   918568  2151.213115    427           0.013372"
      ]
     },
     "execution_count": 58,
     "metadata": {},
     "output_type": "execute_result"
    }
   ],
   "source": [
    "# Cálculo sin ponderar\n",
    "resumen_artistas = merged_df.groupby('artistID')['nro_reproducciones'].agg(['sum', 'mean', 'count']).reset_index()\n",
    "resumen_artistas['Prob_sin_ponderar'] = resumen_artistas['sum'] / resumen_artistas['sum'].sum()\n",
    "resumen_artistas = resumen_artistas.sort_values(by='Prob_sin_ponderar', ascending=False)\n",
    "resumen_artistas.head()"
   ]
  },
  {
   "cell_type": "code",
   "execution_count": 64,
   "id": "1e85a6d4",
   "metadata": {},
   "outputs": [
    {
     "data": {
      "text/html": [
       "<div>\n",
       "<style scoped>\n",
       "    .dataframe tbody tr th:only-of-type {\n",
       "        vertical-align: middle;\n",
       "    }\n",
       "\n",
       "    .dataframe tbody tr th {\n",
       "        vertical-align: top;\n",
       "    }\n",
       "\n",
       "    .dataframe thead th {\n",
       "        text-align: right;\n",
       "    }\n",
       "</style>\n",
       "<table border=\"1\" class=\"dataframe\">\n",
       "  <thead>\n",
       "    <tr style=\"text-align: right;\">\n",
       "      <th></th>\n",
       "      <th>artistID</th>\n",
       "      <th>sum</th>\n",
       "      <th>mean</th>\n",
       "      <th>count</th>\n",
       "      <th>Prob_sin_ponderar</th>\n",
       "      <th>Prob_ponderado</th>\n",
       "      <th>Prob_count</th>\n",
       "      <th>Ponderado</th>\n",
       "    </tr>\n",
       "  </thead>\n",
       "  <tbody>\n",
       "    <tr>\n",
       "      <th>283</th>\n",
       "      <td>289</td>\n",
       "      <td>2392326</td>\n",
       "      <td>4609.491329</td>\n",
       "      <td>519</td>\n",
       "      <td>0.034826</td>\n",
       "      <td>0.121028</td>\n",
       "      <td>0.005625</td>\n",
       "      <td>13456.493449</td>\n",
       "    </tr>\n",
       "    <tr>\n",
       "      <th>83</th>\n",
       "      <td>89</td>\n",
       "      <td>1288851</td>\n",
       "      <td>2126.816832</td>\n",
       "      <td>606</td>\n",
       "      <td>0.018762</td>\n",
       "      <td>0.076133</td>\n",
       "      <td>0.006568</td>\n",
       "      <td>8464.855000</td>\n",
       "    </tr>\n",
       "    <tr>\n",
       "      <th>282</th>\n",
       "      <td>288</td>\n",
       "      <td>902032</td>\n",
       "      <td>1879.233333</td>\n",
       "      <td>480</td>\n",
       "      <td>0.013131</td>\n",
       "      <td>0.042205</td>\n",
       "      <td>0.005202</td>\n",
       "      <td>4692.533354</td>\n",
       "    </tr>\n",
       "    <tr>\n",
       "      <th>286</th>\n",
       "      <td>292</td>\n",
       "      <td>1057943</td>\n",
       "      <td>2612.204938</td>\n",
       "      <td>405</td>\n",
       "      <td>0.015401</td>\n",
       "      <td>0.041765</td>\n",
       "      <td>0.004389</td>\n",
       "      <td>4643.671385</td>\n",
       "    </tr>\n",
       "    <tr>\n",
       "      <th>61</th>\n",
       "      <td>67</td>\n",
       "      <td>918568</td>\n",
       "      <td>2151.213115</td>\n",
       "      <td>427</td>\n",
       "      <td>0.013372</td>\n",
       "      <td>0.038233</td>\n",
       "      <td>0.004628</td>\n",
       "      <td>4250.924319</td>\n",
       "    </tr>\n",
       "  </tbody>\n",
       "</table>\n",
       "</div>"
      ],
      "text/plain": [
       "     artistID      sum         mean  count  Prob_sin_ponderar  Prob_ponderado  \\\n",
       "283       289  2392326  4609.491329    519           0.034826        0.121028   \n",
       "83         89  1288851  2126.816832    606           0.018762        0.076133   \n",
       "282       288   902032  1879.233333    480           0.013131        0.042205   \n",
       "286       292  1057943  2612.204938    405           0.015401        0.041765   \n",
       "61         67   918568  2151.213115    427           0.013372        0.038233   \n",
       "\n",
       "     Prob_count     Ponderado  \n",
       "283    0.005625  13456.493449  \n",
       "83     0.006568   8464.855000  \n",
       "282    0.005202   4692.533354  \n",
       "286    0.004389   4643.671385  \n",
       "61     0.004628   4250.924319  "
      ]
     },
     "execution_count": 64,
     "metadata": {},
     "output_type": "execute_result"
    }
   ],
   "source": [
    "# Cálculo ponderado\n",
    "resumen_artistas['Prob_count'] = resumen_artistas['count'] / resumen_artistas['count'].sum()\n",
    "resumen_artistas['Ponderado'] = resumen_artistas['sum'] * resumen_artistas['Prob_count']\n",
    "resumen_artistas['Prob_ponderado'] = resumen_artistas['Ponderado'] / resumen_artistas['Ponderado'].sum()\n",
    "resumen_artistas = resumen_artistas.sort_values(by='Prob_ponderado', ascending=False)\n",
    "resumen_artistas.head()"
   ]
  },
  {
   "cell_type": "markdown",
   "id": "297acbd9",
   "metadata": {},
   "source": [
    "**Procedimiento:**\n",
    "1. Usar un `groupby` para agrupar `nro_reproducciones` por la suma, media y recuento.\n",
    "2. Calcular el promedio de la suma de reproducciones por artista, y su respectivo porcentaje de participación.\n",
    "3. Ordenar esa participación de mayor a menor.\n",
    "4. Calcular el peso del recuento de usuarios que escuchan cada artista sobre la suma del recuento.\n",
    "5. Calcular el ponderado, el cual es la suma de reproducciones multiplicado por el peso calculado en el paso anterior, por cada artista.\n",
    "6. Sobre el ponderado, obtener la participación y ordenar de mayor a menor.\n",
    "\n",
    "**Análisis y Conclusiones:**\n",
    "* Para el análisis de promedio sin ponderar y promedio ponderado se puede observar que un artista como el 289 se ubica en el primer lugar para ambos escenarios. Artistas como los 89, 292 y 67 se mantienen en los primeros puestos para ambos escenarios, pero un artista como el 72, aunque cuenta con 1.3 millones de reproducciones, no se muestra en el segundo escenario (promedio ponderado) dado que el peso del número de usuarios que lo escuchan implica que su ponderado sea castigado y no se muestre entre los cinco (5) primeros."
   ]
  },
  {
   "cell_type": "markdown",
   "id": "ff660c35",
   "metadata": {
    "noteable": {
     "cell_type": "markdown"
    }
   },
   "source": [
    "#### 2.3 Para el usuario 8 (`userID==8`) ¿cuál es la distribución de reproducción de artistas basado en el número de reproducciones relativas?. Presente sus resultados usando tablas y/o gráficas. ¿Encuentra algún patrón en los artistas que escucha y las veces que reproduce? ¿Podemos decir algo de sus preferencias?\n"
   ]
  },
  {
   "cell_type": "code",
   "execution_count": 77,
   "id": "eeb58d7d",
   "metadata": {},
   "outputs": [
    {
     "name": "stderr",
     "output_type": "stream",
     "text": [
      "C:\\Users\\JD_01\\AppData\\Local\\Temp\\ipykernel_17068\\2495445787.py:3: SettingWithCopyWarning: \n",
      "A value is trying to be set on a copy of a slice from a DataFrame.\n",
      "Try using .loc[row_indexer,col_indexer] = value instead\n",
      "\n",
      "See the caveats in the documentation: https://pandas.pydata.org/pandas-docs/stable/user_guide/indexing.html#returning-a-view-versus-a-copy\n",
      "  usuario_8['Reproducciones_relativas'] = usuario_8['nro_reproducciones'] / usuario_8['nro_reproducciones'].sum()\n"
     ]
    },
    {
     "data": {
      "image/png": "[encoded data removed]",
      "text/plain": [
       "<Figure size 1200x600 with 1 Axes>"
      ]
     },
     "metadata": {},
     "output_type": "display_data"
    }
   ],
   "source": [
    "usuario_8 = merged_df[merged_df['userID'] == 8]\n",
    "\n",
    "usuario_8['Reproducciones_relativas'] = usuario_8['nro_reproducciones'] / usuario_8['nro_reproducciones'].sum()\n",
    "\n",
    "plt.figure(figsize=(12, 6))\n",
    "plt.bar(usuario_8['artistID'], usuario_8['Reproducciones_relativas'])\n",
    "plt.xlabel('ID del Artista')\n",
    "plt.ylabel('Reproducciones Relativas')\n",
    "plt.title('Distribución de Reproducciones Relativas para el Usuario 8')\n",
    "plt.xticks(rotation=90)\n",
    "plt.show()"
   ]
  },
  {
   "cell_type": "code",
   "execution_count": 79,
   "id": "a14a66dd",
   "metadata": {},
   "outputs": [
    {
     "data": {
      "text/html": [
       "<div>\n",
       "<style scoped>\n",
       "    .dataframe tbody tr th:only-of-type {\n",
       "        vertical-align: middle;\n",
       "    }\n",
       "\n",
       "    .dataframe tbody tr th {\n",
       "        vertical-align: top;\n",
       "    }\n",
       "\n",
       "    .dataframe thead th {\n",
       "        text-align: right;\n",
       "    }\n",
       "</style>\n",
       "<table border=\"1\" class=\"dataframe\">\n",
       "  <thead>\n",
       "    <tr style=\"text-align: right;\">\n",
       "      <th></th>\n",
       "      <th>userID</th>\n",
       "      <th>userName</th>\n",
       "      <th>artistID</th>\n",
       "      <th>nro_reproducciones</th>\n",
       "      <th>Reproducciones_relativas</th>\n",
       "    </tr>\n",
       "  </thead>\n",
       "  <tbody>\n",
       "    <tr>\n",
       "      <th>317</th>\n",
       "      <td>8</td>\n",
       "      <td>DIR EN GREY</td>\n",
       "      <td>334</td>\n",
       "      <td>6291</td>\n",
       "      <td>0.173406</td>\n",
       "    </tr>\n",
       "    <tr>\n",
       "      <th>318</th>\n",
       "      <td>8</td>\n",
       "      <td>DIR EN GREY</td>\n",
       "      <td>335</td>\n",
       "      <td>2396</td>\n",
       "      <td>0.066044</td>\n",
       "    </tr>\n",
       "    <tr>\n",
       "      <th>307</th>\n",
       "      <td>8</td>\n",
       "      <td>DIR EN GREY</td>\n",
       "      <td>289</td>\n",
       "      <td>2258</td>\n",
       "      <td>0.062240</td>\n",
       "    </tr>\n",
       "    <tr>\n",
       "      <th>319</th>\n",
       "      <td>8</td>\n",
       "      <td>DIR EN GREY</td>\n",
       "      <td>336</td>\n",
       "      <td>1735</td>\n",
       "      <td>0.047824</td>\n",
       "    </tr>\n",
       "    <tr>\n",
       "      <th>310</th>\n",
       "      <td>8</td>\n",
       "      <td>DIR EN GREY</td>\n",
       "      <td>295</td>\n",
       "      <td>1425</td>\n",
       "      <td>0.039279</td>\n",
       "    </tr>\n",
       "    <tr>\n",
       "      <th>320</th>\n",
       "      <td>8</td>\n",
       "      <td>DIR EN GREY</td>\n",
       "      <td>337</td>\n",
       "      <td>1407</td>\n",
       "      <td>0.038783</td>\n",
       "    </tr>\n",
       "    <tr>\n",
       "      <th>311</th>\n",
       "      <td>8</td>\n",
       "      <td>DIR EN GREY</td>\n",
       "      <td>296</td>\n",
       "      <td>1039</td>\n",
       "      <td>0.028639</td>\n",
       "    </tr>\n",
       "    <tr>\n",
       "      <th>321</th>\n",
       "      <td>8</td>\n",
       "      <td>DIR EN GREY</td>\n",
       "      <td>338</td>\n",
       "      <td>963</td>\n",
       "      <td>0.026544</td>\n",
       "    </tr>\n",
       "    <tr>\n",
       "      <th>301</th>\n",
       "      <td>8</td>\n",
       "      <td>DIR EN GREY</td>\n",
       "      <td>89</td>\n",
       "      <td>921</td>\n",
       "      <td>0.025387</td>\n",
       "    </tr>\n",
       "    <tr>\n",
       "      <th>322</th>\n",
       "      <td>8</td>\n",
       "      <td>DIR EN GREY</td>\n",
       "      <td>339</td>\n",
       "      <td>819</td>\n",
       "      <td>0.022575</td>\n",
       "    </tr>\n",
       "    <tr>\n",
       "      <th>323</th>\n",
       "      <td>8</td>\n",
       "      <td>DIR EN GREY</td>\n",
       "      <td>340</td>\n",
       "      <td>800</td>\n",
       "      <td>0.022051</td>\n",
       "    </tr>\n",
       "  </tbody>\n",
       "</table>\n",
       "</div>"
      ],
      "text/plain": [
       "     userID     userName  artistID  nro_reproducciones  \\\n",
       "317       8  DIR EN GREY       334                6291   \n",
       "318       8  DIR EN GREY       335                2396   \n",
       "307       8  DIR EN GREY       289                2258   \n",
       "319       8  DIR EN GREY       336                1735   \n",
       "310       8  DIR EN GREY       295                1425   \n",
       "320       8  DIR EN GREY       337                1407   \n",
       "311       8  DIR EN GREY       296                1039   \n",
       "321       8  DIR EN GREY       338                 963   \n",
       "301       8  DIR EN GREY        89                 921   \n",
       "322       8  DIR EN GREY       339                 819   \n",
       "323       8  DIR EN GREY       340                 800   \n",
       "\n",
       "     Reproducciones_relativas  \n",
       "317                  0.173406  \n",
       "318                  0.066044  \n",
       "307                  0.062240  \n",
       "319                  0.047824  \n",
       "310                  0.039279  \n",
       "320                  0.038783  \n",
       "311                  0.028639  \n",
       "321                  0.026544  \n",
       "301                  0.025387  \n",
       "322                  0.022575  \n",
       "323                  0.022051  "
      ]
     },
     "execution_count": 79,
     "metadata": {},
     "output_type": "execute_result"
    }
   ],
   "source": [
    "usuario_8 = usuario_8.sort_values(by='Reproducciones_relativas', ascending=False)\n",
    "usuario_8.head(11)"
   ]
  },
  {
   "cell_type": "markdown",
   "id": "092e4c9e",
   "metadata": {},
   "source": [
    "**Procedimiento:**\n",
    "1. Crear un dataframe para filtrar las reproducciones del usuario 8.\n",
    "2. Crear la columna `Reproducciones_relativas` la cual se calcula como las reproducciones por artista dividido el total de reproducciones del usuario 8.\n",
    "3. Graficar las reproducciones relativas con matplotlib.\n",
    "4. Ordenar el dataframe del usuario 8 por Reproducciones relativas y obtener el top 11.\n",
    "\n",
    "**Análisis y Conclusiones:**\n",
    "* De acuerdo a la gráfica se puede observar que hay un grupo condensado entre los artistas 334 hasta 340 con niveles de reproducción altos. Entre el top 10 también se encuentran los artistas 289, 295 y 296."
   ]
  },
  {
   "cell_type": "markdown",
   "metadata": {
    "noteable": {
     "cell_type": "markdown"
    }
   },
   "source": [
    "### 3. Generando Recomendaciones\n",
    "\n",
    "En esta sección nos interesa generar recomendaciones ***nuevas y relevantes*** para el usuario 8 (`userID==8`). Para ello vamos a generar distintos sistemas de recomendación y comparar las recomendaciones generadas."
   ]
  },
  {
   "cell_type": "markdown",
   "metadata": {
    "noteable": {
     "cell_type": "markdown"
    }
   },
   "source": [
    "#### 3.1. Filtrado colaborativo sencillo: promedios simples.\n",
    "\n",
    "Usando el promedio simple basado en el número de usuarios que escucha un artista (sin considerar el número de veces que estos usuarios reproducen al artista) genere una tabla y/o gráfica con 10 recomendaciones de artistas para este usuario. Explique con cuidado su procedimiento y justifique sus elecciones."
   ]
  },
  {
   "cell_type": "code",
   "execution_count": null,
   "metadata": {},
   "outputs": [],
   "source": [
    "# Utilice este espacio para escribir el código."
   ]
  },
  {
   "cell_type": "markdown",
   "metadata": {},
   "source": [
    "**Procedimiento:**\n",
    "\n",
    "**Análisis y Conclusiones:**"
   ]
  },
  {
   "cell_type": "markdown",
   "metadata": {},
   "source": [
    "#### 3.2.  Filtrado colaborativo sencillo: promedios ponderados.\n",
    "\n",
    "Usando el promedio ponderado basado en el número de usuarios que escucha un artista  y ponderando  por el número de veces que estos usuarios reproducen al artista (`nro_reproducciones`) genere una tabla y/o gráfica con 10 recomendaciones de artistas para este usuario. Explique con cuidado su procedimiento y justifique sus elecciones. Compare las recomendaciones con el sistema implementado en el paso anterior.\n"
   ]
  },
  {
   "cell_type": "code",
   "execution_count": null,
   "metadata": {},
   "outputs": [],
   "source": [
    "# Utilice este espacio para escribir el código."
   ]
  },
  {
   "cell_type": "markdown",
   "metadata": {},
   "source": [
    "**Procedimiento:**\n",
    "\n",
    "**Análisis y Conclusiones:**"
   ]
  },
  {
   "cell_type": "markdown",
   "metadata": {
    "noteable": {
     "cell_type": "markdown"
    }
   },
   "source": [
    "#### 3.3.  Filtrado colaborativo sencillo: similitud de coseno.\n",
    "\n",
    "Usando el promedio ponderado de reproducciones genere una tabla y/o gráfica  con 10 recomendaciones de artistas para este usuario. Para generar los pesos utilice la distancia de coseno. Explique con cuidado su procedimiento y justifique sus elecciones. Compare las recomendaciones con el sistema implementado en el paso anterior."
   ]
  },
  {
   "cell_type": "code",
   "execution_count": null,
   "metadata": {},
   "outputs": [],
   "source": [
    "# Utilice este espacio para escribir el código."
   ]
  },
  {
   "cell_type": "markdown",
   "metadata": {},
   "source": [
    "**Procedimiento:**\n",
    "\n",
    "**Análisis y Conclusiones:**"
   ]
  },
  {
   "cell_type": "markdown",
   "metadata": {
    "noteable": {
     "cell_type": "markdown"
    }
   },
   "source": [
    "#### 3.4.  Filtrado colaborativo usando SVD\n",
    "\n",
    "\n",
    "Usando la descomposición en valores singulares (SVD) genere una tabla y/o gráfica  con 10 recomendaciones de artistas para este usuario.  Explique con cuidado su procedimiento y justifique sus elecciones. Compare las recomendaciones con el sistema implementado en los pasos anteriores.\n"
   ]
  },
  {
   "cell_type": "code",
   "execution_count": null,
   "metadata": {},
   "outputs": [],
   "source": [
    "# Utilice este espacio para escribir el código."
   ]
  },
  {
   "cell_type": "markdown",
   "metadata": {
    "ExecuteTime": {
     "end_time": "2023-07-20T13:08:53.953788+00:00",
     "start_time": "2023-07-20T13:08:00.765701+00:00"
    },
    "noteable": {
     "cell_type": "code",
     "output_collection_id": "7748407e-0324-4bc3-a209-c6a2068ebdf2"
    }
   },
   "source": [
    "**Procedimiento:**\n",
    "\n",
    "**Análisis y Conclusiones:**"
   ]
  },
  {
   "cell_type": "markdown",
   "metadata": {
    "noteable": {
     "cell_type": "markdown"
    }
   },
   "source": [
    "#### 3.5.  Filtrado colaborativo usando Análisis de Canasta de Compra\n",
    "\n",
    "Usando  el algoritmo `Apriori` genere una tabla y/o gráfica  con 10 recomendaciones de artistas para este usuario.  Explique con cuidado su procedimiento y justifique sus elecciones. Compare las recomendaciones con el sistema implementado en los pasos anteriores. Esto puede tomar mucho tiempo, sea cuidadoso al elegir los hiper-parámetors del modelo, utilice los resultados de las estadísticas descriptivas para elegir sus hier-parámetros, y genere solo reglas con 2 elementos. (Puede también aprovechar los recursos de [Google Colab](https://colab.research.google.com/))\n"
   ]
  },
  {
   "cell_type": "code",
   "execution_count": null,
   "metadata": {},
   "outputs": [],
   "source": [
    "# Utilice este espacio para escribir el código."
   ]
  },
  {
   "cell_type": "markdown",
   "metadata": {
    "ExecuteTime": null,
    "noteable": {
     "cell_type": "code",
     "output_collection_id": "c81565ab-5de5-49a9-819f-ca3f6f442a3c"
    }
   },
   "source": [
    "**Procedimiento:**\n",
    "\n",
    "**Análisis y Conclusiones:**"
   ]
  },
  {
   "cell_type": "markdown",
   "metadata": {},
   "source": [
    "### 4. Recomendaciones generales \n",
    "\n",
    "De acuerdo con los resultados encontrados, en su opinión ¿qué procedimiento generó las mejores recomendaciones para este usuario? ¿Cómo implementaría una evaluación objetiva de estas recomendaciones? Justifique su respuesta."
   ]
  },
  {
   "cell_type": "markdown",
   "metadata": {},
   "source": [
    "**Procedimiento:**\n",
    "\n",
    "**Análisis y Conclusiones:**"
   ]
  }
 ],
 "metadata": {
  "kernelspec": {
   "display_name": "Python 3",
   "language": "python",
   "name": "python3"
  },
  "language_info": {
   "codemirror_mode": {
    "name": "ipython",
    "version": 3
   },
   "file_extension": ".py",
   "mimetype": "text/x-python",
   "name": "python",
   "nbconvert_exporter": "python",
   "pygments_lexer": "ipython3",
   "version": "3.11.2"
  },
  "noteable": {
   "last_transaction_id": "6d8b1923-2053-48b7-b0ac-3ca8bd83674a"
  },
  "selected_hardware_size": "small",
  "toc": {
   "base_numbering": 1,
   "nav_menu": {},
   "number_sections": true,
   "sideBar": true,
   "skip_h1_title": false,
   "title_cell": "Table of Contents",
   "title_sidebar": "Contents",
   "toc_cell": false,
   "toc_position": {},
   "toc_section_display": true,
   "toc_window_display": true
  }
 },
 "nbformat": 4,
 "nbformat_minor": 5
}
