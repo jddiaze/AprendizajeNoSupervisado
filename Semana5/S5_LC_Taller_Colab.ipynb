{
 "cells": [
  {
   "cell_type": "markdown",
   "metadata": {},
   "source": [
    "<div >\n",
    "<img src = \"figs/ans_banner_1920x200.png\" />\n",
    "</div>"
   ]
  },
  {
   "cell_type": "markdown",
   "metadata": {},
   "source": [
    "# Caso-taller:  Recomendando Música"
   ]
  },
  {
   "cell_type": "markdown",
   "metadata": {},
   "source": [
    "El objetivo de este caso-taller es construir un sistema de recomendación de Música utilizando los datos de [Last.fm](https://www.last.fm/) provistos  abiertamente por [grouplens](https://grouplens.org/about/what-is-grouplens/) para: **\"avanzar la teoría y la práctica de la computación social mediante la construcción y la comprensión de sistemas *(de recomendación)* utilizados por personas reales\".**\n",
    "\n",
    "Los datos contienen información sobre artistas, usuarios, y las veces que estos escucharon sus canciones. Las bases se encuentran en los `Archivos de Laboratorio` en la carpeta `data`, allí también está disponible un archivo [README](data/readme.txt) que contiene más información sobre las bases.\n"
   ]
  },
  {
   "cell_type": "markdown",
   "metadata": {},
   "source": [
    "## Instrucciones generales\n",
    "\n",
    "1. Para desarrollar el *cuaderno*, primero debe descargarlo.\n",
    "\n",
    "2. Para responder cada inciso deberá utilizar el espacio debidamente especificado.\n",
    "\n",
    "3. La actividad será calificada sólo si sube el *cuaderno* de jupyter notebook con extensión `.ipynb` en la actividad designada como \"entrega calificada por el personal\".\n",
    "\n",
    "4. El archivo entregado debe poder ser ejecutado localmente por el tutor. Sea cuidadoso con la especificación de la ubicación de los archivos de soporte, guarde la carpeta de datos en el mismo `path` de su cuaderno, por ejemplo: `data`."
   ]
  },
  {
   "cell_type": "markdown",
   "metadata": {},
   "source": [
    "## Desarrollo\n"
   ]
  },
  {
   "cell_type": "markdown",
   "metadata": {},
   "source": [
    "### 1. Carga de datos \n",
    "\n",
    "En la carpeta `data` se encuentran los archivos:\n",
    "\n",
    "   - `artists.dat`  que contienen el identificador del artista (`id`), nombre (`name`), link a la página del artista en last.fm (`url`), y link a la imagen del usuario (`pictureURL`), vale aclarar que varios de estos links están rotos. \n",
    "   - `user_artists.dat`  que contiene identificador del usuario (`userID`), nombre del artista que escuchó (`artistID`), y las veces que los escuchó (`weight`).\n",
    "\n",
    "Cargue estos datos en su *cuaderno*:\n",
    "\n",
    "   1. Para la base de artistas seleccione las columnas de identificador de artista (`id`) y nombre (`name`). Renombre estas columnas para poder hacer la unión con la base `user_artists.dat`.\n",
    "   2. Para la base de usuarios y artistas, renombre las columnas de forma tal que se mantenga la consistencia para unir con la base anterior, y renombre la columna `weight` a `nro_reproducciones`.\n",
    "   3. Una estas bases.\n",
    "   "
   ]
  },
  {
   "cell_type": "code",
   "execution_count": 1,
   "id": "9b3263f1",
   "metadata": {},
   "outputs": [],
   "source": [
    "#importar librerías\n",
    "import pandas as pd\n",
    "import numpy as np\n",
    "import matplotlib.pyplot as plt"
   ]
  },
  {
   "cell_type": "code",
   "execution_count": 2,
   "id": "7d659d83",
   "metadata": {},
   "outputs": [
    {
     "data": {
      "text/html": [
       "<div>\n",
       "<style scoped>\n",
       "    .dataframe tbody tr th:only-of-type {\n",
       "        vertical-align: middle;\n",
       "    }\n",
       "\n",
       "    .dataframe tbody tr th {\n",
       "        vertical-align: top;\n",
       "    }\n",
       "\n",
       "    .dataframe thead th {\n",
       "        text-align: right;\n",
       "    }\n",
       "</style>\n",
       "<table border=\"1\" class=\"dataframe\">\n",
       "  <thead>\n",
       "    <tr style=\"text-align: right;\">\n",
       "      <th></th>\n",
       "      <th>userID</th>\n",
       "      <th>userName</th>\n",
       "    </tr>\n",
       "  </thead>\n",
       "  <tbody>\n",
       "    <tr>\n",
       "      <th>0</th>\n",
       "      <td>1</td>\n",
       "      <td>MALICE MIZER</td>\n",
       "    </tr>\n",
       "    <tr>\n",
       "      <th>1</th>\n",
       "      <td>2</td>\n",
       "      <td>Diary of Dreams</td>\n",
       "    </tr>\n",
       "    <tr>\n",
       "      <th>2</th>\n",
       "      <td>3</td>\n",
       "      <td>Carpathian Forest</td>\n",
       "    </tr>\n",
       "    <tr>\n",
       "      <th>3</th>\n",
       "      <td>4</td>\n",
       "      <td>Moi dix Mois</td>\n",
       "    </tr>\n",
       "    <tr>\n",
       "      <th>4</th>\n",
       "      <td>5</td>\n",
       "      <td>Bella Morte</td>\n",
       "    </tr>\n",
       "  </tbody>\n",
       "</table>\n",
       "</div>"
      ],
      "text/plain": [
       "   userID           userName\n",
       "0       1       MALICE MIZER\n",
       "1       2    Diary of Dreams\n",
       "2       3  Carpathian Forest\n",
       "3       4       Moi dix Mois\n",
       "4       5        Bella Morte"
      ]
     },
     "execution_count": 2,
     "metadata": {},
     "output_type": "execute_result"
    }
   ],
   "source": [
    "#importar artists\n",
    "artist = pd.read_table('data/artists.dat')\n",
    "artist = artist[['id', 'name']]\n",
    "artist.columns = ['userID', 'userName']\n",
    "artist.head()"
   ]
  },
  {
   "cell_type": "code",
   "execution_count": 3,
   "id": "802a97f5",
   "metadata": {},
   "outputs": [
    {
     "data": {
      "text/html": [
       "<div>\n",
       "<style scoped>\n",
       "    .dataframe tbody tr th:only-of-type {\n",
       "        vertical-align: middle;\n",
       "    }\n",
       "\n",
       "    .dataframe tbody tr th {\n",
       "        vertical-align: top;\n",
       "    }\n",
       "\n",
       "    .dataframe thead th {\n",
       "        text-align: right;\n",
       "    }\n",
       "</style>\n",
       "<table border=\"1\" class=\"dataframe\">\n",
       "  <thead>\n",
       "    <tr style=\"text-align: right;\">\n",
       "      <th></th>\n",
       "      <th>userID</th>\n",
       "      <th>artistID</th>\n",
       "      <th>nro_reproducciones</th>\n",
       "    </tr>\n",
       "  </thead>\n",
       "  <tbody>\n",
       "    <tr>\n",
       "      <th>0</th>\n",
       "      <td>2</td>\n",
       "      <td>51</td>\n",
       "      <td>13883</td>\n",
       "    </tr>\n",
       "    <tr>\n",
       "      <th>1</th>\n",
       "      <td>2</td>\n",
       "      <td>52</td>\n",
       "      <td>11690</td>\n",
       "    </tr>\n",
       "    <tr>\n",
       "      <th>2</th>\n",
       "      <td>2</td>\n",
       "      <td>53</td>\n",
       "      <td>11351</td>\n",
       "    </tr>\n",
       "    <tr>\n",
       "      <th>3</th>\n",
       "      <td>2</td>\n",
       "      <td>54</td>\n",
       "      <td>10300</td>\n",
       "    </tr>\n",
       "    <tr>\n",
       "      <th>4</th>\n",
       "      <td>2</td>\n",
       "      <td>55</td>\n",
       "      <td>8983</td>\n",
       "    </tr>\n",
       "  </tbody>\n",
       "</table>\n",
       "</div>"
      ],
      "text/plain": [
       "   userID  artistID  nro_reproducciones\n",
       "0       2        51               13883\n",
       "1       2        52               11690\n",
       "2       2        53               11351\n",
       "3       2        54               10300\n",
       "4       2        55                8983"
      ]
     },
     "execution_count": 3,
     "metadata": {},
     "output_type": "execute_result"
    }
   ],
   "source": [
    "#importar user_artists\n",
    "user_artist = pd.read_table('data/user_artists.dat')\n",
    "user_artist.columns = ['userID', 'artistID', 'nro_reproducciones']\n",
    "user_artist.head()"
   ]
  },
  {
   "cell_type": "code",
   "execution_count": 4,
   "id": "63649fd1",
   "metadata": {},
   "outputs": [
    {
     "data": {
      "text/html": [
       "<div>\n",
       "<style scoped>\n",
       "    .dataframe tbody tr th:only-of-type {\n",
       "        vertical-align: middle;\n",
       "    }\n",
       "\n",
       "    .dataframe tbody tr th {\n",
       "        vertical-align: top;\n",
       "    }\n",
       "\n",
       "    .dataframe thead th {\n",
       "        text-align: right;\n",
       "    }\n",
       "</style>\n",
       "<table border=\"1\" class=\"dataframe\">\n",
       "  <thead>\n",
       "    <tr style=\"text-align: right;\">\n",
       "      <th></th>\n",
       "      <th>userID</th>\n",
       "      <th>userName</th>\n",
       "      <th>artistID</th>\n",
       "      <th>nro_reproducciones</th>\n",
       "    </tr>\n",
       "  </thead>\n",
       "  <tbody>\n",
       "    <tr>\n",
       "      <th>0</th>\n",
       "      <td>2</td>\n",
       "      <td>Diary of Dreams</td>\n",
       "      <td>51</td>\n",
       "      <td>13883</td>\n",
       "    </tr>\n",
       "    <tr>\n",
       "      <th>1</th>\n",
       "      <td>2</td>\n",
       "      <td>Diary of Dreams</td>\n",
       "      <td>52</td>\n",
       "      <td>11690</td>\n",
       "    </tr>\n",
       "    <tr>\n",
       "      <th>2</th>\n",
       "      <td>2</td>\n",
       "      <td>Diary of Dreams</td>\n",
       "      <td>53</td>\n",
       "      <td>11351</td>\n",
       "    </tr>\n",
       "    <tr>\n",
       "      <th>3</th>\n",
       "      <td>2</td>\n",
       "      <td>Diary of Dreams</td>\n",
       "      <td>54</td>\n",
       "      <td>10300</td>\n",
       "    </tr>\n",
       "    <tr>\n",
       "      <th>4</th>\n",
       "      <td>2</td>\n",
       "      <td>Diary of Dreams</td>\n",
       "      <td>55</td>\n",
       "      <td>8983</td>\n",
       "    </tr>\n",
       "  </tbody>\n",
       "</table>\n",
       "</div>"
      ],
      "text/plain": [
       "   userID         userName  artistID  nro_reproducciones\n",
       "0       2  Diary of Dreams        51               13883\n",
       "1       2  Diary of Dreams        52               11690\n",
       "2       2  Diary of Dreams        53               11351\n",
       "3       2  Diary of Dreams        54               10300\n",
       "4       2  Diary of Dreams        55                8983"
      ]
     },
     "execution_count": 4,
     "metadata": {},
     "output_type": "execute_result"
    }
   ],
   "source": [
    "#unir tablas\n",
    "merged_df = pd.merge(artist, user_artist)\n",
    "merged_df.head()"
   ]
  },
  {
   "cell_type": "code",
   "execution_count": 5,
   "id": "4f2e3115",
   "metadata": {},
   "outputs": [
    {
     "data": {
      "text/plain": [
       "(92269, 4)"
      ]
     },
     "execution_count": 5,
     "metadata": {},
     "output_type": "execute_result"
    }
   ],
   "source": [
    "merged_df.shape"
   ]
  },
  {
   "cell_type": "markdown",
   "id": "3c67ab5f",
   "metadata": {},
   "source": [
    "**Procedimiento:**\n",
    "1. Importar las librerías `pandas` y `numpy`\n",
    "2. En el dataframe `artist` se lee la data de artists, seleccionando las columnas `id` y `name`.\n",
    "3. Se renombran las columnas seleccionadas de `artist` como `userID` y `userName`.\n",
    "4. En el dataframe `user_artist` se lee la data de user_artists, seleccionando las columnas `userID`, `artistID` y `weight`.\n",
    "5. Se renombra la columna `weight` como `nro_reproducciones` del dataframe `user_artist`.\n",
    "6. Se usa la función de pandas `merge` para unir los dataframes creados anteriormente para obtener así el dataframe `merged_df`.\n",
    "\n",
    "**Análisis y Conclusiones:**\n",
    "* Se consolida el dataframe `merged_df` con un total de cuatro (4) columnas y 92269 filas."
   ]
  },
  {
   "cell_type": "markdown",
   "id": "d778765a",
   "metadata": {
    "noteable": {
     "cell_type": "markdown"
    }
   },
   "source": [
    "### 2. Análisis preliminar. \n",
    "\n",
    "En esta sección exploraremos la base. Para ello responda las siguientes preguntas.\n",
    "\n",
    "#### 2.1 ¿Cuantos usuarios y artistas hay en la base?\n"
   ]
  },
  {
   "cell_type": "code",
   "execution_count": 6,
   "id": "612d64f7",
   "metadata": {},
   "outputs": [
    {
     "data": {
      "text/plain": [
       "userID       1880\n",
       "artistID    17568\n",
       "dtype: int64"
      ]
     },
     "execution_count": 6,
     "metadata": {},
     "output_type": "execute_result"
    }
   ],
   "source": [
    "merged_df[['userID', 'artistID']].nunique()"
   ]
  },
  {
   "cell_type": "markdown",
   "id": "8a08cc7d",
   "metadata": {},
   "source": [
    "**Procedimiento:**\n",
    "1. Aplicar un filtro a `merged_df` de las columnas `userID` y `artistID`.\n",
    "2. Usar `nunique` para determinar los valores únicos de las columnas seleccionadas.\n",
    "\n",
    "**Análisis y Conclusiones:**\n",
    "* Se encuentran 1880 usuarios únicos y 17568 artistas únicos."
   ]
  },
  {
   "cell_type": "markdown",
   "id": "a46bbd13",
   "metadata": {},
   "source": [
    "\n",
    "#### 2.2 ¿Cuáles es la distribución de probabilidad del consumo por artista? (haga el calculo sin ponderar y ponderando por el numero de reproducciones) ¿Qué podemos inferir a partir de la comparación de ambas?"
   ]
  },
  {
   "cell_type": "code",
   "execution_count": 7,
   "id": "ea6e2624",
   "metadata": {},
   "outputs": [
    {
     "data": {
      "text/html": [
       "<div>\n",
       "<style scoped>\n",
       "    .dataframe tbody tr th:only-of-type {\n",
       "        vertical-align: middle;\n",
       "    }\n",
       "\n",
       "    .dataframe tbody tr th {\n",
       "        vertical-align: top;\n",
       "    }\n",
       "\n",
       "    .dataframe thead th {\n",
       "        text-align: right;\n",
       "    }\n",
       "</style>\n",
       "<table border=\"1\" class=\"dataframe\">\n",
       "  <thead>\n",
       "    <tr style=\"text-align: right;\">\n",
       "      <th></th>\n",
       "      <th>artistID</th>\n",
       "      <th>sum</th>\n",
       "      <th>mean</th>\n",
       "      <th>count</th>\n",
       "      <th>Prob_sin_ponderar</th>\n",
       "    </tr>\n",
       "  </thead>\n",
       "  <tbody>\n",
       "    <tr>\n",
       "      <th>283</th>\n",
       "      <td>289</td>\n",
       "      <td>2392326</td>\n",
       "      <td>4609.491329</td>\n",
       "      <td>519</td>\n",
       "      <td>0.034826</td>\n",
       "    </tr>\n",
       "    <tr>\n",
       "      <th>66</th>\n",
       "      <td>72</td>\n",
       "      <td>1301193</td>\n",
       "      <td>4630.580071</td>\n",
       "      <td>281</td>\n",
       "      <td>0.018942</td>\n",
       "    </tr>\n",
       "    <tr>\n",
       "      <th>83</th>\n",
       "      <td>89</td>\n",
       "      <td>1288851</td>\n",
       "      <td>2126.816832</td>\n",
       "      <td>606</td>\n",
       "      <td>0.018762</td>\n",
       "    </tr>\n",
       "    <tr>\n",
       "      <th>286</th>\n",
       "      <td>292</td>\n",
       "      <td>1057943</td>\n",
       "      <td>2612.204938</td>\n",
       "      <td>405</td>\n",
       "      <td>0.015401</td>\n",
       "    </tr>\n",
       "    <tr>\n",
       "      <th>61</th>\n",
       "      <td>67</td>\n",
       "      <td>918568</td>\n",
       "      <td>2151.213115</td>\n",
       "      <td>427</td>\n",
       "      <td>0.013372</td>\n",
       "    </tr>\n",
       "  </tbody>\n",
       "</table>\n",
       "</div>"
      ],
      "text/plain": [
       "     artistID      sum         mean  count  Prob_sin_ponderar\n",
       "283       289  2392326  4609.491329    519           0.034826\n",
       "66         72  1301193  4630.580071    281           0.018942\n",
       "83         89  1288851  2126.816832    606           0.018762\n",
       "286       292  1057943  2612.204938    405           0.015401\n",
       "61         67   918568  2151.213115    427           0.013372"
      ]
     },
     "execution_count": 7,
     "metadata": {},
     "output_type": "execute_result"
    }
   ],
   "source": [
    "# Cálculo sin ponderar\n",
    "resumen_artistas = merged_df.groupby('artistID')['nro_reproducciones'].agg(['sum', 'mean', 'count']).reset_index()\n",
    "resumen_artistas['Prob_sin_ponderar'] = resumen_artistas['sum'] / resumen_artistas['sum'].sum()\n",
    "resumen_artistas = resumen_artistas.sort_values(by='Prob_sin_ponderar', ascending=False)\n",
    "resumen_artistas.head()"
   ]
  },
  {
   "cell_type": "code",
   "execution_count": 8,
   "id": "1e85a6d4",
   "metadata": {},
   "outputs": [
    {
     "data": {
      "text/html": [
       "<div>\n",
       "<style scoped>\n",
       "    .dataframe tbody tr th:only-of-type {\n",
       "        vertical-align: middle;\n",
       "    }\n",
       "\n",
       "    .dataframe tbody tr th {\n",
       "        vertical-align: top;\n",
       "    }\n",
       "\n",
       "    .dataframe thead th {\n",
       "        text-align: right;\n",
       "    }\n",
       "</style>\n",
       "<table border=\"1\" class=\"dataframe\">\n",
       "  <thead>\n",
       "    <tr style=\"text-align: right;\">\n",
       "      <th></th>\n",
       "      <th>artistID</th>\n",
       "      <th>sum</th>\n",
       "      <th>mean</th>\n",
       "      <th>count</th>\n",
       "      <th>Prob_sin_ponderar</th>\n",
       "      <th>Prob_count</th>\n",
       "      <th>Ponderado</th>\n",
       "      <th>Prob_ponderado</th>\n",
       "    </tr>\n",
       "  </thead>\n",
       "  <tbody>\n",
       "    <tr>\n",
       "      <th>283</th>\n",
       "      <td>289</td>\n",
       "      <td>2392326</td>\n",
       "      <td>4609.491329</td>\n",
       "      <td>519</td>\n",
       "      <td>0.034826</td>\n",
       "      <td>0.005625</td>\n",
       "      <td>13456.493449</td>\n",
       "      <td>0.121028</td>\n",
       "    </tr>\n",
       "    <tr>\n",
       "      <th>83</th>\n",
       "      <td>89</td>\n",
       "      <td>1288851</td>\n",
       "      <td>2126.816832</td>\n",
       "      <td>606</td>\n",
       "      <td>0.018762</td>\n",
       "      <td>0.006568</td>\n",
       "      <td>8464.855000</td>\n",
       "      <td>0.076133</td>\n",
       "    </tr>\n",
       "    <tr>\n",
       "      <th>282</th>\n",
       "      <td>288</td>\n",
       "      <td>902032</td>\n",
       "      <td>1879.233333</td>\n",
       "      <td>480</td>\n",
       "      <td>0.013131</td>\n",
       "      <td>0.005202</td>\n",
       "      <td>4692.533354</td>\n",
       "      <td>0.042205</td>\n",
       "    </tr>\n",
       "    <tr>\n",
       "      <th>286</th>\n",
       "      <td>292</td>\n",
       "      <td>1057943</td>\n",
       "      <td>2612.204938</td>\n",
       "      <td>405</td>\n",
       "      <td>0.015401</td>\n",
       "      <td>0.004389</td>\n",
       "      <td>4643.671385</td>\n",
       "      <td>0.041765</td>\n",
       "    </tr>\n",
       "    <tr>\n",
       "      <th>61</th>\n",
       "      <td>67</td>\n",
       "      <td>918568</td>\n",
       "      <td>2151.213115</td>\n",
       "      <td>427</td>\n",
       "      <td>0.013372</td>\n",
       "      <td>0.004628</td>\n",
       "      <td>4250.924319</td>\n",
       "      <td>0.038233</td>\n",
       "    </tr>\n",
       "  </tbody>\n",
       "</table>\n",
       "</div>"
      ],
      "text/plain": [
       "     artistID      sum         mean  count  Prob_sin_ponderar  Prob_count  \\\n",
       "283       289  2392326  4609.491329    519           0.034826    0.005625   \n",
       "83         89  1288851  2126.816832    606           0.018762    0.006568   \n",
       "282       288   902032  1879.233333    480           0.013131    0.005202   \n",
       "286       292  1057943  2612.204938    405           0.015401    0.004389   \n",
       "61         67   918568  2151.213115    427           0.013372    0.004628   \n",
       "\n",
       "        Ponderado  Prob_ponderado  \n",
       "283  13456.493449        0.121028  \n",
       "83    8464.855000        0.076133  \n",
       "282   4692.533354        0.042205  \n",
       "286   4643.671385        0.041765  \n",
       "61    4250.924319        0.038233  "
      ]
     },
     "execution_count": 8,
     "metadata": {},
     "output_type": "execute_result"
    }
   ],
   "source": [
    "# Cálculo ponderado\n",
    "resumen_artistas['Prob_count'] = resumen_artistas['count'] / resumen_artistas['count'].sum()\n",
    "resumen_artistas['Ponderado'] = resumen_artistas['sum'] * resumen_artistas['Prob_count']\n",
    "resumen_artistas['Prob_ponderado'] = resumen_artistas['Ponderado'] / resumen_artistas['Ponderado'].sum()\n",
    "resumen_artistas = resumen_artistas.sort_values(by='Prob_ponderado', ascending=False)\n",
    "resumen_artistas.head()"
   ]
  },
  {
   "cell_type": "markdown",
   "id": "297acbd9",
   "metadata": {},
   "source": [
    "**Procedimiento:**\n",
    "1. Usar un `groupby` para agrupar `nro_reproducciones` por la suma, media y recuento.\n",
    "2. Calcular el promedio de la suma de reproducciones por artista, y su respectivo porcentaje de participación.\n",
    "3. Ordenar esa participación de mayor a menor.\n",
    "4. Calcular el peso del recuento de usuarios que escuchan cada artista sobre la suma del recuento.\n",
    "5. Calcular el ponderado, el cual es la suma de reproducciones multiplicado por el peso calculado en el paso anterior, por cada artista.\n",
    "6. Sobre el ponderado, obtener la participación y ordenar de mayor a menor.\n",
    "\n",
    "**Análisis y Conclusiones:**\n",
    "* Para el análisis de promedio sin ponderar y promedio ponderado se puede observar que un artista como el 289 se ubica en el primer lugar para ambos escenarios. Artistas como los 89, 292 y 67 se mantienen en los primeros puestos para ambos escenarios, pero un artista como el 72, aunque cuenta con 1.3 millones de reproducciones, no se muestra en el segundo escenario (promedio ponderado) dado que el peso del número de usuarios que lo escuchan implica que su ponderado sea castigado y no se muestre entre los cinco (5) primeros."
   ]
  },
  {
   "cell_type": "markdown",
   "id": "ff660c35",
   "metadata": {
    "noteable": {
     "cell_type": "markdown"
    }
   },
   "source": [
    "#### 2.3 Para el usuario 8 (`userID==8`) ¿cuál es la distribución de reproducción de artistas basado en el número de reproducciones relativas?. Presente sus resultados usando tablas y/o gráficas. ¿Encuentra algún patrón en los artistas que escucha y las veces que reproduce? ¿Podemos decir algo de sus preferencias?\n"
   ]
  },
  {
   "cell_type": "code",
   "execution_count": 9,
   "id": "eeb58d7d",
   "metadata": {},
   "outputs": [
    {
     "name": "stderr",
     "output_type": "stream",
     "text": [
      "C:\\Users\\Felipe\\AppData\\Local\\Temp\\ipykernel_25592\\2495445787.py:3: SettingWithCopyWarning: \n",
      "A value is trying to be set on a copy of a slice from a DataFrame.\n",
      "Try using .loc[row_indexer,col_indexer] = value instead\n",
      "\n",
      "See the caveats in the documentation: https://pandas.pydata.org/pandas-docs/stable/user_guide/indexing.html#returning-a-view-versus-a-copy\n",
      "  usuario_8['Reproducciones_relativas'] = usuario_8['nro_reproducciones'] / usuario_8['nro_reproducciones'].sum()\n"
     ]
    },
    {
     "data": {
      "image/png": "[encoded data removed]",
      "text/plain": [
       "<Figure size 864x432 with 1 Axes>"
      ]
     },
     "metadata": {
      "needs_background": "light"
     },
     "output_type": "display_data"
    }
   ],
   "source": [
    "usuario_8 = merged_df[merged_df['userID'] == 8]\n",
    "\n",
    "usuario_8['Reproducciones_relativas'] = usuario_8['nro_reproducciones'] / usuario_8['nro_reproducciones'].sum()\n",
    "\n",
    "plt.figure(figsize=(12, 6))\n",
    "plt.bar(usuario_8['artistID'], usuario_8['Reproducciones_relativas'])\n",
    "plt.xlabel('ID del Artista')\n",
    "plt.ylabel('Reproducciones Relativas')\n",
    "plt.title('Distribución de Reproducciones Relativas para el Usuario 8')\n",
    "plt.xticks(rotation=90)\n",
    "plt.show()"
   ]
  },
  {
   "cell_type": "code",
   "execution_count": 10,
   "id": "a14a66dd",
   "metadata": {},
   "outputs": [
    {
     "data": {
      "text/html": [
       "<div>\n",
       "<style scoped>\n",
       "    .dataframe tbody tr th:only-of-type {\n",
       "        vertical-align: middle;\n",
       "    }\n",
       "\n",
       "    .dataframe tbody tr th {\n",
       "        vertical-align: top;\n",
       "    }\n",
       "\n",
       "    .dataframe thead th {\n",
       "        text-align: right;\n",
       "    }\n",
       "</style>\n",
       "<table border=\"1\" class=\"dataframe\">\n",
       "  <thead>\n",
       "    <tr style=\"text-align: right;\">\n",
       "      <th></th>\n",
       "      <th>userID</th>\n",
       "      <th>userName</th>\n",
       "      <th>artistID</th>\n",
       "      <th>nro_reproducciones</th>\n",
       "      <th>Reproducciones_relativas</th>\n",
       "    </tr>\n",
       "  </thead>\n",
       "  <tbody>\n",
       "    <tr>\n",
       "      <th>317</th>\n",
       "      <td>8</td>\n",
       "      <td>DIR EN GREY</td>\n",
       "      <td>334</td>\n",
       "      <td>6291</td>\n",
       "      <td>0.173406</td>\n",
       "    </tr>\n",
       "    <tr>\n",
       "      <th>318</th>\n",
       "      <td>8</td>\n",
       "      <td>DIR EN GREY</td>\n",
       "      <td>335</td>\n",
       "      <td>2396</td>\n",
       "      <td>0.066044</td>\n",
       "    </tr>\n",
       "    <tr>\n",
       "      <th>307</th>\n",
       "      <td>8</td>\n",
       "      <td>DIR EN GREY</td>\n",
       "      <td>289</td>\n",
       "      <td>2258</td>\n",
       "      <td>0.062240</td>\n",
       "    </tr>\n",
       "    <tr>\n",
       "      <th>319</th>\n",
       "      <td>8</td>\n",
       "      <td>DIR EN GREY</td>\n",
       "      <td>336</td>\n",
       "      <td>1735</td>\n",
       "      <td>0.047824</td>\n",
       "    </tr>\n",
       "    <tr>\n",
       "      <th>310</th>\n",
       "      <td>8</td>\n",
       "      <td>DIR EN GREY</td>\n",
       "      <td>295</td>\n",
       "      <td>1425</td>\n",
       "      <td>0.039279</td>\n",
       "    </tr>\n",
       "    <tr>\n",
       "      <th>320</th>\n",
       "      <td>8</td>\n",
       "      <td>DIR EN GREY</td>\n",
       "      <td>337</td>\n",
       "      <td>1407</td>\n",
       "      <td>0.038783</td>\n",
       "    </tr>\n",
       "    <tr>\n",
       "      <th>311</th>\n",
       "      <td>8</td>\n",
       "      <td>DIR EN GREY</td>\n",
       "      <td>296</td>\n",
       "      <td>1039</td>\n",
       "      <td>0.028639</td>\n",
       "    </tr>\n",
       "    <tr>\n",
       "      <th>321</th>\n",
       "      <td>8</td>\n",
       "      <td>DIR EN GREY</td>\n",
       "      <td>338</td>\n",
       "      <td>963</td>\n",
       "      <td>0.026544</td>\n",
       "    </tr>\n",
       "    <tr>\n",
       "      <th>301</th>\n",
       "      <td>8</td>\n",
       "      <td>DIR EN GREY</td>\n",
       "      <td>89</td>\n",
       "      <td>921</td>\n",
       "      <td>0.025387</td>\n",
       "    </tr>\n",
       "    <tr>\n",
       "      <th>322</th>\n",
       "      <td>8</td>\n",
       "      <td>DIR EN GREY</td>\n",
       "      <td>339</td>\n",
       "      <td>819</td>\n",
       "      <td>0.022575</td>\n",
       "    </tr>\n",
       "    <tr>\n",
       "      <th>323</th>\n",
       "      <td>8</td>\n",
       "      <td>DIR EN GREY</td>\n",
       "      <td>340</td>\n",
       "      <td>800</td>\n",
       "      <td>0.022051</td>\n",
       "    </tr>\n",
       "  </tbody>\n",
       "</table>\n",
       "</div>"
      ],
      "text/plain": [
       "     userID     userName  artistID  nro_reproducciones  \\\n",
       "317       8  DIR EN GREY       334                6291   \n",
       "318       8  DIR EN GREY       335                2396   \n",
       "307       8  DIR EN GREY       289                2258   \n",
       "319       8  DIR EN GREY       336                1735   \n",
       "310       8  DIR EN GREY       295                1425   \n",
       "320       8  DIR EN GREY       337                1407   \n",
       "311       8  DIR EN GREY       296                1039   \n",
       "321       8  DIR EN GREY       338                 963   \n",
       "301       8  DIR EN GREY        89                 921   \n",
       "322       8  DIR EN GREY       339                 819   \n",
       "323       8  DIR EN GREY       340                 800   \n",
       "\n",
       "     Reproducciones_relativas  \n",
       "317                  0.173406  \n",
       "318                  0.066044  \n",
       "307                  0.062240  \n",
       "319                  0.047824  \n",
       "310                  0.039279  \n",
       "320                  0.038783  \n",
       "311                  0.028639  \n",
       "321                  0.026544  \n",
       "301                  0.025387  \n",
       "322                  0.022575  \n",
       "323                  0.022051  "
      ]
     },
     "execution_count": 10,
     "metadata": {},
     "output_type": "execute_result"
    }
   ],
   "source": [
    "usuario_8 = usuario_8.sort_values(by='Reproducciones_relativas', ascending=False)\n",
    "usuario_8.head(11)"
   ]
  },
  {
   "cell_type": "markdown",
   "id": "092e4c9e",
   "metadata": {},
   "source": [
    "**Procedimiento:**\n",
    "1. Crear un dataframe para filtrar las reproducciones del usuario 8.\n",
    "2. Crear la columna `Reproducciones_relativas` la cual se calcula como las reproducciones por artista dividido el total de reproducciones del usuario 8.\n",
    "3. Graficar las reproducciones relativas con matplotlib.\n",
    "4. Ordenar el dataframe del usuario 8 por Reproducciones relativas y obtener el top 11.\n",
    "\n",
    "**Análisis y Conclusiones:**\n",
    "* De acuerdo a la gráfica se puede observar que hay un grupo condensado entre los artistas 334 hasta 340 con niveles de reproducción altos. Entre el top 10 también se encuentran los artistas 289, 295 y 296."
   ]
  },
  {
   "cell_type": "markdown",
   "metadata": {
    "noteable": {
     "cell_type": "markdown"
    }
   },
   "source": [
    "### 3. Generando Recomendaciones\n",
    "\n",
    "En esta sección nos interesa generar recomendaciones ***nuevas y relevantes*** para el usuario 8 (`userID==8`). Para ello vamos a generar distintos sistemas de recomendación y comparar las recomendaciones generadas."
   ]
  },
  {
   "cell_type": "markdown",
   "metadata": {
    "noteable": {
     "cell_type": "markdown"
    }
   },
   "source": [
    "#### 3.1. Filtrado colaborativo sencillo: promedios simples.\n",
    "\n",
    "Usando el promedio simple basado en el número de usuarios que escucha un artista (sin considerar el número de veces que estos usuarios reproducen al artista) genere una tabla y/o gráfica con 10 recomendaciones de artistas para este usuario. Explique con cuidado su procedimiento y justifique sus elecciones."
   ]
  },
  {
   "cell_type": "code",
   "execution_count": 34,
   "metadata": {},
   "outputs": [
    {
     "name": "stdout",
     "output_type": "stream",
     "text": [
      "     artistID  conteo_usuarios\n",
      "83         89            606.0\n",
      "283       289            519.0\n",
      "282       288            480.0\n",
      "221       227            478.0\n",
      "294       300            472.0\n",
      "61         67            427.0\n",
      "327       333            415.0\n",
      "286       292            405.0\n",
      "184       190            398.0\n",
      "492       498            396.0\n"
     ]
    }
   ],
   "source": [
    "# Utilice este espacio para escribir el código.\n",
    "# Importamos la función train_test_split \n",
    "from sklearn.model_selection import train_test_split\n",
    "\n",
    "db = merged_df\n",
    "\n",
    "# Agregar una columna con el conteo de usuarios por artista\n",
    "db['conteo_usuarios'] = db.groupby('artistID')['userID'].transform('nunique')\n",
    "\n",
    "# Calcular el promedio simple de usuarios que escuchan a cada artista\n",
    "promedio_usuarios_por_artista = db.groupby('artistID')['conteo_usuarios'].mean().reset_index()\n",
    "\n",
    "# Ordenar los artistas por el promedio en orden descendente\n",
    "promedio_usuarios_por_artista = promedio_usuarios_por_artista.sort_values(by='conteo_usuarios', ascending=False)\n",
    "\n",
    "# Tomar las 10 mejores recomendaciones basadas en el promedio de usuarios\n",
    "top_10_recomendaciones = promedio_usuarios_por_artista.head(10)\n",
    "\n",
    "# Imprimir las recomendaciones\n",
    "print(top_10_recomendaciones)"
   ]
  },
  {
   "cell_type": "code",
   "execution_count": null,
   "id": "82269a88",
   "metadata": {},
   "outputs": [],
   "source": [
    "   \n",
    "#Asignamos `X` como la base original de número de vistas `y` el usuario \n",
    "   \n",
    "X = ratings.copy()\n",
    "y = ratings['user_id']\n",
    "\n",
    "# Partimos la base en entrenamiento y prueba estratificando por usuario\n",
    "X_train, X_test, y_train, y_test = train_test_split(X, y, test_size = 0.25, stratify=y, random_state=42)"
   ]
  },
  {
   "cell_type": "markdown",
   "metadata": {},
   "source": [
    "**Procedimiento:**\n",
    "\n",
    "**Análisis y Conclusiones:**"
   ]
  },
  {
   "cell_type": "markdown",
   "metadata": {},
   "source": [
    "#### 3.2.  Filtrado colaborativo sencillo: promedios ponderados.\n",
    "\n",
    "Usando el promedio ponderado basado en el número de usuarios que escucha un artista  y ponderando  por el número de veces que estos usuarios reproducen al artista (`nro_reproducciones`) genere una tabla y/o gráfica con 10 recomendaciones de artistas para este usuario. Explique con cuidado su procedimiento y justifique sus elecciones. Compare las recomendaciones con el sistema implementado en el paso anterior.\n"
   ]
  },
  {
   "cell_type": "code",
   "execution_count": 42,
   "metadata": {},
   "outputs": [
    {
     "data": {
      "text/html": [
       "<div>\n",
       "<style scoped>\n",
       "    .dataframe tbody tr th:only-of-type {\n",
       "        vertical-align: middle;\n",
       "    }\n",
       "\n",
       "    .dataframe tbody tr th {\n",
       "        vertical-align: top;\n",
       "    }\n",
       "\n",
       "    .dataframe thead th {\n",
       "        text-align: right;\n",
       "    }\n",
       "</style>\n",
       "<table border=\"1\" class=\"dataframe\">\n",
       "  <thead>\n",
       "    <tr style=\"text-align: right;\">\n",
       "      <th>artistID</th>\n",
       "      <th>1</th>\n",
       "      <th>2</th>\n",
       "      <th>3</th>\n",
       "      <th>4</th>\n",
       "      <th>5</th>\n",
       "      <th>6</th>\n",
       "      <th>7</th>\n",
       "      <th>8</th>\n",
       "      <th>9</th>\n",
       "      <th>10</th>\n",
       "      <th>...</th>\n",
       "      <th>18736</th>\n",
       "      <th>18737</th>\n",
       "      <th>18738</th>\n",
       "      <th>18739</th>\n",
       "      <th>18740</th>\n",
       "      <th>18741</th>\n",
       "      <th>18742</th>\n",
       "      <th>18743</th>\n",
       "      <th>18744</th>\n",
       "      <th>18745</th>\n",
       "    </tr>\n",
       "    <tr>\n",
       "      <th>userID</th>\n",
       "      <th></th>\n",
       "      <th></th>\n",
       "      <th></th>\n",
       "      <th></th>\n",
       "      <th></th>\n",
       "      <th></th>\n",
       "      <th></th>\n",
       "      <th></th>\n",
       "      <th></th>\n",
       "      <th></th>\n",
       "      <th></th>\n",
       "      <th></th>\n",
       "      <th></th>\n",
       "      <th></th>\n",
       "      <th></th>\n",
       "      <th></th>\n",
       "      <th></th>\n",
       "      <th></th>\n",
       "      <th></th>\n",
       "      <th></th>\n",
       "      <th></th>\n",
       "    </tr>\n",
       "  </thead>\n",
       "  <tbody>\n",
       "    <tr>\n",
       "      <th>2</th>\n",
       "      <td>NaN</td>\n",
       "      <td>NaN</td>\n",
       "      <td>NaN</td>\n",
       "      <td>NaN</td>\n",
       "      <td>NaN</td>\n",
       "      <td>NaN</td>\n",
       "      <td>NaN</td>\n",
       "      <td>NaN</td>\n",
       "      <td>NaN</td>\n",
       "      <td>NaN</td>\n",
       "      <td>...</td>\n",
       "      <td>NaN</td>\n",
       "      <td>NaN</td>\n",
       "      <td>NaN</td>\n",
       "      <td>NaN</td>\n",
       "      <td>NaN</td>\n",
       "      <td>NaN</td>\n",
       "      <td>NaN</td>\n",
       "      <td>NaN</td>\n",
       "      <td>NaN</td>\n",
       "      <td>NaN</td>\n",
       "    </tr>\n",
       "    <tr>\n",
       "      <th>3</th>\n",
       "      <td>NaN</td>\n",
       "      <td>NaN</td>\n",
       "      <td>NaN</td>\n",
       "      <td>NaN</td>\n",
       "      <td>NaN</td>\n",
       "      <td>NaN</td>\n",
       "      <td>NaN</td>\n",
       "      <td>NaN</td>\n",
       "      <td>NaN</td>\n",
       "      <td>NaN</td>\n",
       "      <td>...</td>\n",
       "      <td>NaN</td>\n",
       "      <td>NaN</td>\n",
       "      <td>NaN</td>\n",
       "      <td>NaN</td>\n",
       "      <td>NaN</td>\n",
       "      <td>NaN</td>\n",
       "      <td>NaN</td>\n",
       "      <td>NaN</td>\n",
       "      <td>NaN</td>\n",
       "      <td>NaN</td>\n",
       "    </tr>\n",
       "    <tr>\n",
       "      <th>4</th>\n",
       "      <td>NaN</td>\n",
       "      <td>NaN</td>\n",
       "      <td>NaN</td>\n",
       "      <td>NaN</td>\n",
       "      <td>NaN</td>\n",
       "      <td>NaN</td>\n",
       "      <td>NaN</td>\n",
       "      <td>NaN</td>\n",
       "      <td>NaN</td>\n",
       "      <td>NaN</td>\n",
       "      <td>...</td>\n",
       "      <td>NaN</td>\n",
       "      <td>NaN</td>\n",
       "      <td>NaN</td>\n",
       "      <td>NaN</td>\n",
       "      <td>NaN</td>\n",
       "      <td>NaN</td>\n",
       "      <td>NaN</td>\n",
       "      <td>NaN</td>\n",
       "      <td>NaN</td>\n",
       "      <td>NaN</td>\n",
       "    </tr>\n",
       "    <tr>\n",
       "      <th>5</th>\n",
       "      <td>NaN</td>\n",
       "      <td>NaN</td>\n",
       "      <td>NaN</td>\n",
       "      <td>NaN</td>\n",
       "      <td>NaN</td>\n",
       "      <td>NaN</td>\n",
       "      <td>NaN</td>\n",
       "      <td>NaN</td>\n",
       "      <td>NaN</td>\n",
       "      <td>NaN</td>\n",
       "      <td>...</td>\n",
       "      <td>NaN</td>\n",
       "      <td>NaN</td>\n",
       "      <td>NaN</td>\n",
       "      <td>NaN</td>\n",
       "      <td>NaN</td>\n",
       "      <td>NaN</td>\n",
       "      <td>NaN</td>\n",
       "      <td>NaN</td>\n",
       "      <td>NaN</td>\n",
       "      <td>NaN</td>\n",
       "    </tr>\n",
       "    <tr>\n",
       "      <th>6</th>\n",
       "      <td>NaN</td>\n",
       "      <td>NaN</td>\n",
       "      <td>NaN</td>\n",
       "      <td>NaN</td>\n",
       "      <td>NaN</td>\n",
       "      <td>NaN</td>\n",
       "      <td>NaN</td>\n",
       "      <td>NaN</td>\n",
       "      <td>NaN</td>\n",
       "      <td>NaN</td>\n",
       "      <td>...</td>\n",
       "      <td>NaN</td>\n",
       "      <td>NaN</td>\n",
       "      <td>NaN</td>\n",
       "      <td>NaN</td>\n",
       "      <td>NaN</td>\n",
       "      <td>NaN</td>\n",
       "      <td>NaN</td>\n",
       "      <td>NaN</td>\n",
       "      <td>NaN</td>\n",
       "      <td>NaN</td>\n",
       "    </tr>\n",
       "  </tbody>\n",
       "</table>\n",
       "<p>5 rows × 17568 columns</p>\n",
       "</div>"
      ],
      "text/plain": [
       "artistID  1      2      3      4      5      6      7      8      9      \\\n",
       "userID                                                                    \n",
       "2           NaN    NaN    NaN    NaN    NaN    NaN    NaN    NaN    NaN   \n",
       "3           NaN    NaN    NaN    NaN    NaN    NaN    NaN    NaN    NaN   \n",
       "4           NaN    NaN    NaN    NaN    NaN    NaN    NaN    NaN    NaN   \n",
       "5           NaN    NaN    NaN    NaN    NaN    NaN    NaN    NaN    NaN   \n",
       "6           NaN    NaN    NaN    NaN    NaN    NaN    NaN    NaN    NaN   \n",
       "\n",
       "artistID  10     ...  18736  18737  18738  18739  18740  18741  18742  18743  \\\n",
       "userID           ...                                                           \n",
       "2           NaN  ...    NaN    NaN    NaN    NaN    NaN    NaN    NaN    NaN   \n",
       "3           NaN  ...    NaN    NaN    NaN    NaN    NaN    NaN    NaN    NaN   \n",
       "4           NaN  ...    NaN    NaN    NaN    NaN    NaN    NaN    NaN    NaN   \n",
       "5           NaN  ...    NaN    NaN    NaN    NaN    NaN    NaN    NaN    NaN   \n",
       "6           NaN  ...    NaN    NaN    NaN    NaN    NaN    NaN    NaN    NaN   \n",
       "\n",
       "artistID  18744  18745  \n",
       "userID                  \n",
       "2           NaN    NaN  \n",
       "3           NaN    NaN  \n",
       "4           NaN    NaN  \n",
       "5           NaN    NaN  \n",
       "6           NaN    NaN  \n",
       "\n",
       "[5 rows x 17568 columns]"
      ]
     },
     "execution_count": 42,
     "metadata": {},
     "output_type": "execute_result"
    }
   ],
   "source": [
    "# Utilice este espacio para escribir el código."
   ]
  },
  {
   "cell_type": "markdown",
   "metadata": {},
   "source": [
    "**Procedimiento:**\n",
    "\n",
    "**Análisis y Conclusiones:**"
   ]
  },
  {
   "cell_type": "markdown",
   "metadata": {
    "noteable": {
     "cell_type": "markdown"
    }
   },
   "source": [
    "#### 3.3.  Filtrado colaborativo sencillo: similitud de coseno.\n",
    "\n",
    "Usando el promedio ponderado de reproducciones genere una tabla y/o gráfica  con 10 recomendaciones de artistas para este usuario. Para generar los pesos utilice la distancia de coseno. Explique con cuidado su procedimiento y justifique sus elecciones. Compare las recomendaciones con el sistema implementado en el paso anterior."
   ]
  },
  {
   "cell_type": "code",
   "execution_count": 55,
   "metadata": {},
   "outputs": [],
   "source": [
    "# Utilice este espacio para escribir el código.\n",
    "\n",
    "# Se crea la matriz\n",
    "\n",
    "r_matrix = merged_df.pivot_table(values='nro_reproducciones', index='userID', columns='artistID')\n",
    "\n",
    "\n",
    "# Rellenamos los faltantes con 0\n",
    "r_matrix_dummy = r_matrix.copy().fillna(0)\n",
    "\n",
    "# Importamos cosine_similarity \n",
    "from sklearn.metrics.pairwise import cosine_similarity\n",
    "\n",
    "#Calculamos la similitud de coseno \n",
    "cosine_sim = cosine_similarity(r_matrix_dummy, r_matrix_dummy)\n",
    "\n",
    "# Transformamos la matriz resultante en un dataframe\n",
    "cosine_sim = pd.DataFrame(cosine_sim, index=r_matrix.index, columns=r_matrix.index)\n",
    "\n",
    "## Creamos el modelo\n",
    "\n",
    "def cf_user_wmean(userID, artistID):\n",
    "    \n",
    "    # Primero verificamos si la película esta en la matriz\n",
    "    if artistID in r_matrix:\n",
    "    \n",
    "        #Buscamos las medidas de similitud con los otros usuarios\n",
    "        sim_scores = cosine_sim[userID]\n",
    "        \n",
    "        \n",
    "        # Obtenemos el nro. reproducciones no faltantes de la matriz bajo evaluación\n",
    "        m_repr = r_matrix[artistID]\n",
    "        \n",
    "         # Obtenemos los índicies de los artistas sin reproducciones \n",
    "        idx = m_repr[m_repr.isnull()].index\n",
    "        \n",
    "        # Nos quedamos con similitudes y reproducciones completos\n",
    "        sim_scores = sim_scores.drop(idx)\n",
    "        m_repr = m_repr.dropna()\n",
    "        \n",
    "        # Calculamos la media ponderada\n",
    "        wmean_repr = np.dot(sim_scores, m_repr)/ sim_scores.sum()\n",
    "    \n",
    "    else:\n",
    "        # Si no tenemos ninguna información retornamos 3\n",
    "        wmean_repr = 3.0\n",
    "    \n",
    "    return wmean_repr"
   ]
  },
  {
   "cell_type": "code",
   "execution_count": 57,
   "id": "2c941006",
   "metadata": {},
   "outputs": [
    {
     "name": "stderr",
     "output_type": "stream",
     "text": [
      "C:\\Users\\Felipe\\AppData\\Local\\Temp\\ipykernel_25592\\3369751988.py:42: RuntimeWarning: invalid value encountered in double_scalars\n",
      "  wmean_repr = np.dot(sim_scores, m_repr)/ sim_scores.sum()\n",
      "C:\\Users\\Felipe\\AppData\\Local\\Temp\\ipykernel_25592\\3369751988.py:42: RuntimeWarning: invalid value encountered in double_scalars\n",
      "  wmean_repr = np.dot(sim_scores, m_repr)/ sim_scores.sum()\n",
      "C:\\Users\\Felipe\\AppData\\Local\\Temp\\ipykernel_25592\\3369751988.py:42: RuntimeWarning: invalid value encountered in double_scalars\n",
      "  wmean_repr = np.dot(sim_scores, m_repr)/ sim_scores.sum()\n",
      "C:\\Users\\Felipe\\AppData\\Local\\Temp\\ipykernel_25592\\3369751988.py:42: RuntimeWarning: invalid value encountered in double_scalars\n",
      "  wmean_repr = np.dot(sim_scores, m_repr)/ sim_scores.sum()\n",
      "C:\\Users\\Felipe\\AppData\\Local\\Temp\\ipykernel_25592\\3369751988.py:42: RuntimeWarning: invalid value encountered in double_scalars\n",
      "  wmean_repr = np.dot(sim_scores, m_repr)/ sim_scores.sum()\n",
      "C:\\Users\\Felipe\\AppData\\Local\\Temp\\ipykernel_25592\\3369751988.py:42: RuntimeWarning: invalid value encountered in double_scalars\n",
      "  wmean_repr = np.dot(sim_scores, m_repr)/ sim_scores.sum()\n",
      "C:\\Users\\Felipe\\AppData\\Local\\Temp\\ipykernel_25592\\3369751988.py:42: RuntimeWarning: invalid value encountered in double_scalars\n",
      "  wmean_repr = np.dot(sim_scores, m_repr)/ sim_scores.sum()\n",
      "C:\\Users\\Felipe\\AppData\\Local\\Temp\\ipykernel_25592\\3369751988.py:42: RuntimeWarning: invalid value encountered in double_scalars\n",
      "  wmean_repr = np.dot(sim_scores, m_repr)/ sim_scores.sum()\n",
      "C:\\Users\\Felipe\\AppData\\Local\\Temp\\ipykernel_25592\\3369751988.py:42: RuntimeWarning: invalid value encountered in double_scalars\n",
      "  wmean_repr = np.dot(sim_scores, m_repr)/ sim_scores.sum()\n",
      "C:\\Users\\Felipe\\AppData\\Local\\Temp\\ipykernel_25592\\3369751988.py:42: RuntimeWarning: invalid value encountered in double_scalars\n",
      "  wmean_repr = np.dot(sim_scores, m_repr)/ sim_scores.sum()\n"
     ]
    },
    {
     "name": "stdout",
     "output_type": "stream",
     "text": [
      "Recomendaciones para el usuario 8 basadas en similitud de coseno y promedio ponderado de reproducciones:\n",
      "        weighted_mean\n",
      "userID               \n",
      "8                 NaN\n",
      "781               NaN\n",
      "271               NaN\n",
      "873               NaN\n",
      "339               NaN\n",
      "1606              NaN\n",
      "667               NaN\n",
      "130               NaN\n",
      "417               NaN\n",
      "1894              NaN\n"
     ]
    }
   ],
   "source": []
  },
  {
   "cell_type": "markdown",
   "metadata": {},
   "source": [
    "**Procedimiento:**\n",
    "\n",
    "**Análisis y Conclusiones:**"
   ]
  },
  {
   "cell_type": "markdown",
   "metadata": {
    "noteable": {
     "cell_type": "markdown"
    }
   },
   "source": [
    "#### 3.4.  Filtrado colaborativo usando SVD\n",
    "\n",
    "\n",
    "Usando la descomposición en valores singulares (SVD) genere una tabla y/o gráfica  con 10 recomendaciones de artistas para este usuario.  Explique con cuidado su procedimiento y justifique sus elecciones. Compare las recomendaciones con el sistema implementado en los pasos anteriores.\n"
   ]
  },
  {
   "cell_type": "code",
   "execution_count": 14,
   "metadata": {},
   "outputs": [],
   "source": [
    "# Utilice este espacio para escribir el código."
   ]
  },
  {
   "cell_type": "markdown",
   "metadata": {
    "ExecuteTime": {
     "end_time": "2023-07-20T13:08:53.953788+00:00",
     "start_time": "2023-07-20T13:08:00.765701+00:00"
    },
    "noteable": {
     "cell_type": "code",
     "output_collection_id": "7748407e-0324-4bc3-a209-c6a2068ebdf2"
    }
   },
   "source": [
    "**Procedimiento:**\n",
    "\n",
    "**Análisis y Conclusiones:**"
   ]
  },
  {
   "cell_type": "markdown",
   "metadata": {
    "noteable": {
     "cell_type": "markdown"
    }
   },
   "source": [
    "#### 3.5.  Filtrado colaborativo usando Análisis de Canasta de Compra\n",
    "\n",
    "Usando  el algoritmo `Apriori` genere una tabla y/o gráfica  con 10 recomendaciones de artistas para este usuario.  Explique con cuidado su procedimiento y justifique sus elecciones. Compare las recomendaciones con el sistema implementado en los pasos anteriores. Esto puede tomar mucho tiempo, sea cuidadoso al elegir los hiper-parámetors del modelo, utilice los resultados de las estadísticas descriptivas para elegir sus hier-parámetros, y genere solo reglas con 2 elementos. (Puede también aprovechar los recursos de [Google Colab](https://colab.research.google.com/))\n"
   ]
  },
  {
   "cell_type": "code",
   "execution_count": 15,
   "metadata": {},
   "outputs": [],
   "source": [
    "# Utilice este espacio para escribir el código."
   ]
  },
  {
   "cell_type": "markdown",
   "metadata": {
    "ExecuteTime": null,
    "noteable": {
     "cell_type": "code",
     "output_collection_id": "c81565ab-5de5-49a9-819f-ca3f6f442a3c"
    }
   },
   "source": [
    "**Procedimiento:**\n",
    "\n",
    "**Análisis y Conclusiones:**"
   ]
  },
  {
   "cell_type": "markdown",
   "metadata": {},
   "source": [
    "### 4. Recomendaciones generales \n",
    "\n",
    "De acuerdo con los resultados encontrados, en su opinión ¿qué procedimiento generó las mejores recomendaciones para este usuario? ¿Cómo implementaría una evaluación objetiva de estas recomendaciones? Justifique su respuesta."
   ]
  },
  {
   "cell_type": "markdown",
   "metadata": {},
   "source": [
    "**Procedimiento:**\n",
    "\n",
    "**Análisis y Conclusiones:**"
   ]
  }
 ],
 "metadata": {
  "kernelspec": {
   "display_name": "Python 3",
   "language": "python",
   "name": "python3"
  },
  "language_info": {
   "codemirror_mode": {
    "name": "ipython",
    "version": 3
   },
   "file_extension": ".py",
   "mimetype": "text/x-python",
   "name": "python",
   "nbconvert_exporter": "python",
   "pygments_lexer": "ipython3",
   "version": "3.9.12"
  },
  "noteable": {
   "last_transaction_id": "6d8b1923-2053-48b7-b0ac-3ca8bd83674a"
  },
  "selected_hardware_size": "small",
  "toc": {
   "base_numbering": 1,
   "nav_menu": {},
   "number_sections": true,
   "sideBar": true,
   "skip_h1_title": false,
   "title_cell": "Table of Contents",
   "title_sidebar": "Contents",
   "toc_cell": false,
   "toc_position": {},
   "toc_section_display": true,
   "toc_window_display": true
  }
 },
 "nbformat": 4,
 "nbformat_minor": 5
}
